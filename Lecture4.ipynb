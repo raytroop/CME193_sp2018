{
 "cells": [
  {
   "cell_type": "code",
   "execution_count": 1,
   "metadata": {
    "slideshow": {
     "slide_type": "skip"
    }
   },
   "outputs": [
    {
     "data": {
      "text/plain": [
       "{'start_slideshow_at': 'selected', 'theme': 'simple', 'transition': 'linear'}"
      ]
     },
     "execution_count": 1,
     "metadata": {},
     "output_type": "execute_result"
    }
   ],
   "source": [
    "from traitlets.config.manager import BaseJSONConfigManager\n",
    "# To make this work, replace path with your own:\n",
    "# On the command line, type juypter --paths to see where your nbconfig is stored\n",
    "# Should be in the environment in which you install reveal.js\n",
    "path = \" /Users/Blake/.virtualenvs/cme193/bin/../etc/jupyter\"\n",
    "cm = BaseJSONConfigManager(config_dir=path)\n",
    "cm.update('livereveal', {\n",
    "              'theme': 'simple',\n",
    "              'transition': 'linear',\n",
    "              'start_slideshow_at': 'selected',\n",
    "    })"
   ]
  },
  {
   "cell_type": "code",
   "execution_count": 2,
   "metadata": {
    "slideshow": {
     "slide_type": "skip"
    }
   },
   "outputs": [
    {
     "data": {
      "text/html": [
       "<link rel=\"stylesheet\" type=\"text/css\" href=\"custom.css\">"
      ],
      "text/plain": [
       "<IPython.core.display.HTML object>"
      ]
     },
     "metadata": {},
     "output_type": "display_data"
    }
   ],
   "source": [
    "%%HTML \n",
    "<link rel=\"stylesheet\" type=\"text/css\" href=\"custom.css\">"
   ]
  },
  {
   "cell_type": "markdown",
   "metadata": {
    "nbpresent": {
     "id": "a499af69-0fe0-4eb0-b156-5f5396da619d"
    },
    "slideshow": {
     "slide_type": "slide"
    }
   },
   "source": [
    "# CME 193 \n",
    "## Introduction to Scientific Python\n",
    "## Spring 2018\n",
    "\n",
    "<br>\n",
    "\n",
    "## Lecture 4\n",
    "-------------\n",
    "## File I/O and Object Oriented Programming"
   ]
  },
  {
   "cell_type": "markdown",
   "metadata": {
    "nbpresent": {
     "id": "487809eb-b9d2-4bcc-8942-ca61011c3204"
    },
    "slideshow": {
     "slide_type": "slide"
    }
   },
   "source": [
    "# Lecture 4 Contents\n",
    "\n",
    "* Quick Review\n",
    " * Collections\n",
    "\n",
    "* File I/O Basics\n",
    "  \n",
    "* Python object model\n",
    "\n",
    "* Object oriented programming\n",
    "\n",
    "* HW1/Exercises"
   ]
  },
  {
   "cell_type": "markdown",
   "metadata": {
    "slideshow": {
     "slide_type": "skip"
    }
   },
   "source": [
    "---"
   ]
  },
  {
   "cell_type": "markdown",
   "metadata": {
    "slideshow": {
     "slide_type": "slide"
    }
   },
   "source": [
    "# Collections\n"
   ]
  },
  {
   "cell_type": "markdown",
   "metadata": {
    "slideshow": {
     "slide_type": "subslide"
    }
   },
   "source": [
    "## List\n",
    "\n",
    "- Ordered, mutable container; square brackets (`[]`);\n",
    "\n",
    "\n",
    "## Tuple\n",
    "- Ordered, immutable container; parens `()`; \n",
    "\n",
    "\n",
    "\n",
    "## Dictionary\n",
    "\n",
    "- Unordered collection of key-value pairs; no duplicate keys; curly braces (`{k:v}`) \n",
    "- See `Counter` in your Exercises\n",
    "\n",
    "\n",
    "## Set\n",
    "\n",
    "- Like the (unordered) keys of an dictionary; curly braces (`{}`);"
   ]
  },
  {
   "cell_type": "markdown",
   "metadata": {
    "slideshow": {
     "slide_type": "subslide"
    }
   },
   "source": [
    "# Collections\n",
    "\n",
    "- The collections (also called containers) we've seen thus far are not \"templated\" by element types, i.e. can hold any number of any type of object.\n",
    "\n",
    "- Lists and tuples are better for ordered content indexed 0...n, whereas dictionaries and sets will work better for unordered content.\n",
    "\n",
    "- For instance, deletion and checking 'membership' of a single value are ```O(n)``` operations for a list, whereas they are ```O(1)``` operations for a dictionary.\n",
    "\n",
    "https://wiki.python.org/moin/TimeComplexity\n"
   ]
  },
  {
   "cell_type": "markdown",
   "metadata": {
    "slideshow": {
     "slide_type": "subslide"
    }
   },
   "source": [
    "## Comprehensions and generator expressions\n",
    "\n",
    "- This general syntax is applicable to lists, tuples, dictionaries and sets:\n",
    "\n",
    "```word for word in vocab_list if word not in known_words```\n",
    "\n",
    "Check out the tutorial here for some more advanced examples:\n",
    "https://newcircle.com/bookshelf/python_fundamentals_tutorial/advanced_iterations"
   ]
  },
  {
   "cell_type": "code",
   "execution_count": 3,
   "metadata": {
    "slideshow": {
     "slide_type": "subslide"
    }
   },
   "outputs": [
    {
     "name": "stdout",
     "output_type": "stream",
     "text": [
      "328350\n",
      "328350\n"
     ]
    }
   ],
   "source": [
    "#instantiates a list\n",
    "print(sum([x**2 for x in range(100)]))\n",
    "\n",
    "#versus\n",
    "print(sum(x**2 for x in range(100)))"
   ]
  },
  {
   "cell_type": "code",
   "execution_count": 4,
   "metadata": {
    "slideshow": {
     "slide_type": "subslide"
    }
   },
   "outputs": [
    {
     "name": "stdout",
     "output_type": "stream",
     "text": [
      "{1: 1, 2: 3, 3: 6, 4: 10, 5: 15, 6: 21, 7: 28, 8: 36, 9: 45}\n",
      "{1: 1, 3: 6, 5: 15, 7: 28, 9: 45}\n"
     ]
    }
   ],
   "source": [
    "ints = list(range(1,10))\n",
    "# maps k to (k(k+1))/2\n",
    "#(sum of first k natural numbers)\n",
    "d = {k: sum(ints[:k]) for k in ints}\n",
    "\n",
    "print(d)\n",
    "\n",
    "# can chain conditionals\n",
    "\n",
    "d = {k: sum(ints[:k]) for k in ints if k%2}\n",
    "print(d)"
   ]
  },
  {
   "cell_type": "markdown",
   "metadata": {
    "slideshow": {
     "slide_type": "skip"
    }
   },
   "source": [
    "---"
   ]
  },
  {
   "cell_type": "markdown",
   "metadata": {
    "slideshow": {
     "slide_type": "slide"
    }
   },
   "source": [
    "# Python IO Basics"
   ]
  },
  {
   "cell_type": "markdown",
   "metadata": {
    "slideshow": {
     "slide_type": "subslide"
    }
   },
   "source": [
    "# Python File Input-Output (IO)\n",
    "\n",
    "Python makes it very easy to read and write files to disk.\n",
    "\n",
    "- Much of the code you write will require input files for data and you will want to save output to a file as well.\n",
    "\n",
    "- We will see that Pandas has great facilities for reading and writing to `txt`, `Excel`, `CSV` type formats"
   ]
  },
  {
   "cell_type": "markdown",
   "metadata": {
    "slideshow": {
     "slide_type": "subslide"
    }
   },
   "source": [
    "## What is a file?\n",
    "\n",
    "A *file* is a segment of data, typically associated with a filename, that exists\n",
    "in a computer's persistent storage.  This means that the data remains when the\n",
    "computer is turned off.\n",
    "\n",
    "There are two main kinds of files: *text* and *binary*.\n",
    "\n",
    "Text files are easy for humans to read and write.\n",
    "\n",
    "Binary files (images, music files, etc.) are more efficient in terms of storage."
   ]
  },
  {
   "cell_type": "markdown",
   "metadata": {
    "slideshow": {
     "slide_type": "subslide"
    }
   },
   "source": [
    "## The file object\n",
    "\n",
    "* Interaction with the file system is pretty straightforward in Python.\n",
    "* Done using *file objects*\n",
    "* We can instantiate a file object using `open` or `file`"
   ]
  },
  {
   "cell_type": "markdown",
   "metadata": {
    "slideshow": {
     "slide_type": "subslide"
    }
   },
   "source": [
    "## Opening a file\n",
    "\n",
    "```\n",
    "f = open(filename, option)\n",
    "```\n",
    "\n",
    "* `filename`: path to file on disk\n",
    "* `option`: mode to open file (passed as a string)\n",
    "  * `'r'`: read file\n",
    "  * `'w'`: write to file (overwrites existing file)\n",
    "  * `'a'`: append to file\n",
    "  * `'x'`: open for exclusive creation, failing if the file already exists\n",
    "  * `'b'`: binary mode\n",
    "* We need to close a file after we are done: `f.close()`"
   ]
  },
  {
   "cell_type": "markdown",
   "metadata": {
    "slideshow": {
     "slide_type": "subslide"
    }
   },
   "source": [
    "## `with open() as f:`\n",
    "\n",
    "- It is good practice to use the `with` keyword when dealing with file objects.\n",
    "- This has the advantage that the file is properly closed after its suite finishes, even if an exception is raised on the way.\n",
    "\n",
    "```python\n",
    "with open('../Data/07-data/text_file.txt', 'r') as f:\n",
    "    print(f.read())\n",
    "```\n",
    "\n",
    "- Python takes care of safely opening/closing file for you - just do operations within the indented block."
   ]
  },
  {
   "cell_type": "markdown",
   "metadata": {
    "slideshow": {
     "slide_type": "subslide"
    }
   },
   "source": [
    "## Reading a file\n",
    "\n",
    "File object methods:\n",
    "\n",
    "* `read()`: Read entire file (or first `n` characters, if supplied). Returns empty string upon end of file (EOF)\n",
    "* `readline()`: Reads a single line per call (leaves '\\n' character except on last line). \n",
    "* `readlines()`: Returns a list with lines (splits at newline)"
   ]
  },
  {
   "cell_type": "code",
   "execution_count": 27,
   "metadata": {
    "slideshow": {
     "slide_type": "subslide"
    }
   },
   "outputs": [
    {
     "name": "stdout",
     "output_type": "stream",
     "text": [
      "line 0 : I am a simple text file.\n",
      "\n",
      "line 1 : There is not much to see here.\n",
      "\n",
      "line 2 : Ok, how about a third line?\n",
      "\n"
     ]
    }
   ],
   "source": [
    "# f.readlines() explicitly reads all lines of the file into a list\n",
    "# not memory efficient\n",
    "with open('../Data/07-data/text_file.txt', 'r') as f:\n",
    "    lines = f.readlines()\n",
    "    for i, line in enumerate(lines):\n",
    "        print(\"line\", i, \":\", line)"
   ]
  },
  {
   "cell_type": "code",
   "execution_count": 28,
   "metadata": {
    "slideshow": {
     "slide_type": "fragment"
    }
   },
   "outputs": [
    {
     "name": "stdout",
     "output_type": "stream",
     "text": [
      "line 0 : I am a simple text file.\n",
      "\n",
      "line 1 : There is not much to see here.\n",
      "\n",
      "line 2 : Ok, how about a third line?\n",
      "\n"
     ]
    }
   ],
   "source": [
    "# Another option to read a file, this is fast and memory efficient ... \n",
    "with open('../Data/07-data/text_file.txt', 'r') as f:\n",
    "    for i, line in enumerate(f):\n",
    "        print(\"line\", i, \":\", line)"
   ]
  },
  {
   "cell_type": "markdown",
   "metadata": {
    "slideshow": {
     "slide_type": "subslide"
    }
   },
   "source": [
    "## Writing to file\n",
    "\n",
    "Use the `write()` method to write to a file.\n",
    "\n",
    "```python\n",
    "name = \"Python learner\"\n",
    "with open('../Data/07-data/hello.txt', 'w') as f:\n",
    "    f.write(\"Hello, {}!\\n\".format(name))\n",
    "```\n"
   ]
  },
  {
   "cell_type": "code",
   "execution_count": 12,
   "metadata": {
    "slideshow": {
     "slide_type": "fragment"
    }
   },
   "outputs": [],
   "source": [
    "name = \"Python learner\"\n",
    "with open('../Data/07-data/hello.txt', 'w') as f:\n",
    "    f.write(\"Hello, {}!\\n\".format(name))"
   ]
  },
  {
   "cell_type": "markdown",
   "metadata": {
    "slideshow": {
     "slide_type": "subslide"
    }
   },
   "source": [
    "## More writing examples\n",
    "\n",
    "Write elements of list to file:\n",
    "\n",
    "```python\n",
    "xs = [\"i\", \"am\", 'a', 'fancy', 'list', 42]\n",
    "with open('../Data/07-data/from_list.txt', 'w') as f:\n",
    "    for x in xs:\n",
    "        f.write('{}\\n'.format(x))\n",
    "```"
   ]
  },
  {
   "cell_type": "code",
   "execution_count": 13,
   "metadata": {
    "slideshow": {
     "slide_type": "fragment"
    }
   },
   "outputs": [],
   "source": [
    "xs = [\"i\", \"am\", 'a', 'fancy', 'list', 42]\n",
    "with open('../Data/07-data/from_list.txt', 'w') as f:\n",
    "    for x in xs:\n",
    "        f.write('{}\\n'.format(x))"
   ]
  },
  {
   "cell_type": "code",
   "execution_count": null,
   "metadata": {
    "slideshow": {
     "slide_type": "skip"
    }
   },
   "outputs": [],
   "source": []
  },
  {
   "cell_type": "code",
   "execution_count": 14,
   "metadata": {
    "slideshow": {
     "slide_type": "skip"
    }
   },
   "outputs": [],
   "source": [
    "xs = [\"i\", \"am\", 'a', 'fancy', 'list', 42]\n",
    "with open('../Data/07-data/from_list.txt', 'w+') as f:\n",
    "    for x in xs:\n",
    "        f.write('{}\\n'.format(x))"
   ]
  },
  {
   "cell_type": "markdown",
   "metadata": {
    "slideshow": {
     "slide_type": "subslide"
    }
   },
   "source": [
    "Write elements of dictionary to file:\n",
    "\n",
    "```python\n",
    "d = {\"name\": \"Peter Pan\", \"job\": \"lost boy\", \"location\": \"Neverland\"}\n",
    "with open('07-data/from_dict.txt', 'w') as f:\n",
    "    for k, v in d.items():\n",
    "        f.write('{}: {}\\n'.format(k, v))\n",
    "```"
   ]
  },
  {
   "cell_type": "code",
   "execution_count": 15,
   "metadata": {
    "slideshow": {
     "slide_type": "fragment"
    }
   },
   "outputs": [],
   "source": [
    "d = {\"name\": \"Peter Pan\", \"job\": \"lost boy\", \"location\": \"Neverland\"}\n",
    "with open('../Data/07-data/from_dict.txt', 'w') as f:\n",
    "    for k, v in list(d.items()):\n",
    "        f.write('{}: {}\\n'.format(k, v))"
   ]
  },
  {
   "cell_type": "markdown",
   "metadata": {
    "slideshow": {
     "slide_type": "subslide"
    }
   },
   "source": [
    "## JSON\n",
    "\n",
    "The JSON format is commonly used by modern applications to allow for data\n",
    "exchange. Many programmers are already familiar with it, which makes it a good\n",
    "choice for interoperability.\n",
    "\n",
    "- ``` json.dumps(obj, ...) ``` : Serialize obj to a JSON formatted str\n",
    "- ``` json.loads(s, ...) ``` : Deserialize a JSON formatted object to a python object\n",
    "- ``` json.dump(obj, fileoject, ..) ``` : Serialize obj as a JSON formatted stream to file\n",
    "- ``` json.load(fileobject, ... ) ``` : Deserialize a file-like object containing JSON \n"
   ]
  },
  {
   "cell_type": "code",
   "execution_count": 2,
   "metadata": {
    "slideshow": {
     "slide_type": "subslide"
    }
   },
   "outputs": [
    {
     "name": "stdout",
     "output_type": "stream",
     "text": [
      "[1, \"simple\", \"list\"]\n",
      "simple_list is of type <class 'list'>\n",
      "simple_json_list is of type <class 'str'>\n",
      "simple_dict is of type <class 'dict'>\n",
      "simple_json_dict is of type <class 'str'>\n",
      "{'name': 'Peter Pan', 'job': 'lost boy', 'location': 'Neverland'}\n"
     ]
    }
   ],
   "source": [
    "import json\n",
    "simple_list = [1, 'simple', 'list']\n",
    "simple_json_list = json.dumps(simple_list)\n",
    "print(\"simple_list is of type {}\".format(type(simple_list)))\n",
    "print(\"simple_json_list is of type {}\".format(type(simple_json_list)))\n",
    "\n",
    "\n",
    "simple_dict = {'name': 'Peter Pan', \"job\": 'lost boy', \"location\": \"Neverland\"}\n",
    "simple_json_dict = json.dumps(simple_dict)\n",
    "print(\"simple_dict is of type {}\".format(type(simple_dict)))\n",
    "print(\"simple_json_dict is of type {}\".format(type(simple_json_dict)))\n",
    "\n",
    "with open('../Data/07-data/tmp.json', 'w') as f:\n",
    "    json.dump(simple_dict,f) \n",
    "\n",
    "with open('../Data/07-data/tmp.json', 'r') as f:\n",
    "    data = json.load(f)\n",
    "    \n",
    "print(data)"
   ]
  },
  {
   "cell_type": "code",
   "execution_count": null,
   "metadata": {
    "slideshow": {
     "slide_type": "skip"
    }
   },
   "outputs": [],
   "source": [
    "\n"
   ]
  },
  {
   "cell_type": "markdown",
   "metadata": {
    "slideshow": {
     "slide_type": "skip"
    }
   },
   "source": [
    "---"
   ]
  },
  {
   "cell_type": "markdown",
   "metadata": {
    "slideshow": {
     "slide_type": "slide"
    }
   },
   "source": [
    "# Python Object Model"
   ]
  },
  {
   "cell_type": "markdown",
   "metadata": {
    "slideshow": {
     "slide_type": "subslide"
    }
   },
   "source": [
    "# Python Object Model\n",
    "\n",
    "* Everything is an object\n",
    "* Variables are references to objects\n",
    "\n",
    "### \"Everything is an object\""
   ]
  },
  {
   "cell_type": "markdown",
   "metadata": {
    "slideshow": {
     "slide_type": "subslide"
    }
   },
   "source": [
    "## Integers as objects\n",
    "\n",
    "Like everything else, integers in Python are objects.\n",
    "\n",
    "```python\n",
    "x = 1   # x is a reference to python object for 1\n",
    "print(id(x))\n",
    "x = x + 1     # x is now a reference to python object for 2\n",
    "print(id(x))\n",
    "```\n",
    "\n",
    "In python `1` and `2` are separate objects.  Once an integer object is created,\n",
    "its value cannot be changed.  Integer objects are immutable.  Storing the result\n",
    "of an arithmetic operation in a variable sets a reference to the object."
   ]
  },
  {
   "cell_type": "code",
   "execution_count": 29,
   "metadata": {
    "slideshow": {
     "slide_type": "skip"
    }
   },
   "outputs": [
    {
     "name": "stdout",
     "output_type": "stream",
     "text": [
      "4466763776\n",
      "4466763808\n"
     ]
    }
   ],
   "source": [
    "x = 1   # x is a reference to python object for 1\n",
    "print(id(x))\n",
    "x = x + 1     # x is now a reference to python object for 2\n",
    "print(id(x))"
   ]
  },
  {
   "cell_type": "code",
   "execution_count": 30,
   "metadata": {
    "slideshow": {
     "slide_type": "subslide"
    }
   },
   "outputs": [
    {
     "name": "stdout",
     "output_type": "stream",
     "text": [
      "x is at memory address: 4466763776 with value: 1\n",
      "\n",
      "Now, x is at memory address: 4466763808 with value: 2\n",
      "\n",
      "Memory Address: \n",
      "--------------------- \n",
      "4466763776 --> 1\n",
      "4466763808 --> 2 \n"
     ]
    }
   ],
   "source": [
    "x = 1         # x is a reference to python object for 1\n",
    "print(\"x is at memory address: {} with value: {}\\n\".format(id(x), x))\n",
    "\n",
    "x = x + 1     # x is now a reference to python object for 2\n",
    "print(\"Now, x is at memory address: {} with value: {}\\n\".format(id(x), x))\n",
    "\n",
    "\n",
    "\n",
    "print(\"Memory Address: \\n\"+ \"-\"*21, \"\\n{} --> 1\\n{} --> 2 \". format(id(1), id(2)))"
   ]
  },
  {
   "cell_type": "markdown",
   "metadata": {
    "slideshow": {
     "slide_type": "subslide"
    }
   },
   "source": [
    "For efficiency, Python pre-allocates integer objects for values `[-5,256]`.  We\n",
    "can see this by looking at the `id` for the python object representing `42`.\n",
    "\n",
    "```python\n",
    "x = 42\n",
    "y = 42\n",
    "print(id(x))\n",
    "print(id(y))\n",
    "\n",
    "```"
   ]
  },
  {
   "cell_type": "code",
   "execution_count": 132,
   "metadata": {
    "slideshow": {
     "slide_type": "subslide"
    }
   },
   "outputs": [
    {
     "name": "stdout",
     "output_type": "stream",
     "text": [
      "4466765088\n",
      "4466765088\n"
     ]
    }
   ],
   "source": [
    "x = 42\n",
    "y = 42\n",
    "print(id(x))\n",
    "print(id(y))"
   ]
  },
  {
   "cell_type": "markdown",
   "metadata": {
    "slideshow": {
     "slide_type": "subslide"
    }
   },
   "source": [
    "These are the same object, because they have the same `id`.  Let's look at a\n",
    "number outside of the  pre-allocated range:\n",
    "\n",
    "```python\n",
    "x = 1024\n",
    "y = 1024\n",
    "\n",
    "print(id(x))\n",
    "print(id(y))\n",
    "\n",
    "```\n",
    "\n",
    "Here Python created two separate objects for the value `1024`."
   ]
  },
  {
   "cell_type": "code",
   "execution_count": 2,
   "metadata": {
    "slideshow": {
     "slide_type": "fragment"
    }
   },
   "outputs": [
    {
     "name": "stdout",
     "output_type": "stream",
     "text": [
      "4470994992\n",
      "4470994864\n"
     ]
    }
   ],
   "source": [
    "x = 1024\n",
    "y = 1024\n",
    "\n",
    "print(id(x))\n",
    "print(id(y))"
   ]
  },
  {
   "cell_type": "markdown",
   "metadata": {
    "slideshow": {
     "slide_type": "subslide"
    }
   },
   "source": [
    "Make sure to always test for numeric equality with the `==` operator.  Using\n",
    "`is` only checks that the  operands have the same `id`.  This can lead to some\n",
    "confusion..."
   ]
  },
  {
   "cell_type": "code",
   "execution_count": 34,
   "metadata": {
    "slideshow": {
     "slide_type": "subslide"
    }
   },
   "outputs": [
    {
     "name": "stdout",
     "output_type": "stream",
     "text": [
      "x == y:  True\n",
      "x is y:  True\n",
      "\n",
      "----------------\n",
      "\n",
      "x == y:  True\n",
      "x is y:  False\n"
     ]
    }
   ],
   "source": [
    "x = 1\n",
    "y = 1\n",
    "print(\"x == y: \", x == y)\n",
    "print(\"x is y: \", x is y)\n",
    "\n",
    "print(\"\\n\"+\"-\"*16+\"\\n\")\n",
    "\n",
    "x = 2048\n",
    "y = 2048\n",
    "print(\"x == y: \", x == y)\n",
    "print(\"x is y: \", x is y)"
   ]
  },
  {
   "cell_type": "markdown",
   "metadata": {
    "slideshow": {
     "slide_type": "subslide"
    }
   },
   "source": [
    "## Passing data to functions\n",
    "\n",
    "Python uses the \"pass by object reference\" convention to pass data to functions.\n",
    "\n",
    "Let's look at some examples.  Remember, that the `id()` function returns the\n",
    "memory identifier for an object.  This is analogous to a pointer in the C\n",
    "programming language.\n",
    "\n",
    "```python\n",
    "def print_id(input_var):\n",
    "\n",
    "    \"\"\"prints the id of the object referred to by input_var\"\"\"\n",
    "    print(id(input_var))\n",
    "```"
   ]
  },
  {
   "cell_type": "markdown",
   "metadata": {
    "slideshow": {
     "slide_type": "subslide"
    }
   },
   "source": [
    "## Passing data to functions (cont.)\n",
    "\n",
    "Let's try it with a number:\n",
    "\n",
    "```python\n",
    "x = 67.3\n",
    "print(\"outside of function:\",id(x))\n",
    "print_id(x)\n",
    "```\n",
    "\n",
    "Let's try it with a list:\n",
    "\n",
    "```python\n",
    "my_list = [1, 2, \"a short str\"]\n",
    "print(\"outside of function:\",id(x))\n",
    "print_id(x)\n",
    "```"
   ]
  },
  {
   "cell_type": "code",
   "execution_count": 138,
   "metadata": {
    "slideshow": {
     "slide_type": "subslide"
    }
   },
   "outputs": [
    {
     "name": "stdout",
     "output_type": "stream",
     "text": [
      "outside of function:  4511513360\n",
      "Inside of function: 4511513360\n",
      "outside of function: 4512025864\n",
      "Inside of function: 4512025864\n"
     ]
    }
   ],
   "source": [
    "def print_id(input_var):\n",
    "\n",
    "    \"\"\"prints the id of the object referred to by input_var\"\"\"\n",
    "    print(\"Inside of function: {}\".format(id(input_var)))\n",
    "    \n",
    "x = 67.3\n",
    "print(\"outside of function: \",id(x))\n",
    "print_id(x)\n",
    "\n",
    "\n",
    "#Let's try it with a list:\n",
    "my_list = [1, 2, \"a short str\"]\n",
    "print(\"outside of function:\",id(my_list))\n",
    "print_id(my_list)"
   ]
  },
  {
   "cell_type": "code",
   "execution_count": 149,
   "metadata": {
    "slideshow": {
     "slide_type": "subslide"
    }
   },
   "outputs": [
    {
     "name": "stdout",
     "output_type": "stream",
     "text": [
      "Before call outside of function: 4510500808\n",
      "Inside of function: 4510500808\n",
      "Inside of function (Id after re-declaration): 4512192392\n",
      "After call outside of function: 4510500808\n",
      "[1, 2, 'a short str']\n"
     ]
    }
   ],
   "source": [
    "def print_id(input_var):\n",
    "\n",
    "    \"\"\"prints the id of the object referred to by input_var\"\"\"\n",
    "    # Initially input_var is just a reference to the object passed in\n",
    "    print(\"Inside of function: {}\".format(id(input_var)))\n",
    "    # creates a new binding of input_var -> [1,2,3] within the scope of print_id \n",
    "    # no longer effects the list passed in\n",
    "    input_var = [1,2,3]\n",
    "    print(\"Inside of function (Id after re-declaration): {}\".format(id(input_var)))\n",
    "\n",
    "#Let's try it with a list:\n",
    "my_list = [1, 2, \"a short str\"]\n",
    "print(\"Before call outside of function:\",id(my_list))\n",
    "print_id(my_list)\n",
    "print(\"After call outside of function:\",id(my_list))\n",
    "print(my_list)"
   ]
  },
  {
   "cell_type": "markdown",
   "metadata": {
    "slideshow": {
     "slide_type": "subslide"
    }
   },
   "source": [
    "## So what's going on here?\n",
    "- What we commonly refer to as \"variables\" in Python are more properly called names.\n",
    "- An assignment is really the binding of a name to an object within a certain scope (i.e. the block it originates).\n",
    "- This mapping of names to objects is called a namespace. Examples of namespaces:\n",
    "    - All built_in functions like ``` open()``` or ```abs()``` or exceptions \n",
    "    - The global names in a python module\n",
    "    - The local names in a function call\n",
    "    - The attributes of an object. \n",
    "- **IMPORTANT**: There is absolutely no relation  between names in different namespaces"
   ]
  },
  {
   "cell_type": "markdown",
   "metadata": {
    "slideshow": {
     "slide_type": "skip"
    }
   },
   "source": []
  },
  {
   "cell_type": "code",
   "execution_count": 3,
   "metadata": {
    "slideshow": {
     "slide_type": "skip"
    }
   },
   "outputs": [
    {
     "ename": "ModuleNotFoundError",
     "evalue": "No module named 'script1'",
     "output_type": "error",
     "traceback": [
      "\u001b[0;31m---------------------------------------------------------------------------\u001b[0m",
      "\u001b[0;31mModuleNotFoundError\u001b[0m                       Traceback (most recent call last)",
      "\u001b[0;32m<ipython-input-3-25c831ac6011>\u001b[0m in \u001b[0;36m<module>\u001b[0;34m()\u001b[0m\n\u001b[0;32m----> 1\u001b[0;31m \u001b[0;32mimport\u001b[0m \u001b[0mscript1\u001b[0m \u001b[0;32mas\u001b[0m \u001b[0ms1\u001b[0m\u001b[0;34m\u001b[0m\u001b[0m\n\u001b[0m\u001b[1;32m      2\u001b[0m \u001b[0;32mimport\u001b[0m \u001b[0mscript2\u001b[0m \u001b[0;32mas\u001b[0m \u001b[0ms2\u001b[0m\u001b[0;34m\u001b[0m\u001b[0m\n\u001b[1;32m      3\u001b[0m \u001b[0ms1\u001b[0m\u001b[0;34m.\u001b[0m\u001b[0mmaximize\u001b[0m\u001b[0;34m(\u001b[0m\u001b[0;34m)\u001b[0m\u001b[0;34m\u001b[0m\u001b[0m\n\u001b[1;32m      4\u001b[0m \u001b[0ms2\u001b[0m\u001b[0;34m.\u001b[0m\u001b[0mmaximize\u001b[0m\u001b[0;34m(\u001b[0m\u001b[0;34m)\u001b[0m\u001b[0;34m\u001b[0m\u001b[0m\n",
      "\u001b[0;31mModuleNotFoundError\u001b[0m: No module named 'script1'"
     ]
    }
   ],
   "source": [
    "import script1 as s1\n",
    "import script2 as s2\n",
    "s1.maximize()\n",
    "s2.maximize()"
   ]
  },
  {
   "cell_type": "markdown",
   "metadata": {
    "slideshow": {
     "slide_type": "skip"
    }
   },
   "source": [
    "* ```s1.maximize``` and ```s2.maximize``` are completely separate!\n",
    "* Now: namespaces are created at different moments and have different lifetime\n",
    "    - The namespace containing the built-in names is created when the Python interpreter starts up, and is never deleted\n",
    "    - The global namespace for a module is created when the module definition is read in and lasts,typically, until the script is done\n",
    "    - statements executed by the top-level invocation of the interpreter, either read from a script file or interactively, are part of a module called __main__, so they have their own global namespace\n"
   ]
  },
  {
   "cell_type": "markdown",
   "metadata": {
    "slideshow": {
     "slide_type": "subslide"
    }
   },
   "source": [
    "## Passing data to functions (cont.)\n",
    "\n",
    "\n",
    "We learned before that functions can modify their inputs:\n",
    "\n",
    "```python\n",
    "def add_some_items(input_list):\n",
    "    input_list.append(\"a\")\n",
    "    input_list.append(\"few\")\n",
    "    input_list.append(\"items\")\n",
    "\n",
    "a_list = [1,2,3]\n",
    "add_some_items(a_list)\n",
    "print(a_list)\n",
    "```"
   ]
  },
  {
   "cell_type": "code",
   "execution_count": 4,
   "metadata": {
    "slideshow": {
     "slide_type": "subslide"
    }
   },
   "outputs": [
    {
     "name": "stdout",
     "output_type": "stream",
     "text": [
      "4472582216\n",
      "4472582216\n",
      "[1, 2, 3, 'a', 'few', 'items']\n"
     ]
    }
   ],
   "source": [
    "def add_some_items(input_list):\n",
    "    input_list.append(\"a\")\n",
    "    input_list.append(\"few\")\n",
    "    input_list.append(\"items\")\n",
    "    return input_list\n",
    "\n",
    "     \n",
    "a_list = [1,2,3]\n",
    "print(id(a_list))\n",
    "a_list = add_some_items(a_list)\n",
    "print(id(a_list))\n",
    "print(a_list)"
   ]
  },
  {
   "cell_type": "markdown",
   "metadata": {
    "slideshow": {
     "slide_type": "subslide"
    }
   },
   "source": [
    "## Passing data to functions (cont.)\n",
    "\n",
    "\n",
    "However, if we reassign a variable reference inside of a function, the original\n",
    "variable is not modified.\n",
    "\n",
    "```python\n",
    "def reassign(input_var):\n",
    "    input_var = 2\n",
    "\n",
    "a = 1\n",
    "reassign(a)\n",
    "print(\"a =\", a)\n",
    "```\n",
    "\n",
    "- In this case, the variable `a` still refers to the object for `1`.  \n",
    "- The variable inside of the function `input_var` initially refers to the `1` object.  \n",
    "- Code inside of the function reassigns `input_var` to the `2` object (i.e within the namespace of reassign, we bind the name ```input_var``` to the object 2.  \n",
    "- Since the variable `a` is not within the namespace of ```reassign``` it is not affected by assignment inside of the function."
   ]
  },
  {
   "cell_type": "code",
   "execution_count": 5,
   "metadata": {
    "slideshow": {
     "slide_type": "subslide"
    }
   },
   "outputs": [
    {
     "name": "stdout",
     "output_type": "stream",
     "text": [
      "a = 1\n"
     ]
    }
   ],
   "source": [
    "def reassign(input_var):\n",
    "    input_var = 2\n",
    "\n",
    "a = 1\n",
    "reassign(a)\n",
    "print(\"a =\", a)"
   ]
  },
  {
   "cell_type": "code",
   "execution_count": 6,
   "metadata": {
    "slideshow": {
     "slide_type": "subslide"
    }
   },
   "outputs": [],
   "source": [
    "\n",
    "def add_some_items(input_list):\n",
    "    input_list = []\n",
    "    input_list.append(\"a\")\n",
    "    input_list.append(\"few\")\n",
    "    input_list.append(\"items\")\n",
    "\n",
    "# What happens to a_list \n",
    "a_list = [1,2,3]\n",
    "add_some_items(a_list)"
   ]
  },
  {
   "cell_type": "code",
   "execution_count": 61,
   "metadata": {
    "slideshow": {
     "slide_type": "fragment"
    }
   },
   "outputs": [
    {
     "name": "stdout",
     "output_type": "stream",
     "text": [
      "[1, 2, 3]\n"
     ]
    }
   ],
   "source": [
    "print(a_list)"
   ]
  },
  {
   "cell_type": "code",
   "execution_count": 156,
   "metadata": {
    "slideshow": {
     "slide_type": "subslide"
    }
   },
   "outputs": [],
   "source": [
    "def add_some_items(input_list):\n",
    "    input_list[0].append(\"a\")\n",
    "    input_list[0].append(\"few\")\n",
    "    input_list[-1].append(\"items\")\n",
    "    input_list = [[1],[2],[3]]\n",
    "\n",
    "    \n",
    "a_list = ([1,2,3], [3,4,5])\n",
    "add_some_items(a_list)"
   ]
  },
  {
   "cell_type": "code",
   "execution_count": 157,
   "metadata": {
    "slideshow": {
     "slide_type": "fragment"
    }
   },
   "outputs": [
    {
     "name": "stdout",
     "output_type": "stream",
     "text": [
      "([1, 2, 3, 'a', 'few'], [3, 4, 5, 'items'])\n"
     ]
    }
   ],
   "source": [
    "print(a_list)"
   ]
  },
  {
   "cell_type": "markdown",
   "metadata": {
    "slideshow": {
     "slide_type": "skip"
    }
   },
   "source": [
    "## So what's going on here?\n",
    "- What we commonly refer to as \"variables\" in Python are more properly called names.\n",
    "- An assignment is really the binding of a name to an object within a certain scope (i.e. the block it originates).\n",
    "- This mapping of names to objects is called a namespace. \n",
    "    - All built_in functions like ``` open()``` or ```abs()``` are \n",
    "    - The global names in a python module\n",
    "    - The local names in a function call\n",
    "    - The attributes of an object. \n",
    "- IMPORTANT: There is absolutely no relation  between names in different namespaces"
   ]
  },
  {
   "cell_type": "markdown",
   "metadata": {
    "slideshow": {
     "slide_type": "skip"
    }
   },
   "source": [
    "# More on Namespaces?\n",
    "- Say I have two script: script1.py and script2.py, both of which have the function maximize.\n",
    "- Say I run from the interactive console\n",
    "     ``python import script1 as s1\n",
    "        import script2 as s2\n",
    "        s1.maximize()\n",
    "        s2.maximize()``\n",
    "- ```s1.maximize``` and ```s2.maximize``` are completely separate!\n",
    "\n",
    "# Life of a Namespace\n",
    "\n",
    "- Namespaces are created at different moments and have different scopes. \n",
    "- The namespace containing the built-in names is created when the Python interpreter starts up, and is never deleted.\n",
    "- The global namespace for a module is created when the module is read in and last typically till the interpreter quits. The top-level invocation of the interpreter ``` python script.py ```, ```script.py```, is part of a module called ```__main__``. \n",
    "- Local namespace of a function is created upon function call and deleted on exit "
   ]
  },
  {
   "cell_type": "markdown",
   "metadata": {
    "slideshow": {
     "slide_type": "skip"
    }
   },
   "source": [
    "## Namespaces continued\n",
    "- For example, two different python modules may both define a ```minimize ``` function without any issues.\n",
    "- Users must call the function with ```modname.minimize()```\n",
    "- Namespaces are created at different moments and have different scopes. \n",
    "- The namespace containing the built-in names is created when the Python interpreter starts up, and is never deleted.\n",
    "- The global namespace for a module is created when the module is read in and last typically till the interpreter quits. The top-level invocation of the interpreter ``` python script.py ```, ```script.py```, is part of a module called ```__main__``. \n",
    "- Local namespace of a function is created upon function call and deleted on exit "
   ]
  },
  {
   "cell_type": "markdown",
   "metadata": {
    "slideshow": {
     "slide_type": "subslide"
    }
   },
   "source": [
    "## Copying a data structure (cont.)\n",
    "\n",
    "We can copy a list using the list constructor (`list()`) or a complete slice\n",
    "(`my_list[:]`).\n",
    "\n",
    "```python\n",
    "a = [\"a\", \"simple\", \"list\"]\n",
    "b = list(a)\n",
    "c = a[:]\n",
    "b[1] = \"basic\"\n",
    "print(a)\n",
    "print(c)\n",
    "```"
   ]
  },
  {
   "cell_type": "code",
   "execution_count": 69,
   "metadata": {
    "slideshow": {
     "slide_type": "fragment"
    }
   },
   "outputs": [
    {
     "name": "stdout",
     "output_type": "stream",
     "text": [
      "['a', 'simple', 'list']\n",
      "['a', 'basic', 'list']\n",
      "['a', 'simple', 'list']\n"
     ]
    }
   ],
   "source": [
    "a = [\"a\", \"simple\", \"list\"]\n",
    "b = list(a)\n",
    "c = a[:]\n",
    "b[1] = \"basic\"\n",
    "print(a)\n",
    "print(b)\n",
    "print(c)"
   ]
  },
  {
   "cell_type": "markdown",
   "metadata": {
    "slideshow": {
     "slide_type": "subslide"
    }
   },
   "source": [
    "## Copying a list\n",
    "A more generic method to copy data structures is to use the `copy` module.  This\n",
    "allows us to copy any data structure (dictionaries, sets, tuples, etc).\n",
    "\n",
    "```python\n",
    "import copy\n",
    "a = [\"a\", \"simple\", \"list\"]\n",
    "b = copy.copy(a)\n",
    "b[1] = \"basic\"\n",
    "print(a)\n",
    "```"
   ]
  },
  {
   "cell_type": "code",
   "execution_count": 70,
   "metadata": {
    "slideshow": {
     "slide_type": "fragment"
    }
   },
   "outputs": [
    {
     "name": "stdout",
     "output_type": "stream",
     "text": [
      "['a', 'simple', 'list']\n"
     ]
    }
   ],
   "source": [
    "import copy\n",
    "a = [\"a\", \"simple\", \"list\"]\n",
    "b = copy.copy(a)\n",
    "b[1] = \"basic\"\n",
    "print(a)"
   ]
  },
  {
   "cell_type": "markdown",
   "metadata": {
    "slideshow": {
     "slide_type": "subslide"
    }
   },
   "source": [
    "## Copying a dictionary\n",
    "Let's have a look at an example with a dictionary:\n",
    "\n",
    "```python\n",
    "import copy\n",
    "my_dict = {\"apple\":\"fruit\", \"kale\":\"vegetable\"}\n",
    "other_dict = copy.copy(my_dict)\n",
    "other_dict[\"orange\"] = \"fruit\"\n",
    "print(my_dict)\n",
    "```"
   ]
  },
  {
   "cell_type": "code",
   "execution_count": 71,
   "metadata": {
    "slideshow": {
     "slide_type": "fragment"
    }
   },
   "outputs": [
    {
     "name": "stdout",
     "output_type": "stream",
     "text": [
      "{'apple': 'fruit', 'kale': 'vegetable'}\n"
     ]
    }
   ],
   "source": [
    "import copy\n",
    "my_dict = {\"apple\":\"fruit\", \"kale\":\"vegetable\"}\n",
    "other_dict = copy.copy(my_dict)\n",
    "other_dict[\"orange\"] = \"fruit\"\n",
    "print(my_dict)"
   ]
  },
  {
   "cell_type": "markdown",
   "metadata": {
    "slideshow": {
     "slide_type": "subslide"
    }
   },
   "source": [
    "## Copying nested data structures\n",
    "\n",
    "It is common practice to create nested data structures in Python.  Let's imagine\n",
    "a scenario where we are collecting measurements in an experiment.  We might set up\n",
    "a data structure that looks like this:\n",
    "\n",
    "```python\n",
    "data = {\n",
    "  \"info\": \"distance\",\n",
    "  \"units\": \"meter\",\n",
    "  \"measurements\": [3.5, 3.7, 3.9, 4.0]\n",
    "}\n",
    "```"
   ]
  },
  {
   "cell_type": "markdown",
   "metadata": {
    "slideshow": {
     "slide_type": "subslide"
    }
   },
   "source": [
    "## Copying nested data structures (cont.)\n",
    "\n",
    "\n",
    "The above data structure is a dictionary with one of the values being a list.\n",
    "Let's try to copy with `copy.copy()`:\n",
    "\n",
    "```python\n",
    "import copy\n",
    "data_dup = copy.copy(data)\n",
    "data_dup[\"collection_site\"] = \"big lake\"\n",
    "data_dup[\"measurements\"].append(3.8)\n",
    "print(data)\n",
    "```"
   ]
  },
  {
   "cell_type": "code",
   "execution_count": 150,
   "metadata": {
    "slideshow": {
     "slide_type": "subslide"
    }
   },
   "outputs": [
    {
     "name": "stdout",
     "output_type": "stream",
     "text": [
      "{'info': 'distance', 'units': 'meter', 'measurements': [3.5, 3.7, 3.9, 4.0, 3.8]}\n"
     ]
    }
   ],
   "source": [
    "import copy\n",
    "data = {\n",
    "  \"info\": \"distance\",\n",
    "  \"units\": \"meter\",\n",
    "  \"measurements\": [3.5, 3.7, 3.9, 4.0]\n",
    "}\n",
    "# This changes are measurements!!\n",
    "data_dup = copy.copy(data)\n",
    "data_dup[\"collection_site\"] = \"big lake\"\n",
    "data_dup[\"measurements\"].append(3.8)\n",
    "print(data)"
   ]
  },
  {
   "cell_type": "markdown",
   "metadata": {
    "slideshow": {
     "slide_type": "subslide"
    }
   },
   "source": [
    "## Copying nested data structures (cont.)\n",
    "\n",
    "\n",
    "`copy.copy()` created a new top-level dictionary.  However, only references for\n",
    "nested objects were copied."
   ]
  },
  {
   "cell_type": "markdown",
   "metadata": {
    "slideshow": {
     "slide_type": "subslide"
    }
   },
   "source": [
    "## Copying nested data structures (cont.)\n",
    "### Deep copies\n",
    "\n",
    "Use `copy.deepcopy()` to create a completely separate copy of a nested data\n",
    "structure:\n",
    "\n",
    "```python\n",
    "data = {\n",
    "  \"info\": \"distance\",\n",
    "  \"units\": \"meter\",\n",
    "  \"measurements\": [3.5, 3.7, 3.9, 4.0]\n",
    "}\n",
    "\n",
    "import copy\n",
    "data_dup = copy.deepcopy(data)\n",
    "data_dup[\"collection_site\"] = \"big lake\"\n",
    "data_dup[\"measurements\"].append(3.8)\n",
    "print(data)\n",
    "```"
   ]
  },
  {
   "cell_type": "code",
   "execution_count": 9,
   "metadata": {
    "slideshow": {
     "slide_type": "fragment"
    }
   },
   "outputs": [
    {
     "name": "stdout",
     "output_type": "stream",
     "text": [
      "{'info': 'distance', 'units': 'meter', 'measurements': [3.5, 3.7, 3.9, 4.0]}\n"
     ]
    }
   ],
   "source": [
    "data = {\n",
    "  \"info\": \"distance\",\n",
    "  \"units\": \"meter\",\n",
    "  \"measurements\": [3.5, 3.7, 3.9, 4.0]\n",
    "}\n",
    "\n",
    "import copy\n",
    "data_dup = copy.deepcopy(data)\n",
    "data_dup[\"collection_site\"] = \"big lake\"\n",
    "data_dup[\"measurements\"].append(3.8)\n",
    "print(data)"
   ]
  },
  {
   "cell_type": "markdown",
   "metadata": {
    "slideshow": {
     "slide_type": "subslide"
    }
   },
   "source": [
    "## A note on (im)mutability\n",
    "\n",
    "We have seen that Python tuples are immutable.\n",
    "\n",
    "```python\n",
    "my_tup = (1,4,6.6,\"simple str\")\n",
    "my_tup[1] = \"new str\"\n",
    "```\n",
    "\n",
    "Just like Python variables, tuple elements are references to other Python\n",
    "objects. Once a tuple is created, its elements may not be rebound to other\n",
    "objects.  But what happens when a mutable data structure (such as a list) is\n",
    "referenced by a tuple?\n",
    "\n",
    "```python\n",
    "my_tup = (1, [\"list\", \"in\", \"a\", \"tuple\"], 55.5)\n",
    "my_tup[1][3] = \"what???\"\n",
    "print(my_tup)\n",
    "```\n",
    "\n",
    "This is allowed, because modifying the nested list does not change a reference\n",
    "in the tuple."
   ]
  },
  {
   "cell_type": "code",
   "execution_count": 74,
   "metadata": {
    "slideshow": {
     "slide_type": "subslide"
    }
   },
   "outputs": [
    {
     "name": "stdout",
     "output_type": "stream",
     "text": [
      "(1, ['list', 'in', 'a', 'what???'], 55.5)\n"
     ]
    }
   ],
   "source": [
    "# allowed - modifying the nested list elements is not modifying the tuple's reference to the list\n",
    "my_tup = (1, [\"list\", \"in\", \"a\", \"tuple\"], 55.5)\n",
    "my_tup[1][3] = \"what???\"\n",
    "print(my_tup)"
   ]
  },
  {
   "cell_type": "markdown",
   "metadata": {
    "slideshow": {
     "slide_type": "subslide"
    }
   },
   "source": [
    "## Recap\n",
    "\n",
    "### Most important takeaways\n",
    "- We can alter a mutable object within a function. \n",
    "- If we reassign an input variable in a function, the original variable is not modified\n",
    "- To copy nested data structures use ``` copy.deepcopy```\n",
    "\n",
    "### Additional Explanation:\n",
    "- If we pass in a **mutable** object, we can mutate the object within the function and affect variables in higher-level scopes\n",
    "- If we rassign the input variable within a function, this creates a new binding within the function's namespace. Any modifications within the function's scope do not affect higher-level scopes. \n",
    "- ** DIFFERENT NAMESPACES HAVE ABSOLUTELY NO RELATION** \n",
    "- This extends to the module level:\n",
    "    - For example, two different python modules may both define a ```minimize ``` function without any issues.\n",
    "    - Users must call the function with ```modname.minimize()```\n",
    "- Namespaces are created at different moments and have different scopes. \n",
    "- The namespace containing the built-in names is created when the Python interpreter starts up, and is never deleted.\n",
    "- The global namespace for a module is created when the module is read in and last typically till the interpreter quits. The top-level invocation of the interpreter (either interactively in the interpreter or read from the ```script.py```), is part of a module called ```__main__```. \n",
    "- Local namespace of a function is created upon function call and deleted on exit "
   ]
  },
  {
   "cell_type": "markdown",
   "metadata": {
    "slideshow": {
     "slide_type": "slide"
    }
   },
   "source": [
    "# Python Object Oriented Programming"
   ]
  },
  {
   "cell_type": "markdown",
   "metadata": {
    "slideshow": {
     "slide_type": "subslide"
    }
   },
   "source": [
    "\n",
    "\n",
    "So far, we have seen many objects that come standard with Python.\n",
    "\n",
    "* Integers\n",
    "* Floating point numbers\n",
    "* Strings\n",
    "* Lists\n",
    "* Dictionaries\n",
    "* etc.\n",
    "\n",
    "But often one wants to build (much) more complicated structures."
   ]
  },
  {
   "cell_type": "markdown",
   "metadata": {
    "slideshow": {
     "slide_type": "subslide"
    }
   },
   "source": [
    "## Object Oriented Programming\n",
    "\n",
    "Express computation in terms of objects, which are instances of classes\n",
    "\n",
    "* **Class**: Blueprint (only one)\n",
    "    - support attribute references and instantiation.\n",
    "* **Object**: Instance (many)\n",
    "    - support data attributes and methods.\n",
    "\n",
    "\n",
    "Classes specify attributes (data) and methods to interact with those attributes."
   ]
  },
  {
   "cell_type": "markdown",
   "metadata": {
    "slideshow": {
     "slide_type": "subslide"
    }
   },
   "source": [
    "## Python’s way\n",
    "\n",
    "In languages such as C++ and Java: data protection with private and\n",
    "public attributes and methods.\n",
    "\n",
    "Not in Python: only basics such as inheritance.\n",
    "\n",
    "Don’t abuse power: works well in practice and leads to simple code."
   ]
  },
  {
   "cell_type": "markdown",
   "metadata": {
    "slideshow": {
     "slide_type": "subslide"
    }
   },
   "source": [
    "## Simplest example  \n",
    "\n",
    "```python\n",
    "# define class:\n",
    "class Leaf:\n",
    "    pass\n",
    "\n",
    "# Instance object \n",
    "leaf = Leaf()\n",
    "\n",
    "print(leaf)\n",
    "print(type(leaf))\n",
    "```"
   ]
  },
  {
   "cell_type": "code",
   "execution_count": 13,
   "metadata": {
    "slideshow": {
     "slide_type": "fragment"
    }
   },
   "outputs": [
    {
     "name": "stdout",
     "output_type": "stream",
     "text": [
      "<__main__.Leaf object at 0x10aa000b8>\n",
      "<class '__main__.Leaf'>\n"
     ]
    }
   ],
   "source": [
    "# define class:\n",
    "class Leaf: # enter Leaf namespace \n",
    "    pass\n",
    "\n",
    "# Instance object\n",
    "leaf = Leaf()\n",
    "print(leaf)\n",
    "print(type(leaf))"
   ]
  },
  {
   "cell_type": "markdown",
   "metadata": {
    "slideshow": {
     "slide_type": "subslide"
    }
   },
   "source": [
    "## Initializing an object\n",
    "\n",
    "Define how a class is instantiated by defining the `__init__`  *method*.  This is\n",
    "also known as a constructor.\n",
    "\n",
    "```python\n",
    "class Leaf:\n",
    "    def __init__(self, color):\n",
    "        self.color = color  # object (instance) attribute\n",
    "\n",
    "redleaf = Leaf('red')\n",
    "blueleaf = Leaf('blue')\n",
    "\n",
    "print(redleaf.color)\n",
    "print(blueleaf.color)\n",
    "```\n",
    "\n",
    "### Now we *access*  instance object *attributes* and *methods*!"
   ]
  },
  {
   "cell_type": "code",
   "execution_count": 14,
   "metadata": {
    "slideshow": {
     "slide_type": "subslide"
    }
   },
   "outputs": [
    {
     "name": "stdout",
     "output_type": "stream",
     "text": [
      "<function Leaf.f at 0x10a9dcd90>\n",
      "red\n",
      "blue\n",
      "Hello\n"
     ]
    }
   ],
   "source": [
    "# define a class\n",
    "class Leaf:  # enter leaf namespace (don't worry about this too much)\n",
    "    \n",
    "    # bind init to Leaf namespace\n",
    "    def __init__(self, color):\n",
    "        self.color = color  # object (instance) attribute\n",
    "        \n",
    "    # bind function f to Leaf \n",
    "    def f(self):\n",
    "        print(\"Hello\")\n",
    "\n",
    "# Leaf is just a class object \n",
    "# Leaf.f is an attribute reference to the function f in Leaf\n",
    "print(Leaf.f)\n",
    "\n",
    "# Create an instantiation of a Leaf class\n",
    "# creates a new Instance object\n",
    "redleaf = Leaf('red')\n",
    "blueleaf = Leaf('blue')\n",
    "\n",
    "print(redleaf.color)\n",
    "print(blueleaf.color)\n",
    "#calls a method object of the instance!\n",
    "blueleaf.f()\n"
   ]
  },
  {
   "cell_type": "markdown",
   "metadata": {
    "slideshow": {
     "slide_type": "subslide"
    }
   },
   "source": [
    "## Self\n",
    "\n",
    "The `self` parameter seems strange at first sight. It refers to the the\n",
    "object (instance) itself. \n",
    "\n",
    "\n",
    "- Hence `self.color = color` sets the instance variable color to that of variable `color` passed in the constructor. \n",
    "- You may have noticed that ``blueleaf.f()`` was called without an argument above, even though the function  f() specified an argument self. What happened to the argument? Surely Python raises an exception when a function requiring an argument is called without any \n",
    "- The special thing about methods is that the instance object is passed as the first argument of the function. For example, the call ``` blueleaf.f() ``` is exactly equivalent to ```Leaf.f(blueleaf)```"
   ]
  },
  {
   "cell_type": "code",
   "execution_count": 15,
   "metadata": {
    "slideshow": {
     "slide_type": "fragment"
    }
   },
   "outputs": [
    {
     "name": "stdout",
     "output_type": "stream",
     "text": [
      "Hello\n"
     ]
    }
   ],
   "source": [
    "Leaf.f(blueleaf)"
   ]
  },
  {
   "cell_type": "markdown",
   "metadata": {
    "slideshow": {
     "slide_type": "subslide"
    }
   },
   "source": [
    "## Another  simple example\n",
    "### `Stock` class\n",
    "\n",
    "Classes have *methods* (similar to functions)\n",
    "\n",
    "```python\n",
    "class Stock(object):\n",
    "    def __init__(self, name, symbol, prices=[]):\n",
    "        self.name = name\n",
    "        self.symbol = symbol\n",
    "        self.prices = prices\n",
    "\n",
    "    def high_price(self):\n",
    "        if len(self.prices) == 0:\n",
    "            return 'MISSING PRICES'\n",
    "        return max(self.prices)\n",
    "\n",
    "apple = Stock('Apple', 'APPL', [500.43, 570.60])\n",
    "print(apple.high_price())\n",
    "```"
   ]
  },
  {
   "cell_type": "code",
   "execution_count": 2,
   "metadata": {
    "slideshow": {
     "slide_type": "subslide"
    }
   },
   "outputs": [
    {
     "name": "stdout",
     "output_type": "stream",
     "text": [
      "570.6\n",
      "570.6\n"
     ]
    }
   ],
   "source": [
    "# Create a new class Object\n",
    "class Stock(object):\n",
    "    def __init__(self, name, symbol, prices=[]):\n",
    "        self.name = name\n",
    "        self.symbol = symbol\n",
    "        self.prices = prices\n",
    "\n",
    "    def high_price(self):\n",
    "        if len(self.prices) == 0:\n",
    "            return 'MISSING PRICES'\n",
    "        return max(self.prices)\n",
    "apple = Stock('Apple', 'APPL', [500.43, 570.60])\n",
    "\n",
    "# Implictly uses the Instance object 'apple' as first argument to the method high_price\n",
    "print(apple.high_price())\n",
    "# This is equivalent to calling the Class Object with an instance object as input\n",
    "print(Stock.high_price(apple))"
   ]
  },
  {
   "cell_type": "markdown",
   "metadata": {
    "slideshow": {
     "slide_type": "subslide"
    }
   },
   "source": [
    "## Another simple example\n",
    "### `Stock` class\n",
    "\n",
    "Now that we have defined the blueprint for what it means to be a stock, we can *instantiate* objects of the stock class like so:\n",
    "\n",
    "```python\n",
    "apple = Stock('Apple', 'APPL', [500.43, 570.60])\n",
    "print(apple.high_price())\n",
    "```"
   ]
  },
  {
   "cell_type": "code",
   "execution_count": 3,
   "metadata": {},
   "outputs": [
    {
     "name": "stdout",
     "output_type": "stream",
     "text": [
      "570.6\n"
     ]
    }
   ],
   "source": [
    "apple = Stock('Apple', 'APPL', [500.43, 570.60])\n",
    "print(apple.high_price())"
   ]
  },
  {
   "cell_type": "markdown",
   "metadata": {
    "slideshow": {
     "slide_type": "subslide"
    }
   },
   "source": [
    "## Class attributes\n",
    "\n",
    "```python\n",
    "class Leaf:\n",
    "    n_leafs = 0  # class variable shared amongst all objects of class type\n",
    "    def __init__(self, color):\n",
    "        self.color = color   # instance variable unique to each instance\n",
    "        Leaf.n_leafs += 1\n",
    "        \n",
    "redleaf = Leaf('red')\n",
    "blueleaf = Leaf('blue')\n",
    "\n",
    "print(redleaf.color)\n",
    "print(Leaf.n_leafs)\n",
    "```\n",
    "\n",
    "Class attributes are shared among all objects of that class."
   ]
  },
  {
   "cell_type": "code",
   "execution_count": 10,
   "metadata": {
    "slideshow": {
     "slide_type": "fragment"
    }
   },
   "outputs": [
    {
     "name": "stdout",
     "output_type": "stream",
     "text": [
      "red\n",
      "2\n"
     ]
    }
   ],
   "source": [
    "class Leaf:\n",
    "    n_leafs = 0  # class attribute: shared amongst all objects of class type\n",
    "    def __init__(self, color):\n",
    "        self.color = color  # instance variable unique to each instance\n",
    "        Leaf.n_leafs += 1\n",
    "\n",
    "redleaf = Leaf('red')\n",
    "blueleaf = Leaf('blue')\n",
    "\n",
    "print(redleaf.color) # unique to redleaf and instance Object attribute\n",
    "print(redleaf.n_leafs) # shared by all leafs its a Class Object attribute"
   ]
  },
  {
   "cell_type": "markdown",
   "metadata": {
    "slideshow": {
     "slide_type": "subslide"
    }
   },
   "source": [
    "## Class and  instance variables\n",
    "\n",
    "- Notice that shared data can have surprising effects when it involves mutuable objects, like lists and dictionaries.\n"
   ]
  },
  {
   "cell_type": "code",
   "execution_count": 15,
   "metadata": {
    "slideshow": {
     "slide_type": "fragment"
    }
   },
   "outputs": [
    {
     "name": "stdout",
     "output_type": "stream",
     "text": [
      "['amazing for selfies', 'very relaxing']\n"
     ]
    }
   ],
   "source": [
    "class Leaf:\n",
    "    n_leafs = 0\n",
    "    properties = []  # class attributes: shared amongst all objects of class type\n",
    "\n",
    "    def __init__(self, color):\n",
    "        self.color = color  # instance variable unique to each instance\n",
    "        Leaf.n_leafs += 1\n",
    "\n",
    "    def add_property(self, prop):\n",
    "        self.properties.append(prop)\n",
    "        \n",
    "        \n",
    "redleaf = Leaf('red')\n",
    "redleaf.add_property('amazing for selfies')\n",
    "greenleaf = Leaf('green')\n",
    "greenleaf.add_property('very relaxing')\n",
    "print(greenleaf.properties)# unexpectedly shared by all leafs"
   ]
  },
  {
   "cell_type": "code",
   "execution_count": 20,
   "metadata": {
    "slideshow": {
     "slide_type": "subslide"
    }
   },
   "outputs": [
    {
     "name": "stdout",
     "output_type": "stream",
     "text": [
      "['very relaxing']\n"
     ]
    }
   ],
   "source": [
    "class Leaf:\n",
    "    n_leafs = 0\n",
    "    def __init__(self, color):\n",
    "        self.color = color  # instance variable unique to each instance\n",
    "        self.properties = []\n",
    "        Leaf.n_leafs += 1\n",
    "\n",
    "    def add_property(self, prop):\n",
    "        self.properties.append(prop)\n",
    "        \n",
    "        \n",
    "redleaf = Leaf('red')\n",
    "redleaf.add_property('amazing for selfies')\n",
    "greenleaf = Leaf('green')\n",
    "greenleaf.add_property('very relaxing')\n",
    "print(greenleaf.properties) # unique ot leaf\n",
    "\n",
    "\n"
   ]
  },
  {
   "cell_type": "code",
   "execution_count": 21,
   "metadata": {
    "slideshow": {
     "slide_type": "skip"
    }
   },
   "outputs": [
    {
     "data": {
      "text/plain": [
       "'whatsup'"
      ]
     },
     "execution_count": 21,
     "metadata": {},
     "output_type": "execute_result"
    }
   ],
   "source": [
    "def print_leaf(self,greeting ):\n",
    "    return greeting\n",
    "\n",
    "class Leaf:\n",
    "    n_leafs = 0\n",
    "    greeting = print_leaf\n",
    "    \n",
    "    def __init__(self, color):\n",
    "        self.color = color  # instance variable unique to each instance\n",
    "        self.properties = []\n",
    "        Leaf.n_leafs += 1\n",
    "\n",
    "    def add_property(self, prop):\n",
    "        self.properties.append(prop)\n",
    "        \n",
    "redleaf = Leaf('red')\n",
    "redleaf.greeting(\"whatsup\")\n"
   ]
  },
  {
   "cell_type": "markdown",
   "metadata": {
    "slideshow": {
     "slide_type": "subslide"
    }
   },
   "source": [
    "## Class hierarchy through inheritance\n",
    "\n",
    "It can be useful (especially in larger projects) to have a hierarchy of\n",
    "classes.\n",
    "\n",
    "Example:\n",
    "* Animal\n",
    "    * Bird\n",
    "        * Hawk\n",
    "        * Seagull\n",
    "        * ...\n",
    "    * Pet\n",
    "        * Dog\n",
    "        * Cat\n",
    "        * ...\n",
    "    * ..."
   ]
  },
  {
   "cell_type": "markdown",
   "metadata": {
    "slideshow": {
     "slide_type": "subslide"
    }
   },
   "source": [
    "## Inheritance\n",
    "\n",
    "Suppose we first define an abstract class:\n",
    "\n",
    "```python\n",
    "class Animal:\n",
    "    def __init__(self, n_legs, color):\n",
    "        self.n_legs = n_legs\n",
    "        self.color = color\n",
    "\n",
    "    def make_noise(self):\n",
    "        print 'noise'\n",
    "```\n"
   ]
  },
  {
   "cell_type": "markdown",
   "metadata": {
    "slideshow": {
     "slide_type": "subslide"
    }
   },
   "source": [
    "## Inheritance (cont.)\n",
    "\n",
    "We can define sub classes and inherit from another class.\n",
    "\n",
    "```python\n",
    "class Dog(Animal):\n",
    "    def __init__(self, color, name):\n",
    "        Animal.__init__(self, 4, color)\n",
    "        self.name = name\n",
    "    def make_noise(self):\n",
    "        print(self.name + ': ' + 'woof')\n",
    "```"
   ]
  },
  {
   "cell_type": "code",
   "execution_count": 102,
   "metadata": {
    "slideshow": {
     "slide_type": "subslide"
    }
   },
   "outputs": [],
   "source": [
    "class Animal:\n",
    "    def __init__(self, n_legs, color):\n",
    "        self.n_legs = n_legs\n",
    "        self.color = color\n",
    "\n",
    "    def make_noise(self):\n",
    "        print('noise')\n",
    "        \n",
    "class Dog(Animal):\n",
    "    def __init__(self, color, name):\n",
    "        Animal.__init__(self, 4, color)\n",
    "        self.name = name\n",
    "    def make_noise(self):\n",
    "        print(self.name + ': ' + 'woof')       \n",
    "        \n"
   ]
  },
  {
   "cell_type": "markdown",
   "metadata": {
    "slideshow": {
     "slide_type": "subslide"
    }
   },
   "source": [
    "## Inheritance (cont.)\n",
    "\n",
    "- At this point, we have defined `Animal` and `Dog` classes s.t. an `Animal` *is* a `Dog` and all `Dog`s can inherit data attributes from ` Animal `\n"
   ]
  },
  {
   "cell_type": "code",
   "execution_count": 170,
   "metadata": {
    "slideshow": {
     "slide_type": "fragment"
    }
   },
   "outputs": [
    {
     "name": "stdout",
     "output_type": "stream",
     "text": [
      "noise\n",
      "Brutus: woof\n",
      "Brutus has 4 legs\n",
      "Brutus has black color\n",
      "Shelly: woof\n",
      "Brutus has 4 legs\n",
      "Brutus has white color\n"
     ]
    }
   ],
   "source": [
    "bird = Animal(2, 'white')\n",
    "bird.make_noise()\n",
    "\n",
    "brutus = Dog('black', 'Brutus')\n",
    "brutus.make_noise()\n",
    "print(\"Brutus has {} legs\".format(brutus.n_legs))\n",
    "print(\"Brutus has {} color\".format(brutus.color))\n",
    "\n",
    "\n",
    "shelly = Dog('white', 'Shelly')\n",
    "shelly.make_noise()\n",
    "print(\"Brutus has {} legs\".format(shelly.n_legs))\n",
    "print(\"Brutus has {} color\".format(shelly.color))\n"
   ]
  },
  {
   "cell_type": "markdown",
   "metadata": {
    "slideshow": {
     "slide_type": "subslide"
    }
   },
   "source": [
    "## Base methods\n",
    "\n",
    "Some methods to override\n",
    "\n",
    "* `__init__`: Constructor\n",
    "* `__repr__`: Represent the object for machines, should be unambiguous\n",
    "* `__str__`: Represent the object for humans), returns a string\n",
    "* `__cmp__`: Compare"
   ]
  },
  {
   "cell_type": "code",
   "execution_count": 173,
   "metadata": {
    "slideshow": {
     "slide_type": "subslide"
    }
   },
   "outputs": [
    {
     "name": "stdout",
     "output_type": "stream",
     "text": [
      "I am a white Dog named Shelly.\n",
      "Dog('white','Shelly')\n"
     ]
    }
   ],
   "source": [
    "class Dog(Animal):\n",
    "    def __init__(self, color, name):\n",
    "        Animal.__init__(self, 4, color)\n",
    "        self.name = name\n",
    "    def make_noise(self):\n",
    "        print((self.name + ': ' + 'woof'))\n",
    "    def __repr__(self):\n",
    "        return \"Dog({},{})\".format(repr(self.color),repr(self.name))\n",
    "    def __str__(self):\n",
    "        return \"I am a {} Dog named {}.\".format(self.color,self.name)\n",
    "\n",
    "shelly = Dog('white', 'Shelly')\n",
    "print(shelly)\n",
    "print(repr(shelly))"
   ]
  },
  {
   "cell_type": "markdown",
   "metadata": {
    "slideshow": {
     "slide_type": "subslide"
    }
   },
   "source": [
    "## Example: Rational numbers\n",
    "\n",
    "Implementing Rational numbers\n",
    "\n",
    "```python\n",
    "class Rational:\n",
    "    pass\n",
    "```"
   ]
  },
  {
   "cell_type": "markdown",
   "metadata": {
    "slideshow": {
     "slide_type": "subslide"
    }
   },
   "source": [
    "## Setup\n",
    "\n",
    "What information should the class hold?\n",
    "\n",
    "* Numerator\n",
    "* Denominator"
   ]
  },
  {
   "cell_type": "markdown",
   "metadata": {
    "slideshow": {
     "slide_type": "subslide"
    }
   },
   "source": [
    "## Init & Repr\n",
    "\n",
    "Implement the `__init__` and `__repr__` methods.\n",
    "\n",
    "```python\n",
    "class Rational:\n",
    "    def __init__(self, p, q=1):\n",
    "        self.p = p\n",
    "        self.q = q\n",
    "    def __repr__(self):\n",
    "        return \"Rational({},{})\".format(self.p,self.q)\n",
    "```\n",
    "\n",
    "```python\n",
    "Rational(21,9)\n",
    "```\n",
    "\n",
    "```python\n",
    "Rational(7,3)\n",
    "```"
   ]
  },
  {
   "cell_type": "code",
   "execution_count": 110,
   "metadata": {
    "slideshow": {
     "slide_type": "fragment"
    }
   },
   "outputs": [
    {
     "data": {
      "text/plain": [
       "Rational(7,3)"
      ]
     },
     "execution_count": 110,
     "metadata": {},
     "output_type": "execute_result"
    }
   ],
   "source": [
    "class Rational:\n",
    "    def __init__(self, p, q=1):\n",
    "        self.p = p\n",
    "        self.q = q\n",
    "    def __repr__(self):\n",
    "        return \"Rational({},{})\".format(self.p,self.q)\n",
    "\n",
    "Rational(21,9)\n",
    "Rational(7,3)"
   ]
  },
  {
   "cell_type": "markdown",
   "metadata": {
    "slideshow": {
     "slide_type": "subslide"
    }
   },
   "source": [
    "## Issues\n",
    "\n",
    "* Division by 0?\n",
    "  * Solution: raise an exception if denominator is ever 0\n",
    "* Non-unique representation: $\\frac{10}{20}$ and $\\frac{1}{2}$ are the same\n",
    "  rational.\n",
    "  * solution always divide $a$ and $b$ by the greatest common divisor in\n",
    "    representation"
   ]
  },
  {
   "cell_type": "markdown",
   "metadata": {
    "slideshow": {
     "slide_type": "subslide"
    }
   },
   "source": [
    "## Greatest common divisor\n",
    "\n",
    "Implement a `gcd(a, b)` function that computes the greatest common\n",
    "divisor of $a$ and $b$.  Let's use the [Euclidian algorithm][wiki-eucidian].\n",
    "\n",
    "[wiki-eucidian]: https://en.wikipedia.org/wiki/Euclidean_algorithm\n",
    "\n",
    "```python\n",
    "def gcd(a, b):\n",
    "    if b == 0:\n",
    "        return a\n",
    "    else:\n",
    "        return gcd(b, a % b)\n",
    "        \n",
    "gcd(21,9)\n",
    "```\n"
   ]
  },
  {
   "cell_type": "code",
   "execution_count": 111,
   "metadata": {
    "slideshow": {
     "slide_type": "fragment"
    }
   },
   "outputs": [
    {
     "data": {
      "text/plain": [
       "3"
      ]
     },
     "execution_count": 111,
     "metadata": {},
     "output_type": "execute_result"
    }
   ],
   "source": [
    "def gcd(a, b):\n",
    "    if b == 0:\n",
    "        return a\n",
    "    else:\n",
    "        return gcd(b, a % b)\n",
    "    \n",
    "gcd(21,9)"
   ]
  },
  {
   "cell_type": "markdown",
   "metadata": {
    "slideshow": {
     "slide_type": "subslide"
    }
   },
   "source": [
    "## Greatest common divisor (cont.)\n",
    "\n",
    "Now when we construct a `Rational` we compute a unique representation:\n",
    "\n",
    "```python\n",
    "class Rational:\n",
    "    def __init__(self, p, q=1):\n",
    "        g = gcd(p, q)\n",
    "        self.p = p / g\n",
    "        self.q = q / g\n",
    "    def __repr__(self):\n",
    "        return \"Rational({},{})\".format(self.p,self.q)\n",
    "```\n",
    "\n",
    "```python\n",
    "Rational(21,9)\n",
    "```\n",
    "\n",
    "```python\n",
    "Rational(7,3)\n",
    "```"
   ]
  },
  {
   "cell_type": "markdown",
   "metadata": {
    "slideshow": {
     "slide_type": "subslide"
    }
   },
   "source": [
    "## Adding the ```str()``` method\n",
    "\n",
    "```python\n",
    "class Rational:\n",
    "    def __init__(self, p, q=1):\n",
    "        g = gcd(p, q)\n",
    "        self.p = p // g\n",
    "        self.q = q // g\n",
    "    def __repr__(self):\n",
    "        return \"Rational({},{})\".format(self.p,self.q)\n",
    "    def __str__(self):\n",
    "        return \"{} // {}\".format(self.p,self.q)\n",
    "```\n",
    "\n",
    "```python\n",
    "print(Rational(7,3))\n",
    "```"
   ]
  },
  {
   "cell_type": "code",
   "execution_count": 116,
   "metadata": {},
   "outputs": [
    {
     "name": "stdout",
     "output_type": "stream",
     "text": [
      "7 / 3\n"
     ]
    },
    {
     "data": {
      "text/plain": [
       "Rational(7,3)"
      ]
     },
     "execution_count": 116,
     "metadata": {},
     "output_type": "execute_result"
    }
   ],
   "source": [
    "def gcd(a, b):\n",
    "    if b == 0:\n",
    "        return a\n",
    "    else:\n",
    "        return gcd(b, a % b)\n",
    "\n",
    "class Rational:\n",
    "    def __init__(self, p, q=1):\n",
    "        g = gcd(p, q)\n",
    "        self.p = p // g\n",
    "        self.q = q // g\n",
    "    def __repr__(self):\n",
    "        return \"Rational({},{})\".format(self.p,self.q)\n",
    "    def __str__(self):\n",
    "        return \"{} / {}\".format(self.p,self.q)\n",
    "    \n",
    "print(Rational(7,3))\n",
    "Rational(7,3)"
   ]
  },
  {
   "cell_type": "markdown",
   "metadata": {
    "slideshow": {
     "slide_type": "subslide"
    }
   },
   "source": [
    "## Operator overloading\n",
    "### Adding two Rationals\n",
    "\n",
    "Add Rationals just like `int` and `float`?\n",
    "\n",
    "`Rational(10,2) + Rational(4,3)`\n",
    "\n",
    "To use `+`, we implement the `__add__` method"
   ]
  },
  {
   "cell_type": "markdown",
   "metadata": {
    "slideshow": {
     "slide_type": "subslide"
    }
   },
   "source": [
    "## Operator overloading (cont.)\n",
    "### Adding two Rationals\n",
    "\n",
    "```python\n",
    "class Rational:\n",
    "    def __init__(self, p, q=1):\n",
    "        g = gcd(p, q)\n",
    "        self.p = p // g\n",
    "        self.q = q // g\n",
    "    def __add__(self, other):\n",
    "        p = self.p * other.q + other.p * self.q\n",
    "        q = self.q * other.q\n",
    "        return Rational(p, q)\n",
    "    def __repr__(self):\n",
    "        return \"Rational({},{})\".format(self.p,self.q)\n",
    "    def __str__(self):\n",
    "        return \"{} / {}\".format(self.p,self.q)\n",
    "```"
   ]
  },
  {
   "cell_type": "code",
   "execution_count": 118,
   "metadata": {
    "slideshow": {
     "slide_type": "subslide"
    }
   },
   "outputs": [
    {
     "name": "stdout",
     "output_type": "stream",
     "text": [
      "5 / 4\n"
     ]
    }
   ],
   "source": [
    "class Rational:\n",
    "    def __init__(self, p, q=1):\n",
    "        g = gcd(p, q)\n",
    "        self.p = p // g\n",
    "        self.q = q // g\n",
    "    def __add__(self, other):\n",
    "        p = self.p * other.q + other.p * self.q\n",
    "        q = self.q * other.q\n",
    "        return Rational(p, q)\n",
    "    def __repr__(self):\n",
    "        return \"Rational({},{})\".format(self.p,self.q)\n",
    "    def __str__(self):\n",
    "        return \"{} / {}\".format(self.p,self.q)\n",
    "    \n",
    "new_rational = Rational(1,2) + Rational(3,4)\n",
    "print(new_rational)"
   ]
  },
  {
   "cell_type": "markdown",
   "metadata": {
    "slideshow": {
     "slide_type": "subslide"
    }
   },
   "source": [
    "## Operator overloading (cont.)\n",
    "### Adding two Rationals\n",
    "\n",
    "Now we have the ability to add two Rationals with the standard ```+``` operator:\n",
    "\n",
    "\n",
    "```python\n",
    "Rational(1,2) + Rational(3,4)\n",
    "```\n",
    "\n",
    "```python\n",
    "Rational(1,2) + Rational(1,2)\n",
    "```\n",
    "\n",
    "There are many Python operators we can overload.  See `help(int)` for a summary.\n",
    "\n",
    "```python\n",
    "help(int)\n",
    "```"
   ]
  },
  {
   "cell_type": "markdown",
   "metadata": {
    "slideshow": {
     "slide_type": "subslide"
    }
   },
   "source": [
    "# Remember Iterators\n",
    "\n",
    "- Remember how i said for containers it calls iter on the containment object. This iter function returns an iterator that defines the ``` __next__() ``` method which accesses elements one at a time until the container is empty at which point it raises a StopIteration exeception.\n",
    "\n",
    "\n",
    "```python\n",
    "for element in [1, 2, 3,4,5]:\n",
    "    print(element)\n",
    "for key in {'1':1, '1':2}:\n",
    "    print(key)\n",
    "for char in \"12345\":\n",
    "    print(char)\n",
    "    \n",
    "   ```"
   ]
  },
  {
   "cell_type": "code",
   "execution_count": 174,
   "metadata": {
    "slideshow": {
     "slide_type": "fragment"
    }
   },
   "outputs": [
    {
     "name": "stdout",
     "output_type": "stream",
     "text": [
      "1\n",
      "2\n",
      "3\n",
      "4\n",
      "5\n",
      "1\n",
      "1\n",
      "2\n",
      "3\n",
      "4\n",
      "5\n"
     ]
    }
   ],
   "source": [
    "for element in [1, 2, 3,4,5]:\n",
    "    print(element)\n",
    "for key in {'1':1, '1':2}:\n",
    "    print(key)\n",
    "for char in \"12345\":\n",
    "    print(char)"
   ]
  },
  {
   "cell_type": "markdown",
   "metadata": {
    "slideshow": {
     "slide_type": "subslide"
    }
   },
   "source": [
    "# Let's add iterator protocol to some class\n",
    "\n",
    "- But let's make it iterate backward"
   ]
  },
  {
   "cell_type": "code",
   "execution_count": 13,
   "metadata": {
    "slideshow": {
     "slide_type": "fragment"
    }
   },
   "outputs": [],
   "source": [
    "import random \n",
    "\n",
    "class RevIter:\n",
    "\n",
    "    def __init__(self, data):\n",
    "        self.data = data\n",
    "        self.index = len(data)\n",
    "\n",
    "    def __iter__(self):\n",
    "        return self\n",
    "\n",
    "    def __next__(self):\n",
    "        if self.index == 0:\n",
    "            raise StopIteration\n",
    "        self.index -= 1\n",
    "        return self.data[self.index]\n"
   ]
  },
  {
   "cell_type": "code",
   "execution_count": 14,
   "metadata": {
    "slideshow": {
     "slide_type": "subslide"
    }
   },
   "outputs": [
    {
     "name": "stdout",
     "output_type": "stream",
     "text": [
      "9\n",
      "8\n",
      "7\n",
      "6\n",
      "5\n",
      "4\n",
      "3\n",
      "2\n",
      "1\n",
      "0\n"
     ]
    }
   ],
   "source": [
    "reverse_range = RevIter(range(10))\n",
    "\n",
    "for i in reverse_range:\n",
    "    print(i)\n"
   ]
  },
  {
   "cell_type": "code",
   "execution_count": 15,
   "metadata": {
    "slideshow": {
     "slide_type": "subslide"
    }
   },
   "outputs": [],
   "source": [
    "import random\n",
    "\n",
    "\n",
    "class RandomIter:\n",
    "    hi = 'hi'\n",
    "    def __init__(self, data):\n",
    "        self.data = data\n",
    "        self.indices = list(range(len(data)))\n",
    "\n",
    "    def __iter__(self):\n",
    "        return self\n",
    "\n",
    "    def __next__(self):\n",
    "        if not self.indices:\n",
    "            raise StopIteration\n",
    "        else:\n",
    "            idx = random.randint(0, len(self.indices)-1)\n",
    "            val_idx = self.indices[idx]\n",
    "            self.indices.pop(idx)\n",
    "            return self.data[val_idx]\n",
    "\n",
    "class PartialIter(RandomIter):\n",
    "    def __init__(self, data, size):\n",
    "        super().__init__(data[0:size])"
   ]
  },
  {
   "cell_type": "code",
   "execution_count": 19,
   "metadata": {
    "slideshow": {
     "slide_type": "subslide"
    }
   },
   "outputs": [
    {
     "name": "stdout",
     "output_type": "stream",
     "text": [
      "--------------------------------------------------\n",
      "5\n",
      "2\n",
      "1\n",
      "0\n",
      "6\n",
      "8\n",
      "9\n",
      "4\n",
      "7\n",
      "3\n",
      "--------------------------------------------------\n",
      "0\n",
      "2\n",
      "3\n",
      "4\n",
      "1\n",
      "--------------------------------------------------\n"
     ]
    }
   ],
   "source": [
    "random_iter =RandomIter(range(10))\n",
    "partial_iter = PartialIter(range(10),5)\n",
    "\n",
    "print('-'*50)\n",
    "for i in random_iter:\n",
    "    print(i)\n",
    "print(('-'*50))\n",
    "\n",
    "\n",
    "for i in partial_iter:\n",
    "    print(i)\n",
    "print('-'*50)\n",
    "\n"
   ]
  },
  {
   "cell_type": "markdown",
   "metadata": {
    "slideshow": {
     "slide_type": "subslide"
    }
   },
   "source": [
    "## Wrap-up\n",
    "\n",
    "* In this section, we covered the basics of object-oriented programming in\n",
    "Python\n",
    "  * defining a class\n",
    "  * creating objects\n",
    "  * constructors\n",
    "  * string representation\n",
    "  * The idea of inheritance\n",
    "  * overloading operators, such as `+`\n",
    "* These are powerful features, but abuse or mis-use leads to code that is\n",
    "difficult to understand"
   ]
  },
  {
   "cell_type": "markdown",
   "metadata": {
    "slideshow": {
     "slide_type": "slide"
    }
   },
   "source": [
    "# Exercises\n",
    "\n",
    "<br>\n",
    "Posted under Exercises section on course website: <br> <br>```https://web.stanford.edu/~jacobp2/src/html/exercises.html```"
   ]
  },
  {
   "cell_type": "markdown",
   "metadata": {
    "slideshow": {
     "slide_type": "slide"
    }
   },
   "source": [
    "# Homework 1\n",
    "\n",
    "#### Due Friday 4/20 \n",
    "\n",
    "Posted on the course website. \n",
    "\n",
    "```https://web.stanford.edu/~jacobp2/src/html/exercises.html```\n",
    "\n",
    "If you need more time to complete the homework please let me know as soon as possible!"
   ]
  },
  {
   "cell_type": "code",
   "execution_count": null,
   "metadata": {
    "collapsed": true,
    "slideshow": {
     "slide_type": "skip"
    }
   },
   "outputs": [],
   "source": []
  }
 ],
 "metadata": {
  "celltoolbar": "Slideshow",
  "kernelspec": {
   "display_name": "Python 3",
   "language": "python",
   "name": "python3"
  },
  "language_info": {
   "codemirror_mode": {
    "name": "ipython",
    "version": 3
   },
   "file_extension": ".py",
   "mimetype": "text/x-python",
   "name": "python",
   "nbconvert_exporter": "python",
   "pygments_lexer": "ipython3",
   "version": "3.6.1"
  },
  "nbpresent": {
   "slides": {
    "933f0936-8e4d-487a-b1d2-7de7c8056959": {
     "id": "933f0936-8e4d-487a-b1d2-7de7c8056959",
     "prev": null,
     "regions": {
      "29bfbd0a-4b01-4b14-9acf-280d75ad4e02": {
       "attrs": {
        "height": 1,
        "width": 1,
        "x": -0.052023118050195334,
        "y": 0.10089331985492428
       },
       "id": "29bfbd0a-4b01-4b14-9acf-280d75ad4e02"
      }
     }
    }
   },
   "themes": {
    "default": "254e2e7f-be4a-4770-9d75-364f6733f9b5",
    "theme": {}
   }
  }
 },
 "nbformat": 4,
 "nbformat_minor": 2
}
