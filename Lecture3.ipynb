{
 "cells": [
  {
   "cell_type": "code",
   "execution_count": 1,
   "metadata": {
    "slideshow": {
     "slide_type": "skip"
    }
   },
   "outputs": [
    {
     "data": {
      "text/plain": [
       "{'start_slideshow_at': 'selected', 'theme': 'simple', 'transition': 'zoom'}"
      ]
     },
     "execution_count": 1,
     "metadata": {},
     "output_type": "execute_result"
    }
   ],
   "source": [
    "from traitlets.config.manager import BaseJSONConfigManager\n",
    "# To make this work, replace path with your own:\n",
    "# On the command line, type juypter --paths to see where your nbconfig is stored\n",
    "# Should be in the environment in which you install reveal.js\n",
    "path = \" /Users/Blake/.virtualenvs/cme193/bin/../etc/jupyter\"\n",
    "cm = BaseJSONConfigManager(config_dir=path)\n",
    "cm.update('livereveal', {\n",
    "              'theme': 'simple',\n",
    "              'transition': 'zoom',\n",
    "              'start_slideshow_at': 'selected',\n",
    "    })"
   ]
  },
  {
   "cell_type": "code",
   "execution_count": 2,
   "metadata": {
    "slideshow": {
     "slide_type": "skip"
    }
   },
   "outputs": [
    {
     "data": {
      "text/html": [
       "<link rel=\"stylesheet\" type=\"text/css\" href=\"custom.css\">"
      ],
      "text/plain": [
       "<IPython.core.display.HTML object>"
      ]
     },
     "metadata": {},
     "output_type": "display_data"
    }
   ],
   "source": [
    "%%HTML \n",
    "<link rel=\"stylesheet\" type=\"text/css\" href=\"custom.css\">"
   ]
  },
  {
   "cell_type": "markdown",
   "metadata": {
    "nbpresent": {
     "id": "a499af69-0fe0-4eb0-b156-5f5396da619d"
    },
    "slideshow": {
     "slide_type": "slide"
    }
   },
   "source": [
    "# CME 193 \n",
    "## Introduction to Scientific Python\n",
    "## Spring 2018\n",
    "\n",
    "<br>\n",
    "\n",
    "## Lecture 3\n",
    "-------------\n",
    "### Map Objects and Iterators\n"
   ]
  },
  {
   "cell_type": "markdown",
   "metadata": {
    "nbpresent": {
     "id": "487809eb-b9d2-4bcc-8942-ca61011c3204"
    },
    "slideshow": {
     "slide_type": "slide"
    }
   },
   "source": [
    "# Lecture 3 Contents\n",
    "\n",
    "* Collections \n",
    "\n",
    " * Lists,Tuples (Review)\n",
    "\n",
    " * Dictionaries\n",
    "\n",
    " * Sets\n",
    " \n",
    " * Generators\n",
    " \n",
    " * Itertools\n",
    "\n",
    "* HW1/Exercises"
   ]
  },
  {
   "cell_type": "markdown",
   "metadata": {
    "slideshow": {
     "slide_type": "skip"
    }
   },
   "source": [
    "---"
   ]
  },
  {
   "cell_type": "markdown",
   "metadata": {
    "slideshow": {
     "slide_type": "slide"
    }
   },
   "source": [
    "# Lists"
   ]
  },
  {
   "cell_type": "markdown",
   "metadata": {
    "slideshow": {
     "slide_type": "subslide"
    }
   },
   "source": [
    "# Lists\n",
    "\n",
    "- container that  holds multiple objects in a *specific order*.\n",
    "\n",
    "- square brackets (`[]`)\n",
    "\n",
    "- Lists are mutable\n",
    "\n",
    "- Lists can hold objects of any type\n",
    "\n",
    "- 0-based indexing; also supports negative indexing\n",
    "\n"
   ]
  },
  {
   "cell_type": "markdown",
   "metadata": {
    "slideshow": {
     "slide_type": "subslide"
    }
   },
   "source": [
    "# Lists\n",
    "\n",
    "#### Slicing\n",
    "\n",
    "`l[start:end:step]`\n",
    "\n",
    "<br>\n",
    "#### Copy \n",
    "\n",
    "Use the `list()` constructor explicitly or the slice operator `[:]`\n",
    "<br>\n",
    "\n",
    "#### Simple looping with `for-in`\n",
    "\n",
    "`for elem in myList:\n",
    "      ...\n",
    "`"
   ]
  },
  {
   "cell_type": "markdown",
   "metadata": {
    "slideshow": {
     "slide_type": "subslide"
    }
   },
   "source": [
    "# Lists\n",
    "<br>\n",
    "### Looping  w/ enumerate \n",
    "Use `enumerate` if you need a local variable with the current index as well as the value.\n",
    "\n",
    "`\n",
    "for ind, elem in enumerate(myList):\n",
    "      ...\n",
    "`\n",
    "<br>\n",
    "### List comprehensions\n",
    "\n",
    "Concise way to create lists is using *list comprehensions*.\n",
    "\n",
    "`list_2 = [x**2 for x in range(5)]`\n",
    "\n",
    "<br>\n",
    "### Other important functions for lists\n",
    "- `map`, `filter`,  `reduce`\n",
    "- [Simple tutorial](http://www.python-course.eu/lambda.php)"
   ]
  },
  {
   "cell_type": "markdown",
   "metadata": {
    "slideshow": {
     "slide_type": "slide"
    }
   },
   "source": [
    "# Tuples"
   ]
  },
  {
   "cell_type": "markdown",
   "metadata": {
    "slideshow": {
     "slide_type": "subslide"
    }
   },
   "source": [
    "# Tuples\n",
    "\n",
    "Tuples are similar to lists:\n",
    "\n",
    "* Tuples are created with parens `()` and not brackets `[]`\n",
    "* Tuple elements are accessed like list elements\n",
    "* Tuples are immutable\n",
    "\n",
    "```python\n",
    "my_tuple = (1, 2, 3)\n",
    "\n",
    "print(my_tuple[1]) # 2\n",
    "\n",
    "print(my_tuple[1:3]) # (2,3)\n",
    "```\n",
    "\n"
   ]
  },
  {
   "cell_type": "markdown",
   "metadata": {
    "slideshow": {
     "slide_type": "subslide"
    }
   },
   "source": [
    "## Tuples are immutable\n",
    "\n",
    "Unlike lists, we cannot change elements of a tuple.\n",
    "\n",
    "```python\n",
    "my_list = [\"I\", \"am\", \"a\", \"list\"]\n",
    "\n",
    "my_list[1] = \"be\"\n",
    "```\n",
    "\n",
    "```python\n",
    "my_tuple = (\"I\", \"am\", \"a\", \"tuple\")\n",
    "\n",
    "my_tuple[1] = \"be\"\n",
    "```\n",
    "\n",
    "Once a tuple is created, it cannot be modified."
   ]
  },
  {
   "cell_type": "code",
   "execution_count": 3,
   "metadata": {
    "slideshow": {
     "slide_type": "subslide"
    }
   },
   "outputs": [
    {
     "ename": "TypeError",
     "evalue": "'tuple' object does not support item assignment",
     "output_type": "error",
     "traceback": [
      "\u001b[0;31m---------------------------------------------------------------------------\u001b[0m",
      "\u001b[0;31mTypeError\u001b[0m                                 Traceback (most recent call last)",
      "\u001b[0;32m<ipython-input-3-cde8e0aef012>\u001b[0m in \u001b[0;36m<module>\u001b[0;34m()\u001b[0m\n\u001b[1;32m      6\u001b[0m \u001b[0mmy_tuple\u001b[0m \u001b[0;34m=\u001b[0m \u001b[0;34m(\u001b[0m\u001b[0;34m\"I\"\u001b[0m\u001b[0;34m,\u001b[0m \u001b[0;34m\"am\"\u001b[0m\u001b[0;34m,\u001b[0m \u001b[0;34m\"a\"\u001b[0m\u001b[0;34m,\u001b[0m \u001b[0;34m\"tuple\"\u001b[0m\u001b[0;34m)\u001b[0m\u001b[0;34m\u001b[0m\u001b[0m\n\u001b[1;32m      7\u001b[0m \u001b[0;31m# Throws a TypeError\u001b[0m\u001b[0;34m\u001b[0m\u001b[0;34m\u001b[0m\u001b[0m\n\u001b[0;32m----> 8\u001b[0;31m \u001b[0mmy_tuple\u001b[0m\u001b[0;34m[\u001b[0m\u001b[0;36m1\u001b[0m\u001b[0;34m]\u001b[0m \u001b[0;34m=\u001b[0m \u001b[0;34m\"be\"\u001b[0m\u001b[0;34m\u001b[0m\u001b[0m\n\u001b[0m",
      "\u001b[0;31mTypeError\u001b[0m: 'tuple' object does not support item assignment"
     ]
    }
   ],
   "source": [
    "#Example of immutability\n",
    "\n",
    "my_list = [\"I\", \"am\", \"a\", \"list\"]\n",
    "my_list[1] = \"be\"\n",
    "\n",
    "my_tuple = (\"I\", \"am\", \"a\", \"tuple\")\n",
    "# Throws a TypeError\n",
    "my_tuple[1] = \"be\""
   ]
  },
  {
   "cell_type": "markdown",
   "metadata": {
    "slideshow": {
     "slide_type": "subslide"
    }
   },
   "source": [
    "\n",
    "## Tuple packing and unpacking\n",
    "\n",
    "Tuple packing and unpacking is very convenient Python syntax.  In packing, a\n",
    "tuple is automatically created by combining values or variables with commas:\n",
    "\n",
    "```python\n",
    "t = 1, 2, 3\n",
    "\n",
    "print(\"type(t):\", type(t))\n",
    "\n",
    "print(\"t:\", t)\n",
    "```\n",
    "\n",
    "Tuple unpacking can store the elements of a tuple into multiple variables in one\n",
    "line of code."
   ]
  },
  {
   "cell_type": "code",
   "execution_count": 13,
   "metadata": {
    "slideshow": {
     "slide_type": "subslide"
    }
   },
   "outputs": [],
   "source": [
    "my_tuple = (\"a string\", 43, 99.9)\n",
    "my_str, my_int, my_flt = my_tuple\n",
    "\n",
    "# This is equivalent to:\n",
    "my_tuple = (\"a string\", 43, 99.9)\n",
    "my_str = my_tuple[0]\n",
    "my_int = my_tuple[1]\n",
    "my_flt = my_tuple[2]"
   ]
  },
  {
   "cell_type": "code",
   "execution_count": 14,
   "metadata": {
    "slideshow": {
     "slide_type": "subslide"
    }
   },
   "outputs": [
    {
     "name": "stdout",
     "output_type": "stream",
     "text": [
      "a: a string\n",
      "b: [43, 99.9] \n",
      "--------------------------------------------------\n",
      "first: 0\n",
      "rest:[1, 2, 3, 4, 5, 6, 7, 8]\n",
      "last:9\n"
     ]
    }
   ],
   "source": [
    "# More complicated synatx\n",
    "a, *b = my_tuple\n",
    "print(\"a: {}\\nb: {} \".format(a,b))\n",
    "print('-'*50)\n",
    "## You can also do \n",
    "my_tuple = tuple(range(10))\n",
    "first, *rest, last = my_tuple\n",
    "print(\"first: {}\\nrest:{}\\nlast:{}\".format(first, rest, last))"
   ]
  },
  {
   "cell_type": "code",
   "execution_count": 16,
   "metadata": {
    "slideshow": {
     "slide_type": "subslide"
    }
   },
   "outputs": [
    {
     "name": "stdout",
     "output_type": "stream",
     "text": [
      "first: 1\n",
      "rest:[2]\n",
      "last:3\n",
      "\n",
      "\n",
      "first: 1\n",
      "rest:[23, 56, 335]\n",
      "last:6\n",
      "\n",
      "\n",
      "first: 2\n",
      "rest:[]\n",
      "last:3\n",
      "\n",
      "\n"
     ]
    }
   ],
   "source": [
    "## Similarly you can write\n",
    "import random\n",
    "for first, *rest, last in [(1,2,3), [1,23,56,335,6], (2,3)]:\n",
    "    print(\"first: {}\\nrest:{}\\nlast:{}\\n\\n\".format(first, rest, last))\n",
    "    "
   ]
  },
  {
   "cell_type": "markdown",
   "metadata": {
    "slideshow": {
     "slide_type": "subslide"
    }
   },
   "source": [
    "# We've seen tuple unpacking before\n",
    "- In function return statements \n",
    "- In enumerate "
   ]
  },
  {
   "cell_type": "code",
   "execution_count": 43,
   "metadata": {
    "slideshow": {
     "slide_type": "fragment"
    }
   },
   "outputs": [
    {
     "name": "stdout",
     "output_type": "stream",
     "text": [
      "(0, 5)\n",
      "(1, 4)\n",
      "(2, 3)\n",
      "--------------------------------------------------\n",
      "0 5\n",
      "1 4\n",
      "2 3\n"
     ]
    }
   ],
   "source": [
    "# No unpacking\n",
    "for x in enumerate([5,4,3]):\n",
    "    print(x)\n",
    "print('-'*50)\n",
    "# unpacking \n",
    "for i,x in enumerate([5,4,3]):\n",
    "    print(i,x)"
   ]
  },
  {
   "cell_type": "markdown",
   "metadata": {
    "slideshow": {
     "slide_type": "subslide"
    }
   },
   "source": [
    "# Sanity Understanding Check  + Tough Examples"
   ]
  },
  {
   "cell_type": "code",
   "execution_count": 45,
   "metadata": {
    "slideshow": {
     "slide_type": "fragment"
    }
   },
   "outputs": [],
   "source": [
    "## what happes here\n",
    "a, *b = 1,2,3,4,5 "
   ]
  },
  {
   "cell_type": "code",
   "execution_count": 46,
   "metadata": {
    "slideshow": {
     "slide_type": "fragment"
    }
   },
   "outputs": [
    {
     "name": "stdout",
     "output_type": "stream",
     "text": [
      "a: 1 \t b: [2, 3, 4, 5]\n"
     ]
    }
   ],
   "source": [
    "print(\"a: {a} \\t b: {b}\".format(a=a, b=b))"
   ]
  },
  {
   "cell_type": "code",
   "execution_count": 30,
   "metadata": {
    "slideshow": {
     "slide_type": "fragment"
    }
   },
   "outputs": [],
   "source": [
    "# Here?\n",
    "*a, b = 1,2,3,4,5                    \n",
    "a, *b, c = 1,2,3,4,5\n",
    "a, b,*c = 'hi'  "
   ]
  },
  {
   "cell_type": "code",
   "execution_count": 31,
   "metadata": {
    "slideshow": {
     "slide_type": "fragment"
    }
   },
   "outputs": [],
   "source": [
    "\n",
    "*a, b = 1,2,3,4,5            # a = [1,2,3,4], b = 5        \n",
    "a, *b, c = 1,2,3,4,5         # a = 1, b = [2,3,4], c = 5\n",
    "a, b,*c = 'hi'               # c = 'h', b = 'i', c = []"
   ]
  },
  {
   "cell_type": "code",
   "execution_count": null,
   "metadata": {
    "slideshow": {
     "slide_type": "subslide"
    }
   },
   "outputs": [],
   "source": [
    "# Alright final one, even more confusing!\n",
    "a,*b, (*c,) = 1,2,3,4,5,'XY'\n",
    "*(a,*b), (*c,) = 1,2,3,4,5,'XY'\n",
    "a,*b, *c, = 1,2,3,4,5,'XY'"
   ]
  },
  {
   "cell_type": "code",
   "execution_count": null,
   "metadata": {
    "slideshow": {
     "slide_type": "fragment"
    }
   },
   "outputs": [],
   "source": [
    "# Alright final one, even more confusing!\n",
    "a,*b, (*c,) = 1,2,3,4,5,'XY'        # a = 1, b = [2, 3, 4, 5], c = ['X', 'Y']\n",
    "*(a,*b), (*c,) = 1,2,3,4,5,'XY'     # a = 1, b = [2, 3, 4, 5], c = ['X', 'Y']\n",
    "a,*b, *c, = 1,2,3,4,5,'XY'          # ERRROR"
   ]
  },
  {
   "cell_type": "markdown",
   "metadata": {
    "slideshow": {
     "slide_type": "subslide"
    }
   },
   "source": [
    "# If you want to see more fun tuple unpacking tricks\n",
    "\n",
    "- [fun tuple unpacking exercises](https://stackoverflow.com/questions/6967632/unpacking-extended-unpacking-and-nested-extended-unpacking)"
   ]
  },
  {
   "cell_type": "markdown",
   "metadata": {
    "slideshow": {
     "slide_type": "subslide"
    }
   },
   "source": [
    "## Swapping variables via tuple packing"
   ]
  },
  {
   "cell_type": "code",
   "execution_count": 10,
   "metadata": {
    "slideshow": {
     "slide_type": "subslide"
    }
   },
   "outputs": [
    {
     "name": "stdout",
     "output_type": "stream",
     "text": [
      "5 4\n"
     ]
    }
   ],
   "source": [
    "a = 4\n",
    "b = 5\n",
    "a, b = b, a\n",
    "\n",
    "print(a, b)"
   ]
  },
  {
   "cell_type": "markdown",
   "metadata": {
    "slideshow": {
     "slide_type": "subslide"
    }
   },
   "source": [
    "## Functions with multiple return values\n",
    "\n",
    "Python uses tuples to return multiple values from a function.\n",
    "\n",
    "```python\n",
    "# here is a function with 3 return values\n",
    "def simple_function():\n",
    "    return 1, 2, 3\n",
    "```\n",
    "\n",
    "This can be combined with tuple unpacking.\n",
    "\n",
    "```python\n",
    "a, b, c = simple_function()\n",
    "```"
   ]
  },
  {
   "cell_type": "code",
   "execution_count": 11,
   "metadata": {
    "slideshow": {
     "slide_type": "subslide"
    }
   },
   "outputs": [
    {
     "name": "stdout",
     "output_type": "stream",
     "text": [
      "1 2 3\n",
      "1 [2, 3]\n"
     ]
    }
   ],
   "source": [
    "def simple_function():\n",
    "    return 1, 2, 3\n",
    "\n",
    "a, b, c = simple_function()\n",
    "print(a, end=' ')\n",
    "print(b, end=' ') \n",
    "print(c)\n",
    "\n",
    "#You can use an underscore _ to discard values you don't need\n",
    "a, _, _ = simple_function()\n",
    "\n",
    "# or make a *rest \n",
    "a,*rest = simple_function()\n",
    "\n",
    "print(a,end = ' ')\n",
    "print(rest)\n"
   ]
  },
  {
   "cell_type": "markdown",
   "metadata": {
    "slideshow": {
     "slide_type": "subslide"
    }
   },
   "source": [
    "## So what's with this * operator\n",
    "\n",
    "- Well, it's sometimes called the unpack or splat operator\n",
    "- Applying * on any iterable object, by placing it to the left of the object, produces the individual elements of the iterable."
   ]
  },
  {
   "cell_type": "code",
   "execution_count": 12,
   "metadata": {
    "slideshow": {
     "slide_type": "skip"
    }
   },
   "outputs": [
    {
     "ename": "SyntaxError",
     "evalue": "iterable unpacking cannot be used in comprehension (<ipython-input-12-16d552da213a>, line 5)",
     "output_type": "error",
     "traceback": [
      "\u001b[0;36m  File \u001b[0;32m\"<ipython-input-12-16d552da213a>\"\u001b[0;36m, line \u001b[0;32m5\u001b[0m\n\u001b[0;31m    flatten= lambda x: [*c for c in x]\u001b[0m\n\u001b[0m                       ^\u001b[0m\n\u001b[0;31mSyntaxError\u001b[0m\u001b[0;31m:\u001b[0m iterable unpacking cannot be used in comprehension\n"
     ]
    }
   ],
   "source": [
    "import random \n",
    "x = [[random.randint(0,10) for i in range(2)] for j in range(10)]\n",
    "\n",
    "# So will this work, no can only be used in function calls and assignment\n",
    "flatten= lambda x: [*c for c in x]\n",
    "print((flatten(x)))"
   ]
  },
  {
   "cell_type": "code",
   "execution_count": 17,
   "metadata": {
    "slideshow": {
     "slide_type": "fragment"
    }
   },
   "outputs": [
    {
     "name": "stdout",
     "output_type": "stream",
     "text": [
      "1 2 3 4 5\n",
      "[0, 1, 2, 3, 4]\n",
      "[1, 2, 3, 4]\n"
     ]
    }
   ],
   "source": [
    "# So this is fine\n",
    "print(*[1], *[2], 3, *[4, 5])\n",
    "\n",
    "# and this \n",
    "a = [*range(4), 4]\n",
    "print(a)\n",
    "\n",
    "#of course this\n",
    "def foo(a,b,c,d):\n",
    "    print(\"{}\".format([a,b,c,d]))\n",
    "\n",
    "my_tuple = 1,2,3,4\n",
    "foo(*my_tuple)\n",
    "\n",
    "# SYNTAX ERRORS:\n",
    "# x = *(1,2,3)\n",
    "# a = [*(1,2,3) for i in range(10)]\n",
    "\n"
   ]
  },
  {
   "cell_type": "markdown",
   "metadata": {
    "slideshow": {
     "slide_type": "subslide"
    }
   },
   "source": [
    "# The zip function:\n",
    "\n",
    "- Makes an iterator that aggregates elements from each of the iterables.\n",
    "- It returns an iterator of tuples, where the i'th tuple contiains the i-th element from each argument sequence. It stops when the shortest input iterable is exhausted. "
   ]
  },
  {
   "cell_type": "code",
   "execution_count": 54,
   "metadata": {
    "slideshow": {
     "slide_type": "skip"
    }
   },
   "outputs": [
    {
     "name": "stdout",
     "output_type": "stream",
     "text": [
      "[(2, 100), (3, 101), (4, 102), (5, 103), (6, 104)]\n"
     ]
    }
   ],
   "source": [
    "x = [2,3,4,5,6]\n",
    "y = [100, 101, 102, 103, 104, 105, 106]\n",
    "z = list(zip(x,y))\n",
    "print(z)"
   ]
  },
  {
   "cell_type": "code",
   "execution_count": 99,
   "metadata": {
    "slideshow": {
     "slide_type": "fragment"
    }
   },
   "outputs": [
    {
     "name": "stdout",
     "output_type": "stream",
     "text": [
      "<zip object at 0x107282a48>\n",
      "zipped x,y: [(2, 100), (3, 101), (4, 102), (5, 103), (6, 104)]\n"
     ]
    }
   ],
   "source": [
    "# Zip two lists together \n",
    "x = [2,3,4,5,6]\n",
    "y = [100, 101, 102, 103, 104, 105, 106]\n",
    "print(zip(x,y))\n",
    "print(\"zipped x,y: {}\".format(list(zip(x,y))))  # Only goes to shortest list"
   ]
  },
  {
   "cell_type": "code",
   "execution_count": 101,
   "metadata": {
    "slideshow": {
     "slide_type": "subslide"
    }
   },
   "outputs": [
    {
     "name": "stdout",
     "output_type": "stream",
     "text": [
      "--------------------------------------------------\n",
      "[2, 3, 4, 5, 6]\n",
      "[100, 101, 102, 103, 104]\n"
     ]
    }
   ],
   "source": [
    "print('-'*50)\n",
    "zipped = [(2, 100), (3, 101), (4, 102), (5, 103), (6, 104)]\n",
    "# Can also use this to unzip a list of tuples \n",
    "a, b = zip(*zipped)   # you could see this as zip(*zip(x,y)) \n",
    "print(list(a), list(b), sep = '\\n')"
   ]
  },
  {
   "cell_type": "code",
   "execution_count": 104,
   "metadata": {
    "slideshow": {
     "slide_type": "fragment"
    }
   },
   "outputs": [
    {
     "name": "stdout",
     "output_type": "stream",
     "text": [
      "[(2, 3, 4, 5, 6), (100, 101, 102, 103, 104)]\n"
     ]
    }
   ],
   "source": [
    "c = zip(*zipped)\n",
    "print(list(c))"
   ]
  },
  {
   "cell_type": "code",
   "execution_count": 60,
   "metadata": {
    "slideshow": {
     "slide_type": "skip"
    }
   },
   "outputs": [
    {
     "data": {
      "text/plain": [
       "[(2, 3, 4, 5, 6), (100, 101, 102, 103, 104)]"
      ]
     },
     "execution_count": 60,
     "metadata": {},
     "output_type": "execute_result"
    }
   ],
   "source": [
    "list(zip(*zip(x,y)))"
   ]
  },
  {
   "cell_type": "markdown",
   "metadata": {
    "slideshow": {
     "slide_type": "slide"
    }
   },
   "source": [
    "# Dictionaries"
   ]
  },
  {
   "cell_type": "markdown",
   "metadata": {
    "slideshow": {
     "slide_type": "subslide"
    }
   },
   "source": [
    "# Dictionaries\n",
    "\n",
    "A dictionary is a collection of *key-value* pairs. It maps hashable values to arbitrary objects\n",
    "\n",
    "For example: the keys are all words in the English language, and their\n",
    "corresponding values are the definitions.\n",
    "\n",
    "* dictionaries are created with curly braces `{}` \n",
    "* *keys* and *values* are separated with colon `:`\n",
    "* multiple key-value pairs are separated with a comma `,`\n",
    "* dictionaries are **not** ordered\n",
    "* One can also create a dictionary by using ``` dict ``` on a sequence of key-value pairs\n",
    "\n",
    "\n"
   ]
  },
  {
   "cell_type": "markdown",
   "metadata": {
    "slideshow": {
     "slide_type": "subslide"
    }
   },
   "source": [
    "# Dictionaries \n",
    "Here is an example dictionary in Python syntax:\n",
    "\n",
    "```python\n",
    "vehicles = {\n",
    "    \"car\": \"a road vehicle with four wheels\",\n",
    "    \n",
    "    \"airplane\": \"a flying vehicle with fixed wings\",\n",
    "    \n",
    "    \"boat\": \"a vessel propelled on water\"\n",
    "}\n",
    "```"
   ]
  },
  {
   "cell_type": "markdown",
   "metadata": {
    "slideshow": {
     "slide_type": "subslide"
    }
   },
   "source": [
    "## Keys\n",
    "\n",
    "- Unlike sequences, which are indexed by numbers, dictionaries are indexed by keys, which can be any **immutable** type.\n",
    "- So a key can be a string a number and a tuple (so long as the tuple only contains immutable types).\n",
    "- keys must be unique\n",
    "\n",
    "```python\n",
    "d = {} # this creates an empty dictionary\n",
    "d[1] = \"one\"\n",
    "```\n",
    "\n",
    "We just added the key-value pair `1:\"one\"` to the dictionary. Now `d` looks like this:\n",
    "\n",
    "{1: 'one'}"
   ]
  },
  {
   "cell_type": "markdown",
   "metadata": {
    "slideshow": {
     "slide_type": "subslide"
    }
   },
   "source": [
    "## Keys\n",
    "\n",
    "Let's add some more items.\n",
    "\n",
    "```python\n",
    "d[2] = \"two\"\n",
    "d[\"name\"] = \"value\"\n",
    "d[55.55] = 99\n",
    "print(d)\n",
    "```\n",
    "{1: 'one', 2: 'two', 'name': 'value', 55.55: 99}"
   ]
  },
  {
   "cell_type": "code",
   "execution_count": 30,
   "metadata": {
    "slideshow": {
     "slide_type": "fragment"
    }
   },
   "outputs": [
    {
     "name": "stdout",
     "output_type": "stream",
     "text": [
      "{1: 'one', 2: 'two', 'name': 'value', 55.55: 99}\n"
     ]
    }
   ],
   "source": [
    "d = {}\n",
    "d[1] = \"one\"\n",
    "d[2] = \"two\"\n",
    "d[\"name\"] = \"value\"\n",
    "d[55.55] = 99\n",
    "\n",
    "print(d)"
   ]
  },
  {
   "cell_type": "code",
   "execution_count": 62,
   "metadata": {
    "slideshow": {
     "slide_type": "subslide"
    }
   },
   "outputs": [
    {
     "name": "stdout",
     "output_type": "stream",
     "text": [
      "{1: 'one', 2: 'two', 'name': 'value', 55.55: 99}\n",
      "{1: 'one', 2: 'two', 'name': 'value', 55.55: 99}\n"
     ]
    }
   ],
   "source": [
    "## can equivalently do this\n",
    "d = dict([(1,\"one\"), (2, \"two\"), (\"name\", \"value\"), (55.55, 99)])\n",
    "print(d)\n",
    "\n",
    "## Or this using dictionary comprehension {key:value for key,value in some iterable}\n",
    "d = {x[0]:x[1] for x in [(1,\"one\"), (2, \"two\"), (\"name\", \"value\"), (55.55, 99)]}\n",
    "print(d)"
   ]
  },
  {
   "cell_type": "code",
   "execution_count": 105,
   "metadata": {
    "slideshow": {
     "slide_type": "fragment"
    }
   },
   "outputs": [
    {
     "name": "stdout",
     "output_type": "stream",
     "text": [
      "{1: 'one', 2: 'two', 'name': 'value', 55.55: 99}\n"
     ]
    }
   ],
   "source": [
    "# cleaner syntax in my opinion\n",
    "d = {k:v for k,v in [(1,\"one\"), (2, \"two\"), (\"name\", \"value\"), (55.55, 99)]}\n",
    "print(d)"
   ]
  },
  {
   "cell_type": "code",
   "execution_count": 65,
   "metadata": {
    "slideshow": {
     "slide_type": "skip"
    }
   },
   "outputs": [
    {
     "name": "stdout",
     "output_type": "stream",
     "text": [
      "4415190360\n",
      "4415578256\n",
      "4415144968\n",
      "4415144968\n",
      "4414859336\n",
      "{'one': [5, 2, 3], 'five': 5}\n",
      "{'one': [5, 2, 3], 'five': 5}\n"
     ]
    }
   ],
   "source": [
    "import copy\n",
    "d = {'one': [1,2,3], 'five': 5}\n",
    "e = d.copy()\n",
    "f = copy.deepcopy(d)\n",
    "print(id(d))\n",
    "print(id(e))\n",
    "print(id(d['one']))\n",
    "print(id(e['one']))\n",
    "print(id(f['one']))\n",
    "e['one'][0] = 5\n",
    "print(d)\n",
    "print(e)\n",
    "\n",
    "def foo(a = []):\n",
    "    print(a)\n",
    "    \n",
    "# tmp = list(d.keys())\n",
    "# print(tmp)\n",
    "# d['hello'] = 'world'\n",
    "# tmp = list(d.keys())\n",
    "# print(tmp)"
   ]
  },
  {
   "cell_type": "markdown",
   "metadata": {
    "collapsed": true,
    "slideshow": {
     "slide_type": "subslide"
    }
   },
   "source": [
    "## Updating values\n",
    "\n",
    "We can change the value associated with a key.\n",
    "\n",
    "```python\n",
    "d[2] = \"three\"\n",
    "```\n",
    "\n"
   ]
  },
  {
   "cell_type": "markdown",
   "metadata": {
    "collapsed": true,
    "slideshow": {
     "slide_type": "subslide"
    }
   },
   "source": [
    "## Accessing values\n",
    "\n",
    "Items in a dictionary are accessed using brackets (`[]`) and a key.\n",
    "\n",
    "```python\n",
    "print(d[\"name\"])\n",
    "```"
   ]
  },
  {
   "cell_type": "markdown",
   "metadata": {
    "collapsed": true,
    "slideshow": {
     "slide_type": "subslide"
    }
   },
   "source": [
    "## Checking for existence\n",
    "\n",
    "The `in` operator is used to check for the existence of a key in a dictionary.\n",
    "\n",
    "```python\n",
    "42 in d\n",
    "```\n",
    "\n",
    "#### Example\n",
    "- Given `lecture`, a dictionary keyed by student_id with 'student objects' as values. \n",
    "- Also given `students` which contains a list of student ids. \n",
    "- Check which students are in lecture\n",
    "\n",
    "```python\n",
    "for s in students:\n",
    "    if s in lecture:\n",
    "        print(\"Student {} is in lecture\".format(lecture[s]))\n",
    "\n",
    "```"
   ]
  },
  {
   "cell_type": "markdown",
   "metadata": {
    "collapsed": true,
    "slideshow": {
     "slide_type": "subslide"
    }
   },
   "source": [
    "## Looping over items in a dictionary\n",
    "\n",
    "We can loop over a dictionary in terms of keys, values, or key-value pairs.\n",
    "\n",
    "```python\n",
    "# loop over keys\n",
    "for k in d.keys():\n",
    "    print k\n",
    "```\n",
    "\n",
    "```python\n",
    "# loop over values\n",
    "for value in d.values():\n",
    "    print value\n",
    "```\n",
    "\n",
    "```python\n",
    "# loop over key-value pairs\n",
    "for k, v in d.items():\n",
    "    print k, \":\", v\n",
    "```\n",
    "\n",
    "```python\n",
    "# Another way\n",
    "for k in d:\n",
    "    print k, \":\", d[k]\n",
    "```"
   ]
  },
  {
   "cell_type": "code",
   "execution_count": 66,
   "metadata": {
    "slideshow": {
     "slide_type": "subslide"
    }
   },
   "outputs": [
    {
     "name": "stdout",
     "output_type": "stream",
     "text": [
      "looping over keys\n",
      "--------------------------------------------------\n",
      "one\n",
      "five\n",
      "--------------------------------------------------\n",
      "looping over values\n",
      "--------------------------------------------------\n",
      "[5, 2, 3]\n",
      "5\n",
      "--------------------------------------------------\n"
     ]
    }
   ],
   "source": [
    "\n",
    "print(\"looping over keys\")\n",
    "print(\"-\"*50)\n",
    "for k in d.keys():\n",
    "    print(k)\n",
    "print(\"-\"*50)\n",
    "\n",
    "print(\"looping over values\")\n",
    "print(\"-\"*50)\n",
    "for value in d.values():\n",
    "    print(value)\n",
    "print(\"-\"*50)\n",
    "\n"
   ]
  },
  {
   "cell_type": "code",
   "execution_count": 67,
   "metadata": {
    "slideshow": {
     "slide_type": "subslide"
    }
   },
   "outputs": [
    {
     "name": "stdout",
     "output_type": "stream",
     "text": [
      "looping over key,value pairs\n",
      "--------------------------------------------------\n",
      "one : [5, 2, 3]\n",
      "five : 5\n",
      "--------------------------------------------------\n",
      "Looping over items\n",
      "--------------------------------------------------\n",
      "one : [5, 2, 3]\n",
      "five : 5\n",
      "--------------------------------------------------\n"
     ]
    }
   ],
   "source": [
    "print(\"looping over key,value pairs\")\n",
    "print(\"-\"*50)\n",
    "for k, v in d.items():\n",
    "    print(k, \":\", v)\n",
    "print(\"-\"*50)\n",
    "\n",
    "print(\"Looping over items\")\n",
    "print(\"-\"*50)\n",
    "for k in d:\n",
    "    print(k, \":\", d[k])\n",
    "print(\"-\"*50)\n"
   ]
  },
  {
   "cell_type": "markdown",
   "metadata": {
    "slideshow": {
     "slide_type": "subslide"
    }
   },
   "source": [
    "# Functions for dictionaries \n",
    "- d.clear() : removes all item in dictionary\n",
    "- d.copy() : returns a shallow copy of the dictionary\n",
    "- d.get(key, default) : returns the value for key if key is in the dictionary, else default (which defaults to None)\n",
    "- d.items() : returns a new view of the dictionary's item\n",
    "- d.keys() : returns a new view of the dictionariy's keys\n",
    "- d.pop(key, default) : If key is in dictionary, remove it and return its value, else return default. If default is not given and the key is not in the dictionary, raises KeyError\n",
    "- d.popitem() : Remove and return an arbitrary (key, val) pair. If the dictionary is empty, raises KeyError\n",
    "- d.update(other): Updates the dictionary with key/value pairs from other\n",
    "- d.values() : returns a new view of the dictionary's values"
   ]
  },
  {
   "cell_type": "markdown",
   "metadata": {
    "slideshow": {
     "slide_type": "subslide"
    }
   },
   "source": [
    "# A note on view objects\n",
    "\n",
    "- In Python2.7 d.values, d.keys, d.items return sequence types \n",
    "- In Python 3.6 they return view objects \n",
    "- Dictionary views provide a dynamic view on the dictionary's entries, which means that if the dictionary changes, the views also change. \n",
    "- You can iterate over views to yield the data. They also support membership \n",
    "  * ``` len(dictiew) ```  : return number of entries in the dictionary\n",
    "  * ``` iter(dictview) ``` : returns an iterator over the dictionary view. \n",
    "  * ``` d in dictview ```\n",
    "- Keys views are set-like since their entries are unique and hashable. If all values are hashable, so that (key, value) pairs are unique and hashable, then the items view is also set-like \n",
    "- Why views? \n",
    "  * The dynamic aspect of dictionary view objects is useful since one can work with a view on the dictionary in multiple parts of a program instead of recalculating the current list of  each time they are needed\n",
    "  * Again,** speed and space**: Looking at the window uses only a small and fixed amount of memory and a small and fixed amount of processor time, as there is no creation of a list objects. \n",
    "  * Before, these functions made copies of the dictionary keys, values or (key,value) paris. Copies take time, space, and do not update.\n",
    " \n",
    "- You can always create a list by using list(dict_view)"
   ]
  },
  {
   "cell_type": "code",
   "execution_count": 35,
   "metadata": {
    "slideshow": {
     "slide_type": "subslide"
    }
   },
   "outputs": [
    {
     "name": "stdout",
     "output_type": "stream",
     "text": [
      "None\n",
      "--------------------------------------------------\n",
      "dict_keys(['one', 'two', 'three'])\n",
      "dict_items([('one', 1), ('two', 2), ('three', 3)])\n",
      "dict_values([1, 2, 3])\n",
      "--------------------------------------------------\n",
      "dict_keys(['one', 'two', 'three', 'five'])\n",
      "dict_items([('one', 1), ('two', 2), ('three', 3), ('five', 5)])\n",
      "dict_values([1, 2, 3, 5])\n"
     ]
    }
   ],
   "source": [
    "d =  dict(zip(['one', 'two', 'three'], [1, 2, 3]))\n",
    "# Defaults to none\n",
    "print(d.get(\"hi\", None))\n",
    "print('--'*25)\n",
    "# Save the views\n",
    "dkeys = d.keys()\n",
    "ditems = d.items()\n",
    "dvals = d.values()\n",
    "print(dkeys, ditems, dvals, sep = '\\n')\n",
    "print('--'*25)\n",
    "d['five'] = 5\n",
    "print(dkeys, ditems, dvals, sep = '\\n')"
   ]
  },
  {
   "cell_type": "markdown",
   "metadata": {
    "slideshow": {
     "slide_type": "subslide"
    }
   },
   "source": [
    "## Dictionary Comprehension"
   ]
  },
  {
   "cell_type": "code",
   "execution_count": 72,
   "metadata": {
    "slideshow": {
     "slide_type": "fragment"
    }
   },
   "outputs": [
    {
     "name": "stdout",
     "output_type": "stream",
     "text": [
      "{1: 'one', 2: 'two', 'name': 'value', 55.55: 99}\n",
      "--------------------------------------------------\n",
      "{0: 0, 1: 1, 2: 8, 3: 27, 4: 64, 5: 125, 6: 216, 7: 343, 8: 512, 9: 729, 10: 1000, 11: 1331, 12: 1728, 13: 2197, 14: 2744, 15: 3375, 16: 4096, 17: 4913, 18: 5832, 19: 6859, 20: 8000, 21: 9261, 22: 10648, 23: 12167, 24: 13824, 25: 15625}\n"
     ]
    }
   ],
   "source": [
    "## Can craete using dictionary comprehension {k:v for k,v in some iterable}\n",
    "d = {x[0]:x[1] for x in [(1,\"one\"), (2, \"two\"), (\"name\", \"value\"), (55.55, 99)]}\n",
    "print(d, end='\\n{}\\n'.format('-'*50))\n",
    "d = {k: k**3 for k in range(26)}\n",
    "print(d)"
   ]
  },
  {
   "cell_type": "markdown",
   "metadata": {
    "slideshow": {
     "slide_type": "subslide"
    }
   },
   "source": [
    "# The ** unpacking operator\n",
    "\n",
    "- Performs a similar function to * but for dictionaries\n",
    "- Useful for combining dictionaries and for argument inputs \n"
   ]
  },
  {
   "cell_type": "code",
   "execution_count": 74,
   "metadata": {
    "slideshow": {
     "slide_type": "fragment"
    }
   },
   "outputs": [
    {
     "name": "stdout",
     "output_type": "stream",
     "text": [
      "--------------------------------------------------\n",
      "{'one': 1, 'two': 2, 'three': 3}\n",
      "--------------------------------------------------\n",
      "{'one': 1, 'two': 2, 'three': 3, 'x': 1, 'y': 2}\n",
      "--------------------------------------------------\n",
      "{'one': 1, 'two': 2, 'three': 3, '0': 1, '1': 2, '2': 3, '3': 4, '4': 5, '5': 6, '6': 7, '7': 8, '8': 9, '9': 10}\n"
     ]
    }
   ],
   "source": [
    "# Combining Dictionary example \n",
    "# same as {'one': 1, 'two':2, 'three':three}\n",
    "d =  dict(zip(['one', 'two', 'three'], [1, 2, 3]))\n",
    "print('-'*50)\n",
    "print(d)\n",
    "print('-'*50)\n",
    "new_d = {**d, \"x\": 1, \"y\": 2}\n",
    "print(new_d)\n",
    "\n",
    "print('-'*50)\n",
    "update_d = dict(d, **{str(i): i +1 for i in range(10)})\n",
    "print(update_d)"
   ]
  },
  {
   "cell_type": "code",
   "execution_count": 76,
   "metadata": {
    "slideshow": {
     "slide_type": "subslide"
    }
   },
   "outputs": [
    {
     "name": "stdout",
     "output_type": "stream",
     "text": [
      "--------------------------------------------------\n",
      "These are my inputs:  a: 5 b: 6 c: 4 d: [1, 2, 3]\n",
      "--------------------------------------------------\n",
      "These are my inputs:  a: 5 b: 5 c: 4 d: [1, 2, 3]\n",
      "--------------------------------------------------\n"
     ]
    }
   ],
   "source": [
    "# Function call example 1\n",
    "print('-'*50)\n",
    "def foo(a, b= 5, c = 3, d = []):\n",
    "    print(\"These are my inputs: \", \n",
    "          'a: {}'.format(a),\n",
    "          'b: {}'.format(b), \n",
    "          'c: {}'.format(c),\n",
    "          'd: {}'.format(d))\n",
    "    \n",
    "inputs = {'a': 5, 'b': 6, 'c':4, 'd': [1,2,3]}\n",
    "foo(**inputs)\n",
    "\n",
    "print('-'*50)\n",
    "inputs.pop('b')\n",
    "foo(**inputs)\n",
    "print('-'*50)"
   ]
  },
  {
   "cell_type": "code",
   "execution_count": 77,
   "metadata": {
    "slideshow": {
     "slide_type": "subslide"
    }
   },
   "outputs": [
    {
     "name": "stdout",
     "output_type": "stream",
     "text": [
      "Inputs to function: {'Print': True, 'a': 5, 'b': 6, 'CrazyDataScience': 'Now', 'Python': 'Rocks'}\n",
      "--------------------------------------------------\n",
      "Print : True\n",
      "Initializing ... Instantiating Singularity\n",
      "--------------------------------------------------\n",
      "Print : True\n",
      "{'Print': True}\n",
      "--------------------------------------------------\n"
     ]
    }
   ],
   "source": [
    "def foo(**kwargs):\n",
    "    if kwargs.get(\"Print\", None):\n",
    "        print('Print : {}'.format(kwargs['Print']))\n",
    "    else:\n",
    "        print(kwargs)\n",
    "    if kwargs.get(\"CrazyDataScience\", None):\n",
    "        print(\"Initializing ... Instantiating Singularity\")\n",
    "    else:\n",
    "        print(kwargs)\n",
    "        \n",
    "inputs = {'Print': True, 'a': 5, 'b': 6}\n",
    "inputs.update({'CrazyDataScience': 'Now', 'Python': 'Rocks'})\n",
    "# Passing in inputs!\n",
    "print(\"Inputs to function: {}\".format(inputs))\n",
    "print('-'*50)\n",
    "foo(**inputs)\n",
    "print('-'*50)\n",
    "# No arguments\n",
    "foo(Print = True)\n",
    "print('-'*50)\n",
    "\n"
   ]
  },
  {
   "cell_type": "markdown",
   "metadata": {
    "collapsed": true,
    "slideshow": {
     "slide_type": "subslide"
    }
   },
   "source": [
    "## Resources\n",
    "\n",
    "Have a look at the Python reference for the complete guide to [dictionary\n",
    "methods][pyref-dict].\n",
    "\n",
    "[pyref-dict]: https://docs.python.org/3/library/stdtypes.html#typesmapping"
   ]
  },
  {
   "cell_type": "markdown",
   "metadata": {
    "slideshow": {
     "slide_type": "slide"
    }
   },
   "source": [
    "# Sets"
   ]
  },
  {
   "cell_type": "markdown",
   "metadata": {
    "slideshow": {
     "slide_type": "subslide"
    }
   },
   "source": [
    "# Sets\n",
    "\n",
    "Sets are an unordered collection of unique elements.  They are most useful when\n",
    "we are interested in the unique items of some collection. \n",
    "\n",
    "Let's create a list with non-unique elements:\n",
    "\n",
    "```python\n",
    "basket = ['apple', 'orange', 'apple']\n",
    "```\n",
    "\n",
    "From this list, we create a 'set':\n",
    "\n",
    "```python\n",
    "fruit = set(basket)\n",
    "\n",
    "print(fruit)\n",
    "```"
   ]
  },
  {
   "cell_type": "code",
   "execution_count": 52,
   "metadata": {
    "slideshow": {
     "slide_type": "fragment"
    }
   },
   "outputs": [
    {
     "name": "stdout",
     "output_type": "stream",
     "text": [
      "{'orange', 'apple'}\n"
     ]
    }
   ],
   "source": [
    "basket = ['apple', 'orange', 'apple']\n",
    "fruit = set(basket)\n",
    "\n",
    "print(fruit)"
   ]
  },
  {
   "cell_type": "markdown",
   "metadata": {
    "slideshow": {
     "slide_type": "subslide"
    }
   },
   "source": [
    "# Sets\n",
    "\n",
    "Like dictionaries, we can test for existence in the set:\n",
    "\n",
    "```python\n",
    "print('orange' in fruit)\n",
    "\n",
    ">>> True\n",
    "\n",
    "print('banana' in fruit) # returns False\n",
    "\n",
    ">>> False\n",
    "```"
   ]
  },
  {
   "cell_type": "code",
   "execution_count": 53,
   "metadata": {
    "slideshow": {
     "slide_type": "fragment"
    }
   },
   "outputs": [
    {
     "name": "stdout",
     "output_type": "stream",
     "text": [
      "True\n",
      "False\n"
     ]
    }
   ],
   "source": [
    "print('orange' in fruit)\n",
    "print('banana' in fruit)"
   ]
  },
  {
   "cell_type": "markdown",
   "metadata": {
    "slideshow": {
     "slide_type": "subslide"
    }
   },
   "source": [
    "\n",
    "## Set operations\n",
    "\n",
    "All standard set operations are built into python.  Let's see union and\n",
    "intersection for example.\n",
    "\n",
    "Let's start with two sets:\n",
    "\n",
    "```python\n",
    "i_have = set([1,2,3,7,8,9])\n",
    "\n",
    "you_have = {5,6,7}\n",
    "```"
   ]
  },
  {
   "cell_type": "code",
   "execution_count": 54,
   "metadata": {
    "slideshow": {
     "slide_type": "subslide"
    }
   },
   "outputs": [
    {
     "name": "stdout",
     "output_type": "stream",
     "text": [
      "{1, 2, 3, 5, 6, 7, 8, 9}\n",
      "{7}\n"
     ]
    }
   ],
   "source": [
    "i_have = set([1,2,3,7,8,9])\n",
    "you_have = {5,6,7}\n",
    "\n",
    "#Union:\n",
    "\n",
    "we_have = i_have.union(you_have)\n",
    "print(we_have)\n",
    "\n",
    "#Intersection:\n",
    "\n",
    "we_both_have = i_have.intersection(you_have)\n",
    "print(we_both_have)"
   ]
  },
  {
   "cell_type": "markdown",
   "metadata": {
    "slideshow": {
     "slide_type": "subslide"
    }
   },
   "source": [
    "For more set operations go to: https://docs.python.org/3/library/stdtypes.html#set"
   ]
  },
  {
   "cell_type": "markdown",
   "metadata": {
    "slideshow": {
     "slide_type": "skip"
    }
   },
   "source": [
    "# More on Collections"
   ]
  },
  {
   "cell_type": "markdown",
   "metadata": {
    "slideshow": {
     "slide_type": "slide"
    }
   },
   "source": [
    "# Iterators Continued \n",
    "\n",
    "- The iterator abstraction allows the programmer to access all the elements of a container without any knowledge about the structure of the container. Iterators just have to provide the ability to get the next element \n",
    "\n",
    "- Iterators are often implicitly used in python, i.e. whenever you have a for loop\n",
    "\n",
    "- A sequence is not an iterator, but it can be used like an iterator"
   ]
  },
  {
   "cell_type": "code",
   "execution_count": 55,
   "metadata": {
    "slideshow": {
     "slide_type": "fragment"
    }
   },
   "outputs": [
    {
     "name": "stdout",
     "output_type": "stream",
     "text": [
      "1\n",
      "2\n",
      "3\n",
      "4\n",
      "5\n"
     ]
    }
   ],
   "source": [
    "mylist = [1,2,3,4,5]\n",
    "for item in mylist:\n",
    "    print(item)\n",
    "    "
   ]
  },
  {
   "cell_type": "markdown",
   "metadata": {
    "slideshow": {
     "slide_type": "subslide"
    }
   },
   "source": [
    "# Iterators Continued\n",
    "\n",
    "- What's really happening here is that the function ```iter``` is being called on the iterable, which returns an iterator\n",
    "\n",
    "- We can iterate over this iterable with the next function until the iterable is exhausted and returns a StopIteration exception:"
   ]
  },
  {
   "cell_type": "code",
   "execution_count": 60,
   "metadata": {
    "slideshow": {
     "slide_type": "subslide"
    }
   },
   "outputs": [
    {
     "name": "stdout",
     "output_type": "stream",
     "text": [
      "1\n",
      "2\n",
      "3\n",
      "4\n",
      "5\n"
     ]
    }
   ],
   "source": [
    "# This is what the for loop is truly doing\n",
    "mylist = [1,2,3,4,5]\n",
    "myiter = iter(mylist)\n",
    "while myiter:\n",
    "    try:\n",
    "        print(next(myiter))\n",
    "    except StopIteration:\n",
    "        break"
   ]
  },
  {
   "cell_type": "markdown",
   "metadata": {
    "slideshow": {
     "slide_type": "subslide"
    }
   },
   "source": [
    "# Generators\n",
    "\n",
    "- Like list comprehensions but you don't need to instantiate the actual list. Generator functions allow you to declare a function that behaves like an iterator, i.e. it can be used in a for loop.\n",
    "\n",
    "- Generators are a special type of function: they allow us to implement or generate iterators. \n",
    "\n",
    "- I will return on how to make your own custom generators later in the course (if there is time), \n",
    "- If you just can't wait, for more information on generators check out: [generators][pref]\n",
    "- Now, however, lets look at some built in generators in Python\n",
    "[pref]: https://www.python-course.eu/python3_generators.php"
   ]
  },
  {
   "cell_type": "code",
   "execution_count": 61,
   "metadata": {
    "slideshow": {
     "slide_type": "subslide"
    }
   },
   "outputs": [
    {
     "name": "stdout",
     "output_type": "stream",
     "text": [
      "4999999950000000\n",
      "Using lists took: 7.386000156402588\n",
      "4999999950000000\n",
      "Using Generator took: 1.9503800868988037\n"
     ]
    }
   ],
   "source": [
    "import time\n",
    "start = time.time()\n",
    "print(sum(list(range(10**8))))\n",
    "end = time.time()\n",
    "print(\"Using lists took: {}\".format(end - start))\n",
    "#versus\n",
    "\n",
    "start = time.time()\n",
    "print(sum(range(10**8)))\n",
    "end = time.time()\n",
    "print(\"Using Generator took: {}\".format(end - start))"
   ]
  },
  {
   "cell_type": "markdown",
   "metadata": {
    "slideshow": {
     "slide_type": "subslide"
    }
   },
   "source": [
    "# Generator expressions\n",
    "\n",
    "- This syntax is applicable to dictionaries and sets:\n",
    "\n",
    "```set(word for word in vocab_list if word not in known_words)```\n",
    "- Generators improve performance since they lazily generate values, which translates to lower memory usage.\n",
    "- One does not need to wait till all values are generate before you start to use them. This is similar to the benefits provided by iterators, but the generator makes building iterators easy."
   ]
  },
  {
   "cell_type": "markdown",
   "metadata": {
    "slideshow": {
     "slide_type": "slide"
    }
   },
   "source": [
    "# Itertools \n",
    "\n",
    "- The itertools module standardizes a core set of fast, memory efficient tools that yield iterators which are useful by themselves or in combination. \n",
    "- As a whole, they form an “iterator algebra” making it possible to construct specialized tools succinctly and efficiently in pure Python.\n",
    "- Personally, they are quite useful!"
   ]
  },
  {
   "cell_type": "markdown",
   "metadata": {
    "slideshow": {
     "slide_type": "subslide"
    }
   },
   "source": [
    "## Some useful Itertools functions\n",
    "\n",
    " - ``` itertools.accumulate(iterable, func) ```\n",
    "    * Make an iterator that returns accumulated sums, or accumulated results of applying func to each pair of the iterable \n",
    "    \n",
    "\n"
   ]
  },
  {
   "cell_type": "code",
   "execution_count": 79,
   "metadata": {
    "slideshow": {
     "slide_type": "fragment"
    }
   },
   "outputs": [
    {
     "name": "stdout",
     "output_type": "stream",
     "text": [
      "Running product of [3, 4, 6, 2, 1, 9, 0, 7, 5, 8] is [3, 12, 72, 144, 144, 1296, 0, 0, 0, 0]\n",
      "--------------------------------------------------\n",
      "Stock prices [3, 4, 6, 2, 1, 9, 0, 7, 5, 8]\n",
      "Result of minimum scan [3, 3, 3, 2, 1, 1, 0, 0, 0, 0]\n",
      "Result of price - minimum scan [0, 1, 3, 0, 0, 8, 0, 7, 5, 8]\n",
      "Maximum profit is 8\n"
     ]
    }
   ],
   "source": [
    "import itertools\n",
    "\n",
    "#Running product\n",
    "data = [3, 4, 6, 2, 1, 9, 0, 7, 5, 8] \n",
    "running_prod = list(itertools.accumulate(data, lambda x,y: x*y))\n",
    "print(\"Running product of {} is {}\".format(data, running_prod))\n",
    "print('-'*50)\n",
    "# Given the price of a stock at each day for n days we want to determine\n",
    "# the biggest profit we can make by buying one day and selling on a later day\n",
    "\n",
    "# We can use itertools to do this\n",
    "price = [3, 4, 6, 2, 1, 9, 0, 7, 5, 8]\n",
    "print(\"Stock prices {}\".format(price))\n",
    "min_scan = list(itertools.accumulate(price, min))\n",
    "print(\"Result of minimum scan {}\".format(min_scan))\n",
    "new_data = [x - y for x,y in zip(data,min_scan)]\n",
    "print(\"Result of price - minimum scan {}\".format(new_data))\n",
    "print(\"Maximum profit is {}\".format(max(new_data)))"
   ]
  },
  {
   "cell_type": "code",
   "execution_count": 24,
   "metadata": {
    "slideshow": {
     "slide_type": "skip"
    }
   },
   "outputs": [
    {
     "name": "stdout",
     "output_type": "stream",
     "text": [
      "[3, 4, 6, 2, 1, 9, 0, 7, 5, 8]\n",
      "Result of minimum scan [3, 3, 3, 2, 1, 1, 0, 0, 0, 0]\n",
      "[0, 1, 3, 0, 0, 8, 0, 7, 5, 8]\n",
      "Maximum profit is 8\n"
     ]
    }
   ],
   "source": [
    "import itertools\n",
    "price = [3, 4, 6, 2, 1, 9, 0, 7, 5, 8]\n",
    "print(price)\n",
    "min_scan = list(itertools.accumulate(price, min))\n",
    "print(\"Result of minimum scan {}\".format(min_scan))\n",
    "new_data = [x - y for x,y in zip(price,min_scan)]\n",
    "print(new_data)\n",
    "print(\"Maximum profit is {}\".format(max(new_data)))"
   ]
  },
  {
   "cell_type": "code",
   "execution_count": 25,
   "metadata": {
    "slideshow": {
     "slide_type": "skip"
    }
   },
   "outputs": [
    {
     "name": "stdout",
     "output_type": "stream",
     "text": [
      "hi\n"
     ]
    }
   ],
   "source": [
    "\n",
    "\n",
    "class Bottle:\n",
    "    \n",
    "    def __init__(self, message):\n",
    "        self.message = 'hi'\n",
    "        \n",
    "    def _open(self):\n",
    "        print(self.message)\n",
    "        \n",
    "        \n",
    "b = Bottle('whatsup')\n",
    "b._open()"
   ]
  },
  {
   "cell_type": "markdown",
   "metadata": {
    "slideshow": {
     "slide_type": "subslide"
    }
   },
   "source": [
    "## ``` itertools.chain(*iterables) ```\n",
    " \n",
    " -  Makes iterator that returns elements from the first iterable until it is exhausted, then proceeds to the next iterable, until all of the iterables are exhausted\n",
    "\n",
    "[pref]: https://docs.python.org/3/library/itertools.html"
   ]
  },
  {
   "cell_type": "code",
   "execution_count": 81,
   "metadata": {
    "slideshow": {
     "slide_type": "fragment"
    }
   },
   "outputs": [
    {
     "name": "stdout",
     "output_type": "stream",
     "text": [
      "1,2,345,2,3,4,5,6,2,34,\n",
      "--------------------------------------------------\n",
      "1,2,3,2,3,4,232,4,3,1,1,"
     ]
    }
   ],
   "source": [
    "import itertools\n",
    "for item in itertools.chain([1,2,345],[2,3,4,5,6], [2,34]):\n",
    "    print(item, end = ',')\n",
    "    \n",
    "print('\\n' + '-'*50)\n",
    "for item in itertools.chain(*[(1,2,3),(2,3,4), (232,4,3,1,1)]):\n",
    "    print(item, end = ',')"
   ]
  },
  {
   "cell_type": "markdown",
   "metadata": {
    "slideshow": {
     "slide_type": "subslide"
    }
   },
   "source": [
    "## itertools.product(*iterables, repeat = 1) \n",
    "\n",
    "- Computes the cartesian product of input iterables. \n",
    "- Rougly equivalent to nested for loops\n",
    "- itertools.product(A,B) is the same as ((x,y) for x in A for y in B)"
   ]
  },
  {
   "cell_type": "code",
   "execution_count": 92,
   "metadata": {
    "slideshow": {
     "slide_type": "fragment"
    }
   },
   "outputs": [
    {
     "name": "stdout",
     "output_type": "stream",
     "text": [
      "[(0, 0), (0, 1), (0, 2), (1, 0), (1, 1), (1, 2), (2, 0), (2, 1), (2, 2)]\n",
      "--------------------------------------------------\n",
      "[(0, 0, 0), (0, 0, 1), (0, 0, 2), (0, 1, 0), (0, 1, 1), (0, 1, 2), (0, 2, 0), (0, 2, 1), (0, 2, 2), (1, 0, 0), (1, 0, 1), (1, 0, 2), (1, 1, 0), (1, 1, 1), (1, 1, 2), (1, 2, 0), (1, 2, 1), (1, 2, 2), (2, 0, 0), (2, 0, 1), (2, 0, 2), (2, 1, 0), (2, 1, 1), (2, 1, 2), (2, 2, 0), (2, 2, 1), (2, 2, 2)]\n",
      "--------------------------------------------------\n"
     ]
    }
   ],
   "source": [
    "import math\n",
    "# Same as [(x,y) for x in a for y in a]\n",
    "a = range(3)\n",
    "print(list(itertools.product(a, repeat = 2)))\n",
    "print('-'*50)\n",
    "# same as [(x,y,z) for x in a for y in a for z in b]\n",
    "print(list(itertools.product(a, repeat = 3)))\n",
    "print('-'*50)"
   ]
  },
  {
   "cell_type": "code",
   "execution_count": 96,
   "metadata": {
    "slideshow": {
     "slide_type": "subslide"
    }
   },
   "outputs": [
    {
     "name": "stdout",
     "output_type": "stream",
     "text": [
      "[('c', 4), ('c', 5), ('c', 6), ('c', 7), ('a', 4), ('a', 5), ('a', 6), ('a', 7), ('b', 4), ('b', 5), ('b', 6), ('b', 7)]\n"
     ]
    }
   ],
   "source": [
    "# It acts on an arbitrary sequence of iterables\n",
    "a = {'a', 'b', 'c'}\n",
    "b = range(4,8)\n",
    "print(list(itertools.product(a,b)))"
   ]
  },
  {
   "cell_type": "markdown",
   "metadata": {
    "slideshow": {
     "slide_type": "subslide"
    }
   },
   "source": [
    "## itertools.permutations(iterable, r)\n",
    "- Return successive r length permutations of elements in the iterable\n",
    "- r defaults to the length of the iterable and all possible full-length permutations are generated."
   ]
  },
  {
   "cell_type": "code",
   "execution_count": 97,
   "metadata": {
    "slideshow": {
     "slide_type": "fragment"
    }
   },
   "outputs": [
    {
     "name": "stdout",
     "output_type": "stream",
     "text": [
      "[('Hi', 'its', 'bob'), ('Hi', 'bob', 'its'), ('its', 'Hi', 'bob'), ('its', 'bob', 'Hi'), ('bob', 'Hi', 'its'), ('bob', 'its', 'Hi')]\n",
      "----------------------------------------------------------------------------------------------------\n",
      "[('Hi', 'its'), ('Hi', 'bob'), ('its', 'Hi'), ('its', 'bob'), ('bob', 'Hi'), ('bob', 'its')]\n"
     ]
    }
   ],
   "source": [
    "print(list(itertools.permutations('Hi its bob'.split())))\n",
    "print('-'*100)\n",
    "print(list(itertools.permutations('Hi its bob'.split() ,2)))"
   ]
  },
  {
   "cell_type": "markdown",
   "metadata": {
    "slideshow": {
     "slide_type": "subslide"
    }
   },
   "source": [
    "## ``` itertools.combinations(iterable, r) ```#\n",
    "- Return r length subsequences of elements from the input iterable.\n",
    "- Elements are treated as unique based on their position, not on their value. So if the input elements are unique, there will be no repeat values in each combination"
   ]
  },
  {
   "cell_type": "code",
   "execution_count": 98,
   "metadata": {
    "slideshow": {
     "slide_type": "fragment"
    }
   },
   "outputs": [
    {
     "name": "stdout",
     "output_type": "stream",
     "text": [
      "[('Hi', 'its'), ('Hi', 'bob'), ('its', 'bob')]\n"
     ]
    }
   ],
   "source": [
    "print(list(itertools.combinations('Hi its bob'.split(),2)))"
   ]
  },
  {
   "cell_type": "markdown",
   "metadata": {
    "collapsed": true,
    "slideshow": {
     "slide_type": "subslide"
    }
   },
   "source": [
    "## Resources\n",
    "\n",
    "Checkout this link for more on [comprehensions][pref].\n",
    "\n",
    "[pref]: https://www.smallsurething.com/list-dict-and-set-comprehensions-by-example/\n",
    "\n",
    "Checkout this link for more on [itertools][pref].\n",
    "\n",
    "[pref]: https://docs.python.org/3/library/itertools.html"
   ]
  },
  {
   "cell_type": "markdown",
   "metadata": {
    "slideshow": {
     "slide_type": "slide"
    }
   },
   "source": [
    "# Exercises\n",
    "\n",
    "<br>\n",
    "Posted under Exercises section on course website: <br> <br>```https://web.stanford.edu/~jacobp2/src/html/exercises.html```"
   ]
  },
  {
   "cell_type": "markdown",
   "metadata": {
    "slideshow": {
     "slide_type": "slide"
    }
   },
   "source": [
    "# Homework 1\n",
    "\n",
    "#### Due next Friday \n",
    "\n",
    "Is posted on course website tonight [here][pref]:\n",
    "\n",
    "[pref]: https://web.stanford.edu/~jacobp2/src/html/homework.html\n",
    "\n"
   ]
  },
  {
   "cell_type": "code",
   "execution_count": null,
   "metadata": {},
   "outputs": [],
   "source": []
  },
  {
   "cell_type": "code",
   "execution_count": null,
   "metadata": {
    "collapsed": true,
    "slideshow": {
     "slide_type": "skip"
    }
   },
   "outputs": [],
   "source": []
  }
 ],
 "metadata": {
  "celltoolbar": "Slideshow",
  "kernelspec": {
   "display_name": "Python 3",
   "language": "python",
   "name": "python3"
  },
  "language_info": {
   "codemirror_mode": {
    "name": "ipython",
    "version": 3
   },
   "file_extension": ".py",
   "mimetype": "text/x-python",
   "name": "python",
   "nbconvert_exporter": "python",
   "pygments_lexer": "ipython3",
   "version": "3.6.1"
  },
  "nbpresent": {
   "slides": {
    "933f0936-8e4d-487a-b1d2-7de7c8056959": {
     "id": "933f0936-8e4d-487a-b1d2-7de7c8056959",
     "prev": null,
     "regions": {
      "29bfbd0a-4b01-4b14-9acf-280d75ad4e02": {
       "attrs": {
        "height": 1,
        "width": 1,
        "x": -0.052023118050195334,
        "y": 0.10089331985492428
       },
       "id": "29bfbd0a-4b01-4b14-9acf-280d75ad4e02"
      }
     }
    }
   },
   "themes": {
    "default": "254e2e7f-be4a-4770-9d75-364f6733f9b5",
    "theme": {}
   }
  }
 },
 "nbformat": 4,
 "nbformat_minor": 2
}
