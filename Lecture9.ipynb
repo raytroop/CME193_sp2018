{
 "cells": [
  {
   "cell_type": "code",
   "execution_count": 1,
   "metadata": {
    "slideshow": {
     "slide_type": "skip"
    }
   },
   "outputs": [
    {
     "data": {
      "text/plain": [
       "{'start_slideshow_at': 'selected', 'theme': 'simple', 'transition': 'zoom'}"
      ]
     },
     "execution_count": 1,
     "metadata": {},
     "output_type": "execute_result"
    }
   ],
   "source": [
    "from traitlets.config.manager import BaseJSONConfigManager\n",
    "# To make this work, replace path with your own:\n",
    "# On the command line, type juypter --paths to see where your nbconfig is stored\n",
    "# Should be in the environment in which you install reveal.js\n",
    "path = \" /Users/Blake/.virtualenvs/cme193/bin/../etc/jupyter\"\n",
    "cm = BaseJSONConfigManager(config_dir=path)\n",
    "cm.update('livereveal', {\n",
    "              'theme': 'simple',\n",
    "              'transition': 'zoom',\n",
    "              'start_slideshow_at': 'selected',\n",
    "    })"
   ]
  },
  {
   "cell_type": "code",
   "execution_count": 108,
   "metadata": {
    "slideshow": {
     "slide_type": "skip"
    }
   },
   "outputs": [
    {
     "data": {
      "text/html": [
       "<link rel=\"stylesheet\" type=\"text/css\" href=\"custom.css\">"
      ],
      "text/plain": [
       "<IPython.core.display.HTML object>"
      ]
     },
     "metadata": {},
     "output_type": "display_data"
    }
   ],
   "source": [
    "%%HTML \n",
    "<link rel=\"stylesheet\" type=\"text/css\" href=\"custom.css\">"
   ]
  },
  {
   "cell_type": "markdown",
   "metadata": {
    "slideshow": {
     "slide_type": "slide"
    }
   },
   "source": [
    "# CME 193 \n",
    "## Introduction to Scientific Python\n",
    "## Spring 2018\n",
    "\n",
    "<br>\n",
    "\n",
    "## Lecture 8-Supplement\n",
    "-------------\n",
    "## Web Scraping"
   ]
  },
  {
   "cell_type": "markdown",
   "metadata": {
    "slideshow": {
     "slide_type": "subslide"
    }
   },
   "source": [
    "# Lecture 8 Contents\n",
    "\n",
    "- HTML Basics \n",
    "- Requests\n",
    "- Scraping using beautiful soup\n",
    "- Can also scrape using raw xpaths in the LXML library \n"
   ]
  },
  {
   "cell_type": "markdown",
   "metadata": {
    "slideshow": {
     "slide_type": "slide"
    }
   },
   "source": [
    "## HTML \n",
    "\n",
    "- What is it? HyperText Markup Language for tagging text files to achieve font, color, graphic, and hyperlink effects on World Wide Web pages.\n",
    "\n",
    "- It details structure, not functionality. Similar to XML in tree structure\n",
    "\n",
    "- Check out the HTML of a web-page using inspect element"
   ]
  },
  {
   "cell_type": "markdown",
   "metadata": {
    "slideshow": {
     "slide_type": "subslide"
    }
   },
   "source": [
    "## HTML Example\n",
    "```html\n",
    "<html>\n",
    "    <head>\n",
    "    </head>\n",
    "    <body>\n",
    "        <p class=\"bold-paragraph\">\n",
    "            Here's a paragraph of text!\n",
    "            <a href=\"https://www.dataquest.io\" id=\"learn-link\">Learn Data Science Online</a>\n",
    "        </p>\n",
    "        <p class=\"bold-paragraph extra-large\">\n",
    "            Here's a second paragraph of text!\n",
    "            <a href=\"https://www.python.org\" class=\"extra-large\">Python</a>\n",
    "        </p>\n",
    "    </body>\n",
    "</html> \n",
    "```"
   ]
  },
  {
   "cell_type": "markdown",
   "metadata": {
    "slideshow": {
     "slide_type": "subslide"
    }
   },
   "source": [
    "### Common HTML Tags\n",
    "\n",
    "- ```a``` tags: links, tell the browser to render a link to another web page. The href property of the tag determines where the link goes.\n",
    "- ``` p ``` tag: Paragraph tag, indicates text \n",
    "- ``` div ``` tag: indicates a division or area of a page\n",
    "- ``` table``` tag: creates a table\n",
    "\n",
    "For a full list of tags lool [here](https://developer.mozilla.org/en-US/docs/Web/HTML/Element)"
   ]
  },
  {
   "cell_type": "markdown",
   "metadata": {
    "slideshow": {
     "slide_type": "subslide"
    }
   },
   "source": [
    "### Tag attributes\n",
    "\n",
    "- Before we get into scraping, we need to know about ``` class ``` and ```id``` attributes\n",
    "- These properties give HTMl elements \"names\" and make them easier to locate and extract when scraping\n",
    "- An element can have multiple classes and classes can be shared between elements\n",
    "- An element can only have one id. "
   ]
  },
  {
   "cell_type": "markdown",
   "metadata": {
    "slideshow": {
     "slide_type": "slide"
    }
   },
   "source": [
    "## Fetching the page: Requests Library\n",
    "\n",
    "- Whenever you click on a webpage you are typically using a ``` GET ``` request to the websites webserver. \n",
    "- You can use the ``` requests``` library (which you will need to pip install) to send requests to the server. \n",
    "- Typically you only need to issue ``` GET ``` requests, so I will restrict out analysis. But note that if you must submit credentials, you would be issuing a put request with data "
   ]
  },
  {
   "cell_type": "code",
   "execution_count": 3,
   "metadata": {
    "slideshow": {
     "slide_type": "subslide"
    }
   },
   "outputs": [
    {
     "name": "stdout",
     "output_type": "stream",
     "text": [
      "<Response [200]>\n"
     ]
    }
   ],
   "source": [
    "import requests \n",
    "page = 'https://web.stanford.edu/~jacobp2/src/html/exercises.html'\n",
    "r = requests.get(page)\n",
    "print(r)"
   ]
  },
  {
   "cell_type": "markdown",
   "metadata": {
    "slideshow": {
     "slide_type": "subslide"
    }
   },
   "source": [
    "## Status codes. \n",
    "- As you can see above, the request made had a status code of 200. Every requests returns a status code made by the web-server. These codes indicate what happened with the request\n",
    "- Types of codes\n",
    "    * 200 : All is well!\n",
    "    * 301 : Server is redirecting you\n",
    "    * 401 : Server does not have you authenticated \n",
    "    * 400 : Server indicates you sent a bad request\n",
    "    * 403 : Forbidden!\n",
    "    * 404 : Reosource not found "
   ]
  },
  {
   "cell_type": "code",
   "execution_count": 32,
   "metadata": {
    "slideshow": {
     "slide_type": "subslide"
    }
   },
   "outputs": [
    {
     "name": "stdout",
     "output_type": "stream",
     "text": [
      "200\n"
     ]
    }
   ],
   "source": [
    "page = 'https://web.stanford.edu/~jacobp2/src/html/exercises.html'\n",
    "r = requests.get(page)\n",
    "print(r.status_code)"
   ]
  },
  {
   "cell_type": "markdown",
   "metadata": {
    "slideshow": {
     "slide_type": "subslide"
    }
   },
   "source": [
    "# Elements of a response \n",
    "- response.status_code: Status code\n",
    "- response.content: Access response as body of bytes, useful for non-text requests\n",
    "- response.text: get the text of the response\n",
    "- response.encoding: get the encoding of the response\n",
    "- see more at [requests](http://www.python-requests.org/en/latest/)\n"
   ]
  },
  {
   "cell_type": "code",
   "execution_count": 7,
   "metadata": {
    "slideshow": {
     "slide_type": "subslide"
    }
   },
   "outputs": [
    {
     "name": "stdout",
     "output_type": "stream",
     "text": [
      "<link rel=\"stylesheet\" href=\"../css/jemdoc.css\" type=\"text/css\" />\n",
      "<title>CME 193 - Introduction to Scientific Python</title>\n",
      "<table summary=\"Table for page layout.\" id=\"tlayout\">\n",
      "<tr valign=\"t\n"
     ]
    }
   ],
   "source": [
    "print(r.text[307:500])"
   ]
  },
  {
   "cell_type": "markdown",
   "metadata": {
    "slideshow": {
     "slide_type": "subslide"
    }
   },
   "source": [
    "### Querying APIs\n",
    "- Often when interacting with a search api, you need to pass in query parameters. \n",
    "- The API may require that you pass in paramaters into your request. \n",
    "- Example: take a look at this [website](http://open-notify.org/Open-Notify-API/) that tracks the location of the international space station\n",
    "- There api is ``` http://api.open-notify.org/iss-pass ```"
   ]
  },
  {
   "cell_type": "code",
   "execution_count": 9,
   "metadata": {
    "slideshow": {
     "slide_type": "subslide"
    }
   },
   "outputs": [
    {
     "data": {
      "text/plain": [
       "400"
      ]
     },
     "execution_count": 9,
     "metadata": {},
     "output_type": "execute_result"
    }
   ],
   "source": [
    "# FAILURE\n",
    "r = requests.get('http://api.open-notify.org/iss-pass.json')\n",
    "r.status_code"
   ]
  },
  {
   "cell_type": "code",
   "execution_count": 10,
   "metadata": {
    "slideshow": {
     "slide_type": "subslide"
    }
   },
   "outputs": [
    {
     "name": "stdout",
     "output_type": "stream",
     "text": [
      "200\n",
      "{\n",
      "  \"message\": \"success\", \n",
      "  \"request\": {\n",
      "    \"altitude\": 100, \n",
      "    \"datetime\": 1525144150, \n",
      "    \"latitude\": 40.71, \n",
      "    \"longitude\": -74.0, \n",
      "    \"passes\": 5\n",
      "  }, \n",
      "  \"response\": [\n",
      "    {\n",
      "      \"duration\": 373, \n",
      "      \"risetime\": 1525161232\n",
      "    }, \n",
      "    {\n",
      "      \"duration\": 632, \n",
      "      \"risetime\": 1525166849\n",
      "    }, \n",
      "    {\n",
      "      \"duration\": 608, \n",
      "      \"risetime\": 1525172658\n",
      "    }, \n",
      "    {\n",
      "      \"duration\": 546, \n",
      "      \"risetime\": 1525178531\n",
      "    }, \n",
      "    {\n",
      "      \"duration\": 583, \n",
      "      \"risetime\": 1525184361\n",
      "    }\n",
      "  ]\n",
      "}\n",
      "\n"
     ]
    }
   ],
   "source": [
    "# We need to pass in paramaters querying the lat and long\n",
    "parameters = {'lat':40.71, 'lon': -74}\n",
    "r = requests.get('http://api.open-notify.org/iss-pass.json', params = parameters)\n",
    "print(r.status_code)\n",
    "print(r.text)"
   ]
  },
  {
   "cell_type": "markdown",
   "metadata": {
    "slideshow": {
     "slide_type": "slide"
    }
   },
   "source": [
    "# Extracting Information \n",
    "\n",
    "- Once we have the page, there are a few different libraries that can be used to extract the relevant information \n",
    "- Most of the time what it requires is going into the website, finding the tags of interest, and accessing them within the html. \n",
    "- USE THE INSPECT ELEMENT CONSOLE TO FIND THE TAGS \n",
    "- Use either ``` BeautifulSoup``` or ``` LXML ``` to extract the info"
   ]
  },
  {
   "cell_type": "markdown",
   "metadata": {
    "slideshow": {
     "slide_type": "subslide"
    }
   },
   "source": [
    "## Understanding Tree Structure\n",
    "- HTML is organized as a tree. Each element of the tree, i.e a Tag has children, parents and sibling. Your web browser renders the HTML tree into a DOM (Document object model) and then renders it. \n",
    "- In order to understand how to scrape elements of a page, you must first understand how elements are organized on a page. "
   ]
  },
  {
   "cell_type": "code",
   "execution_count": 11,
   "metadata": {
    "slideshow": {
     "slide_type": "subslide"
    }
   },
   "outputs": [
    {
     "data": {
      "image/png": "[encoded data removed]",
      "text/plain": [
       "<IPython.core.display.Image object>"
      ]
     },
     "execution_count": 11,
     "metadata": {},
     "output_type": "execute_result"
    }
   ],
   "source": [
    "from IPython.display import Image\n",
    "Image('http://www.openbookproject.net/tutorials/getdown/css/images/lesson4/HTMLDOMTree.png')"
   ]
  },
  {
   "cell_type": "markdown",
   "metadata": {
    "slideshow": {
     "slide_type": "subslide"
    }
   },
   "source": [
    "## Selecting Elements\n",
    "- Sometimes you are able to fetch the necessary elements using just the tag and attribute of the element in question. \n",
    "- Often though you are able to identify the parent element of the one in question and then must get the content of the children \n",
    "- Use the inspect element console"
   ]
  },
  {
   "cell_type": "markdown",
   "metadata": {
    "slideshow": {
     "slide_type": "slide"
    }
   },
   "source": [
    "# Beautiful Soup \n",
    "- Python library for pulling data out of HTML and XML files. \n",
    "- Allows you to navigate the source tree, extract information, and select relevant tags \n",
    "- Really powerful"
   ]
  },
  {
   "cell_type": "markdown",
   "metadata": {
    "slideshow": {
     "slide_type": "subslide"
    }
   },
   "source": [
    "# Basics of Beautiful Soup\n",
    "\n",
    "- Create a soup object from the html text ``` soup = BeautifulSoup(html_text) ```\n",
    "- Access tags of the html using ``` soup.tag ```\n",
    "- Find the elements using ``` soup.find_all(tag, attributes) ```\n",
    "- Four main types of objects in beautiful soup: Tag, NavigableString, BeautifulSoup, and Comment (we'll talk about Tags and BeautifulSoup objects), but the other two are very straightforward"
   ]
  },
  {
   "cell_type": "code",
   "execution_count": 70,
   "metadata": {
    "slideshow": {
     "slide_type": "fragment"
    }
   },
   "outputs": [],
   "source": [
    "import requests\n",
    "import time\n",
    "from bs4 import BeautifulSoup"
   ]
  },
  {
   "cell_type": "code",
   "execution_count": 18,
   "metadata": {
    "slideshow": {
     "slide_type": "subslide"
    }
   },
   "outputs": [],
   "source": [
    "html = '''<html>\n",
    "    <head>\n",
    "    </head>\n",
    "    <body>\n",
    "        <p class=\"bold-paragraph\">\n",
    "            Here's a paragraph of text!\n",
    "            <a href=\"https://www.dataquest.io\" id=\"learn-link\">Learn Data Science Online</a>\n",
    "        </p>\n",
    "        <p class=\"bold-paragraph extra-large\">\n",
    "            Here's a second paragraph of text!\n",
    "            <a href=\"https://www.python.org\" class=\"extra-large\">Python</a>\n",
    "        </p>\n",
    "    </body>\n",
    "</html> ''' \n"
   ]
  },
  {
   "cell_type": "code",
   "execution_count": 19,
   "metadata": {},
   "outputs": [
    {
     "data": {
      "text/plain": [
       "[<html>\n",
       " <head>\n",
       " </head>\n",
       " <body>\n",
       " <p class=\"bold-paragraph\">\n",
       "             Here's a paragraph of text!\n",
       "             <a href=\"https://www.dataquest.io\" id=\"learn-link\">Learn Data Science Online</a>\n",
       " </p>\n",
       " <p class=\"bold-paragraph extra-large\">\n",
       "             Here's a second paragraph of text!\n",
       "             <a class=\"extra-large\" href=\"https://www.python.org\">Python</a>\n",
       " </p>\n",
       " </body>\n",
       " </html>, ' ']"
      ]
     },
     "execution_count": 19,
     "metadata": {},
     "output_type": "execute_result"
    }
   ],
   "source": [
    "soup = BeautifulSoup(html, 'html.parser')\n",
    "soup.contents"
   ]
  },
  {
   "cell_type": "code",
   "execution_count": 20,
   "metadata": {
    "slideshow": {
     "slide_type": "subslide"
    }
   },
   "outputs": [
    {
     "name": "stdout",
     "output_type": "stream",
     "text": [
      "<p class=\"bold-paragraph\">\n",
      "            Here's a paragraph of text!\n",
      "            <a href=\"https://www.dataquest.io\" id=\"learn-link\">Learn Data Science Online</a>\n",
      "</p>\n"
     ]
    },
    {
     "data": {
      "text/plain": [
       "bs4.element.Tag"
      ]
     },
     "execution_count": 20,
     "metadata": {},
     "output_type": "execute_result"
    }
   ],
   "source": [
    "# Tag objects\n",
    "print(soup.p)\n",
    "type(soup.p)"
   ]
  },
  {
   "cell_type": "code",
   "execution_count": 21,
   "metadata": {
    "slideshow": {
     "slide_type": "subslide"
    }
   },
   "outputs": [
    {
     "name": "stdout",
     "output_type": "stream",
     "text": [
      "{'class': ['bold-paragraph']}\n",
      "['bold-paragraph']\n"
     ]
    }
   ],
   "source": [
    "# Get the attributes\n",
    "print(soup.p.attrs)\n",
    "# You can modfiy add or delete attributes as you which \n",
    "print(soup.p['class'])"
   ]
  },
  {
   "cell_type": "code",
   "execution_count": 38,
   "metadata": {
    "slideshow": {
     "slide_type": "subslide"
    }
   },
   "outputs": [
    {
     "data": {
      "text/plain": [
       "\"\\n            Here's a paragraph of text!\\n            Learn Data Science Online\\n\""
      ]
     },
     "execution_count": 38,
     "metadata": {},
     "output_type": "execute_result"
    }
   ],
   "source": [
    "# Get the text of a paragraph\n",
    "soup.p.text"
   ]
  },
  {
   "cell_type": "markdown",
   "metadata": {
    "slideshow": {
     "slide_type": "subslide"
    }
   },
   "source": [
    "## Navigating using tag names \n",
    "- Simplest way is just using the tag you want  just as we did above\n",
    "- You can do this recursively \n",
    "- All tag's ** direct ** children are availble in a list called ```.contents```\n",
    "- Can iterate through ** direct ** children using the ```.children``` generator\n",
    "- Can iterate recursively over children using ``` .descendents ``` of a tag\n",
    "- Can iterate through siblings by using ```.next_siblings```"
   ]
  },
  {
   "cell_type": "code",
   "execution_count": 39,
   "metadata": {
    "slideshow": {
     "slide_type": "subslide"
    }
   },
   "outputs": [
    {
     "name": "stdout",
     "output_type": "stream",
     "text": [
      "[\"\\n            Here's a paragraph of text!\\n            \", <a href=\"https://www.dataquest.io\" id=\"learn-link\">Learn Data Science Online</a>, '\\n']\n"
     ]
    }
   ],
   "source": [
    "# Get children of paragraph tag\n",
    "paragraph_tag = soup.p\n",
    "print(paragraph_tag.contents)"
   ]
  },
  {
   "cell_type": "markdown",
   "metadata": {
    "slideshow": {
     "slide_type": "subslide"
    }
   },
   "source": [
    "## Finding and selecting\n",
    "- Beautiful Soup defines a lot of methods for searching the parse tree, but they’re all very similar. I’m going to spend time explaining the two most popular methods: ```find()``` and ```find_all()```\n",
    "- ```find_all()``` scans and returns all matching selections in the whole document. ```find()``` is exactly the same as ```find_all()``` except it only returns the first found element. \n",
    "- General Syntax:  ``` res = find_all(name, attrs, recursive, string, limit, **kwargs)  ```\n",
    "- Pass in a filter to ```find``` or ```find_all```"
   ]
  },
  {
   "cell_type": "code",
   "execution_count": 49,
   "metadata": {
    "slideshow": {
     "slide_type": "subslide"
    }
   },
   "outputs": [],
   "source": [
    "html = '''<html>\n",
    "    <head>\n",
    "    </head>\n",
    "    <body>\n",
    "        <p class=\"bold-paragraph\", id=\"first\">\n",
    "            Here's a paragraph of text!\n",
    "            <a href=\"https://www.dataquest.io\" id=\"learn-link\">Learn Data Science Online</a>\n",
    "        </p>\n",
    "        <p class=\"bold-paragraph extra-large\">\n",
    "            Here's a second paragraph of text!\n",
    "            <a href=\"https://www.python.org\" class=\"extra-large\">Python</a>\n",
    "        </p>\n",
    "    </body>\n",
    "</html> ''' \n",
    "\n",
    "soup = BeautifulSoup(html, 'html.parser')"
   ]
  },
  {
   "cell_type": "markdown",
   "metadata": {
    "slideshow": {
     "slide_type": "subslide"
    }
   },
   "source": [
    "## Types of filters \n",
    "\n",
    "- String filters denoting tags "
   ]
  },
  {
   "cell_type": "code",
   "execution_count": 43,
   "metadata": {
    "slideshow": {
     "slide_type": "fragment"
    }
   },
   "outputs": [
    {
     "data": {
      "text/plain": [
       "[<p ,=\"\" class=\"bold-paragraph\" id=\"first\">\n",
       "             Here's a paragraph of text!\n",
       "             <a href=\"https://www.dataquest.io\" id=\"learn-link\">Learn Data Science Online</a>\n",
       " </p>, <p class=\"bold-paragraph extra-large\">\n",
       "             Here's a second paragraph of text!\n",
       "             <a class=\"extra-large\" href=\"https://www.python.org\">Python</a>\n",
       " </p>]"
      ]
     },
     "execution_count": 43,
     "metadata": {},
     "output_type": "execute_result"
    }
   ],
   "source": [
    "# A string denoting the tak\n",
    "soup.find_all('p')"
   ]
  },
  {
   "cell_type": "markdown",
   "metadata": {
    "slideshow": {
     "slide_type": "subslide"
    }
   },
   "source": [
    "### A list of string filters "
   ]
  },
  {
   "cell_type": "code",
   "execution_count": 44,
   "metadata": {
    "slideshow": {
     "slide_type": "fragment"
    }
   },
   "outputs": [
    {
     "data": {
      "text/plain": [
       "[<p ,=\"\" class=\"bold-paragraph\" id=\"first\">\n",
       "             Here's a paragraph of text!\n",
       "             <a href=\"https://www.dataquest.io\" id=\"learn-link\">Learn Data Science Online</a>\n",
       " </p>,\n",
       " <a href=\"https://www.dataquest.io\" id=\"learn-link\">Learn Data Science Online</a>,\n",
       " <p class=\"bold-paragraph extra-large\">\n",
       "             Here's a second paragraph of text!\n",
       "             <a class=\"extra-large\" href=\"https://www.python.org\">Python</a>\n",
       " </p>,\n",
       " <a class=\"extra-large\" href=\"https://www.python.org\">Python</a>]"
      ]
     },
     "execution_count": 44,
     "metadata": {},
     "output_type": "execute_result"
    }
   ],
   "source": [
    "# a list of tags\n",
    "soup.find_all(['p', 'a'])"
   ]
  },
  {
   "cell_type": "markdown",
   "metadata": {
    "slideshow": {
     "slide_type": "subslide"
    }
   },
   "source": [
    "### Tag names and attributes"
   ]
  },
  {
   "cell_type": "code",
   "execution_count": 46,
   "metadata": {
    "slideshow": {
     "slide_type": "fragment"
    }
   },
   "outputs": [
    {
     "data": {
      "text/plain": [
       "[<p ,=\"\" class=\"bold-paragraph\" id=\"first\">\n",
       "             Here's a paragraph of text!\n",
       "             <a href=\"https://www.dataquest.io\" id=\"learn-link\">Learn Data Science Online</a>\n",
       " </p>, <p class=\"bold-paragraph extra-large\">\n",
       "             Here's a second paragraph of text!\n",
       "             <a class=\"extra-large\" href=\"https://www.python.org\">Python</a>\n",
       " </p>]"
      ]
     },
     "execution_count": 46,
     "metadata": {},
     "output_type": "execute_result"
    }
   ],
   "source": [
    "# Using tag name AND class attributes\n",
    "soup.find_all(\"p\", class_ = \"bold-paragraph\")"
   ]
  },
  {
   "cell_type": "code",
   "execution_count": 50,
   "metadata": {
    "slideshow": {
     "slide_type": "fragment"
    }
   },
   "outputs": [
    {
     "data": {
      "text/plain": [
       "[<p ,=\"\" class=\"bold-paragraph\" id=\"first\">\n",
       "             Here's a paragraph of text!\n",
       "             <a href=\"https://www.dataquest.io\" id=\"learn-link\">Learn Data Science Online</a>\n",
       " </p>]"
      ]
     },
     "execution_count": 50,
     "metadata": {},
     "output_type": "execute_result"
    }
   ],
   "source": [
    "# Using tag name AND class AND ID attributes\n",
    "soup.find_all(\"p\", class_ = \"bold-paragraph\", id=\"first\")"
   ]
  },
  {
   "cell_type": "markdown",
   "metadata": {
    "slideshow": {
     "slide_type": "subslide"
    }
   },
   "source": [
    "# ```find_all``` notes\n",
    "\n",
    "- The additional argument ```limit``` limits the amount of results returned. Since ```find_all()``` returns all the tags and strings that match your filters. This can take a while if the document is large. If you don’t need all the results, you can pass in a number for limit"
   ]
  },
  {
   "cell_type": "markdown",
   "metadata": {
    "slideshow": {
     "slide_type": "subslide"
    }
   },
   "source": [
    "## Other find methods \n",
    "\n",
    "- ```find_parents(), find_parent() ```. Remember how ```find_all()``` and ```find()``` searched the descendents of a tree, these two methods do the opposite, working their way up the tree. \n",
    "- ```find_next_siblings(), find_next_sibling() ```. These two method's search over the rest of an element’s siblings in the tree. \n",
    "- ```find_previous_siblings(), find_previous_sibling() ```. These two method's search over the element’s siblings that precede it in the tree. \n",
    "- ```find_all_next(), find_next() ```. Searches over whatever tags and strings that come after it in the document.\n",
    "- ```find_all_prevoous(), find_previous() ```. Searches over whatever tags and strings that come before it in the document.\n"
   ]
  },
  {
   "cell_type": "markdown",
   "metadata": {
    "slideshow": {
     "slide_type": "subslide"
    }
   },
   "source": [
    "## Example \n",
    "- Lets show what we can do by scraping grant awards on [SBIR](https://www.sbir.gov/sbirsearch/award/all)\n",
    "- First we'll get all of the links to project descriptions and then we'll get all of the information about each project\n",
    "- Let's take a look at the page together "
   ]
  },
  {
   "cell_type": "markdown",
   "metadata": {
    "slideshow": {
     "slide_type": "subslide"
    }
   },
   "source": [
    "## Breakdown\n",
    "- ``` get_links ``` function that extracts and returns a list of all the links on a given search page\n",
    "- ```process_links ``` function that calls ``` get_links ``` for a range of pages of a given year\n",
    "- ``` scrape_project ``` function that extracts the data of an individual project page \n",
    "- ``` get_projects ``` function that calls ``` scrape_project``` on a list of links "
   ]
  },
  {
   "cell_type": "markdown",
   "metadata": {
    "slideshow": {
     "slide_type": "subslide"
    }
   },
   "source": [
    "# Step 1: get the links!"
   ]
  },
  {
   "cell_type": "code",
   "execution_count": 109,
   "metadata": {
    "slideshow": {
     "slide_type": "fragment"
    }
   },
   "outputs": [],
   "source": [
    "# Get the list of links from one search page\n",
    "def fetch_links(page):\n",
    "    r = requests.get(page)\n",
    "    soup = BeautifulSoup(r.text, 'html.parser')\n",
    "    base_elements = soup.find_all('h3', class_='title')\n",
    "    links = []\n",
    "    for elem in base_elements:\n",
    "        path= elem.find(\"a\")['href']\n",
    "        links.append( 'https://www.sbir.gov' + path)\n",
    "    \n",
    "    return links \n"
   ]
  },
  {
   "cell_type": "code",
   "execution_count": 88,
   "metadata": {
    "slideshow": {
     "slide_type": "subslide"
    }
   },
   "outputs": [
    {
     "data": {
      "text/plain": [
       "['https://www.sbir.gov/sbirsearch/detail/1430463',\n",
       " 'https://www.sbir.gov/sbirsearch/detail/1430481',\n",
       " 'https://www.sbir.gov/sbirsearch/detail/1322101',\n",
       " 'https://www.sbir.gov/sbirsearch/detail/1246533',\n",
       " 'https://www.sbir.gov/sbirsearch/detail/1246661',\n",
       " 'https://www.sbir.gov/sbirsearch/detail/1305435',\n",
       " 'https://www.sbir.gov/sbirsearch/detail/1323517',\n",
       " 'https://www.sbir.gov/sbirsearch/detail/1164909',\n",
       " 'https://www.sbir.gov/sbirsearch/detail/1305765',\n",
       " 'https://www.sbir.gov/sbirsearch/detail/1305787']"
      ]
     },
     "execution_count": 88,
     "metadata": {},
     "output_type": "execute_result"
    }
   ],
   "source": [
    "# Let's test it\n",
    "page = 'https://www.sbir.gov/sbirsearch/award/all'\n",
    "links = fetch_links(page)\n",
    "links"
   ]
  },
  {
   "cell_type": "code",
   "execution_count": 89,
   "metadata": {
    "slideshow": {
     "slide_type": "subslide"
    }
   },
   "outputs": [],
   "source": [
    "# get all the links for multiple pages\n",
    "def process_links(year, num_pages):\n",
    "    base_page = 'https://www.sbir.gov/sbirsearch/award/all?'\n",
    "    links = ['{}page={}&f%5B0%5D=itm_field_award_yr%3A{}'.format(base_page, page, year)\n",
    "             for page in range(num_pages)]\n",
    "    all_links = []\n",
    "    for link in links:\n",
    "        p_links = fetch_links(link)\n",
    "        all_links.extend(p_links)\n",
    "    return all_links\n"
   ]
  },
  {
   "cell_type": "code",
   "execution_count": 90,
   "metadata": {},
   "outputs": [
    {
     "name": "stdout",
     "output_type": "stream",
     "text": [
      "Getting 50 links took 11.081645965576172 seconds\n"
     ]
    },
    {
     "data": {
      "text/plain": [
       "['https://www.sbir.gov/sbirsearch/detail/1216073',\n",
       " 'https://www.sbir.gov/sbirsearch/detail/1216081',\n",
       " 'https://www.sbir.gov/sbirsearch/detail/1216089',\n",
       " 'https://www.sbir.gov/sbirsearch/detail/1216097',\n",
       " 'https://www.sbir.gov/sbirsearch/detail/1216105',\n",
       " 'https://www.sbir.gov/sbirsearch/detail/1216113',\n",
       " 'https://www.sbir.gov/sbirsearch/detail/1216121',\n",
       " 'https://www.sbir.gov/sbirsearch/detail/1216129',\n",
       " 'https://www.sbir.gov/sbirsearch/detail/1216137',\n",
       " 'https://www.sbir.gov/sbirsearch/detail/1216145']"
      ]
     },
     "execution_count": 90,
     "metadata": {},
     "output_type": "execute_result"
    }
   ],
   "source": [
    "# Let's time this\n",
    "start = time.time()\n",
    "results = process_links(2017, 5)\n",
    "print(\"Getting 50 links took {} seconds\".format(time.time() - start))\n",
    "results[:10]"
   ]
  },
  {
   "cell_type": "markdown",
   "metadata": {},
   "source": [
    "# Step 2: get information for each page!"
   ]
  },
  {
   "cell_type": "code",
   "execution_count": 96,
   "metadata": {},
   "outputs": [],
   "source": [
    "\n",
    "def get_project_data(page):\n",
    "    # Get the text\n",
    "    html_text = requests.get(page).text \n",
    "    soup = BeautifulSoup(html_text, 'html.parser')\n",
    "    # Set the dictionary\n",
    "    data_dict = {}\n",
    "    # Project Name\n",
    "    project_name = soup.find(\"h1\", class_ = \"page-header\")\n",
    "    data_dict['Project Name'] = project_name.text\n",
    "    # Award info \n",
    "    award_info = soup.find_all('span', class_='open-label')\n",
    "    # For each of them set the key-value pairs\n",
    "    for x in award_info:\n",
    "        key = x.text.strip(':')\n",
    "        data_dict[key] = x.find_next_siblings('span')[0].text\n",
    "    # get final pieces\n",
    "    data_dict['business_name'] = soup.find(class_='sbc-name-wrapper').text\n",
    "    data_dict['business_address'] = soup.find(class_='sbc-address-wrapper').text.replace('\\n', '').replace('          ', '')\n",
    "    data_dict['url'] = page\n",
    "    return data_dict\n"
   ]
  },
  {
   "cell_type": "code",
   "execution_count": 92,
   "metadata": {
    "slideshow": {
     "slide_type": "subslide"
    }
   },
   "outputs": [
    {
     "data": {
      "text/plain": [
       "{'Agency': 'National Science Foundation',\n",
       " 'Agency Tracking Number': '1648563',\n",
       " 'Amount': '$224,912.00',\n",
       " 'Awards Year': '2017',\n",
       " 'Branch': 'N/A',\n",
       " 'Contract': '1648563',\n",
       " 'DUNS': '079592990',\n",
       " 'HUBZone Owned': 'Y',\n",
       " 'Phase': 'Phase I',\n",
       " 'Program': 'STTR',\n",
       " 'Project Name': 'STTR Phase I: Autonomous Landing of sUAS onto Moving Platforms',\n",
       " 'Socially and Economically Disadvantaged': 'N',\n",
       " 'Solicitation Number': 'N/A',\n",
       " 'Solicitation Topic Code': 'EW',\n",
       " 'Solicitation Year': '2016',\n",
       " 'Woman Owned': 'N',\n",
       " 'business_address': '710 13TH ST UNIT 307, SAN DIEGO, CA, 92101-7351        ',\n",
       " 'business_name': 'Planck Aerosystems, Inc.',\n",
       " 'url': 'https://www.sbir.gov/sbirsearch/detail/1216073'}"
      ]
     },
     "execution_count": 92,
     "metadata": {},
     "output_type": "execute_result"
    }
   ],
   "source": [
    "# Lets test it\n",
    "page = 'https://www.sbir.gov/sbirsearch/detail/1216073'\n",
    "get_project_data(page)"
   ]
  },
  {
   "cell_type": "code",
   "execution_count": 95,
   "metadata": {
    "slideshow": {
     "slide_type": "subslide"
    }
   },
   "outputs": [
    {
     "name": "stdout",
     "output_type": "stream",
     "text": [
      "Getting project data took 16.52872085571289\n"
     ]
    }
   ],
   "source": [
    "# Lets do it for multiple pages\n",
    "def get_projects(links):\n",
    "    return list(map(get_project_data, links))\n",
    "\n",
    "\n",
    "links = process_links(2017, 5)\n",
    "start = time.time()\n",
    "res = get_projects(links)\n",
    "print(\"Getting project data took {}\".format(time.time() - start))"
   ]
  },
  {
   "cell_type": "markdown",
   "metadata": {
    "slideshow": {
     "slide_type": "subslide"
    }
   },
   "source": [
    "# Speeding this up with parallel processing \n",
    "\n",
    "- Python has a rich array of parallel processing libraries. Since this could be a whole lecture in its own right, I will restrict the attention to one object\n",
    "- ``` from multiprocessing import  Pool ```\n",
    "- ``` Pool ``` objects represent a pool of parallel workers (maximum number of processors on your computer) that can be assinged to jobs in parallel\n",
    "- One uses ``` Pool ``` very similarly to how one uses the native ``` map```, i.e. ```pool.map(func, iterable)```\n",
    "- **MUST REMEBER TO CALL** ```pool.close(); pool.join()``` after the map\n"
   ]
  },
  {
   "cell_type": "code",
   "execution_count": 83,
   "metadata": {
    "slideshow": {
     "slide_type": "subslide"
    }
   },
   "outputs": [],
   "source": [
    "from multiprocessing import  Pool\n",
    "flatten = lambda x: [l for c in x for l in c]\n",
    "def parallel_fetch_links(page):\n",
    "    r = requests.get(page)\n",
    "    soup = BeautifulSoup(r.text, 'html.parser')\n",
    "    base_elements = soup.find_all('h3', class_='title')\n",
    "    links = list(map(lambda x: 'https://www.sbir.gov' + x.find(\"a\")['href'], base_elements))\n",
    "    processed_links = [{'url': x} for x in links]\n",
    "    return links \n",
    "\n",
    "\n",
    "def parallel_process_links(year, num_pages):\n",
    "    base_page = 'https://www.sbir.gov/sbirsearch/award/all?'\n",
    "    links = ['{}page={}&f%5B0%5D=itm_field_award_yr%3A{}'.format(base_page, page, year) for page in range(num_pages)]\n",
    "    all_links = []\n",
    "    # Process in parallel\n",
    "    pool = Pool()\n",
    "    results = pool.map(fetch_links, links)\n",
    "    # close the pool and join\n",
    "    pool.close()\n",
    "    pool.join()\n",
    "\n",
    "    return flatten(results)\n"
   ]
  },
  {
   "cell_type": "code",
   "execution_count": 84,
   "metadata": {
    "slideshow": {
     "slide_type": "subslide"
    }
   },
   "outputs": [],
   "source": [
    "def parallel_get_project_data(page):\n",
    "    html_text = requests.get(page).text \n",
    "    soup = BeautifulSoup(html_text, 'html.parser')\n",
    "    data_dict = {}\n",
    "    award_info = soup.find_all('span', class_='open-label')\n",
    "    for x in award_info:\n",
    "        key = x.text.strip(':')\n",
    "        data_dict[key] = x.find_next_siblings('span')[0].text\n",
    "    data_dict['business_name'] = soup.find(class_='sbc-name-wrapper').text\n",
    "    data_dict['business_address'] = soup.find(class_='sbc-address-wrapper').text.replace('\\n', '').replace('          ', '')\n",
    "    data_dict['url'] = page\n",
    "    return data_dict\n",
    "\n",
    "\n",
    "def parallel_get_projects(links):\n",
    "    pool = Pool()\n",
    "    results = pool.map(get_project_data, links)\n",
    "    pool.close()\n",
    "    pool.join()\n",
    "\n",
    "    return results"
   ]
  },
  {
   "cell_type": "code",
   "execution_count": 102,
   "metadata": {
    "slideshow": {
     "slide_type": "subslide"
    }
   },
   "outputs": [
    {
     "name": "stdout",
     "output_type": "stream",
     "text": [
      "Serial Getting links took: 2.325448751449585\n",
      "Serial Getting projects took: 16.78061842918396\n"
     ]
    }
   ],
   "source": [
    "start = time.time()\n",
    "code_lst = process_links(2017, 5)\n",
    "end = time.time()\n",
    "print(\"Serial Getting links took: {}\".format(end - start))\n",
    "res = get_projects(code_lst)\n",
    "print(\"Serial Getting projects took: {}\".format(time.time() - end))"
   ]
  },
  {
   "cell_type": "code",
   "execution_count": 101,
   "metadata": {
    "slideshow": {
     "slide_type": "subslide"
    }
   },
   "outputs": [
    {
     "name": "stdout",
     "output_type": "stream",
     "text": [
      "Parallel Getting links took: 0.5548710823059082\n",
      "Parallel Getting projects took: 3.0532050132751465\n"
     ]
    }
   ],
   "source": [
    "start = time.time()\n",
    "code_lst = parallel_process_links(2017, 5)\n",
    "end = time.time()\n",
    "print(\"Parallel Getting links took: {}\".format(end - start))\n",
    "res = parallel_get_projects(code_lst)\n",
    "print(\"Parallel Getting projects took: {}\".format(time.time() - end))"
   ]
  },
  {
   "cell_type": "markdown",
   "metadata": {
    "slideshow": {
     "slide_type": "subslide"
    }
   },
   "source": [
    "#### Now that we have the data, lets make it a dataframe"
   ]
  },
  {
   "cell_type": "code",
   "execution_count": 105,
   "metadata": {
    "slideshow": {
     "slide_type": "subslide"
    }
   },
   "outputs": [],
   "source": [
    "import pandas as pd\n",
    "df = pd.DataFrame(res)"
   ]
  },
  {
   "cell_type": "code",
   "execution_count": 107,
   "metadata": {
    "slideshow": {
     "slide_type": "subslide"
    }
   },
   "outputs": [
    {
     "data": {
      "text/html": [
       "<div>\n",
       "<style scoped>\n",
       "    .dataframe tbody tr th:only-of-type {\n",
       "        vertical-align: middle;\n",
       "    }\n",
       "\n",
       "    .dataframe tbody tr th {\n",
       "        vertical-align: top;\n",
       "    }\n",
       "\n",
       "    .dataframe thead th {\n",
       "        text-align: right;\n",
       "    }\n",
       "</style>\n",
       "<table border=\"1\" class=\"dataframe\">\n",
       "  <thead>\n",
       "    <tr style=\"text-align: right;\">\n",
       "      <th></th>\n",
       "      <th>Agency</th>\n",
       "      <th>Agency Tracking Number</th>\n",
       "      <th>Amount</th>\n",
       "      <th>Awards Year</th>\n",
       "      <th>Branch</th>\n",
       "      <th>Contract</th>\n",
       "      <th>DUNS</th>\n",
       "      <th>HUBZone Owned</th>\n",
       "      <th>Phase</th>\n",
       "      <th>Program</th>\n",
       "      <th>Project Name</th>\n",
       "      <th>Socially and Economically Disadvantaged</th>\n",
       "      <th>Solicitation Number</th>\n",
       "      <th>Solicitation Topic Code</th>\n",
       "      <th>Solicitation Year</th>\n",
       "      <th>Woman Owned</th>\n",
       "      <th>business_address</th>\n",
       "      <th>business_name</th>\n",
       "      <th>url</th>\n",
       "    </tr>\n",
       "  </thead>\n",
       "  <tbody>\n",
       "    <tr>\n",
       "      <th>0</th>\n",
       "      <td>National Science Foundation</td>\n",
       "      <td>1648563</td>\n",
       "      <td>$224,912.00</td>\n",
       "      <td>2017</td>\n",
       "      <td>N/A</td>\n",
       "      <td>1648563</td>\n",
       "      <td>079592990</td>\n",
       "      <td>Y</td>\n",
       "      <td>Phase I</td>\n",
       "      <td>STTR</td>\n",
       "      <td>STTR Phase I: Autonomous Landing of sUAS onto ...</td>\n",
       "      <td>N</td>\n",
       "      <td>N/A</td>\n",
       "      <td>EW</td>\n",
       "      <td>2016</td>\n",
       "      <td>N</td>\n",
       "      <td>710 13TH ST UNIT 307, SAN DIEGO, CA, 92101-735...</td>\n",
       "      <td>Planck Aerosystems, Inc.</td>\n",
       "      <td>https://www.sbir.gov/sbirsearch/detail/1216073</td>\n",
       "    </tr>\n",
       "    <tr>\n",
       "      <th>1</th>\n",
       "      <td>National Science Foundation</td>\n",
       "      <td>1648747</td>\n",
       "      <td>$225,000.00</td>\n",
       "      <td>2017</td>\n",
       "      <td>N/A</td>\n",
       "      <td>1648747</td>\n",
       "      <td>832762517</td>\n",
       "      <td>Y</td>\n",
       "      <td>Phase I</td>\n",
       "      <td>STTR</td>\n",
       "      <td>STTR Phase I: A Low Cost Robotics kit for Elem...</td>\n",
       "      <td>N</td>\n",
       "      <td>N/A</td>\n",
       "      <td>EA</td>\n",
       "      <td>2016</td>\n",
       "      <td>N</td>\n",
       "      <td>544 MILTENBERGER ST, PITTSBURGH, PA, 15219-597...</td>\n",
       "      <td>BIRDBRAIN TECHNOLOGIES LLC</td>\n",
       "      <td>https://www.sbir.gov/sbirsearch/detail/1216081</td>\n",
       "    </tr>\n",
       "    <tr>\n",
       "      <th>2</th>\n",
       "      <td>National Science Foundation</td>\n",
       "      <td>1648748</td>\n",
       "      <td>$225,000.00</td>\n",
       "      <td>2017</td>\n",
       "      <td>N/A</td>\n",
       "      <td>1648748</td>\n",
       "      <td>080246157</td>\n",
       "      <td>N</td>\n",
       "      <td>Phase I</td>\n",
       "      <td>STTR</td>\n",
       "      <td>STTR Phase I: Hydrogen Storage in Catalyticall...</td>\n",
       "      <td>N</td>\n",
       "      <td>N/A</td>\n",
       "      <td>CT</td>\n",
       "      <td>2016</td>\n",
       "      <td>N</td>\n",
       "      <td>540 E Miami Street, Indianapolis, IN, 46202-37...</td>\n",
       "      <td>Green Fortress Engineering, Inc</td>\n",
       "      <td>https://www.sbir.gov/sbirsearch/detail/1216089</td>\n",
       "    </tr>\n",
       "    <tr>\n",
       "      <th>3</th>\n",
       "      <td>National Science Foundation</td>\n",
       "      <td>1648751</td>\n",
       "      <td>$224,999.00</td>\n",
       "      <td>2017</td>\n",
       "      <td>N/A</td>\n",
       "      <td>1648751</td>\n",
       "      <td>079582570</td>\n",
       "      <td>N</td>\n",
       "      <td>Phase I</td>\n",
       "      <td>STTR</td>\n",
       "      <td>STTR Phase I: Solar Irradiance Microforecasting</td>\n",
       "      <td>N</td>\n",
       "      <td>N/A</td>\n",
       "      <td>EW</td>\n",
       "      <td>2016</td>\n",
       "      <td>N</td>\n",
       "      <td>903 Grogans Mill Drive, Cary, NC, 27519-7175  ...</td>\n",
       "      <td>MICROGRID LABS INC.</td>\n",
       "      <td>https://www.sbir.gov/sbirsearch/detail/1216097</td>\n",
       "    </tr>\n",
       "    <tr>\n",
       "      <th>4</th>\n",
       "      <td>National Science Foundation</td>\n",
       "      <td>1648753</td>\n",
       "      <td>$225,000.00</td>\n",
       "      <td>2017</td>\n",
       "      <td>N/A</td>\n",
       "      <td>1648753</td>\n",
       "      <td>080097739</td>\n",
       "      <td>N</td>\n",
       "      <td>Phase I</td>\n",
       "      <td>STTR</td>\n",
       "      <td>STTR Phase I: Development of a Safety System f...</td>\n",
       "      <td>N</td>\n",
       "      <td>N/A</td>\n",
       "      <td>SH</td>\n",
       "      <td>2016</td>\n",
       "      <td>N</td>\n",
       "      <td>2935 MLK Jr Way, Unit C, Berkeley, CA, 94703-2...</td>\n",
       "      <td>SAFELYYOU INC.</td>\n",
       "      <td>https://www.sbir.gov/sbirsearch/detail/1216105</td>\n",
       "    </tr>\n",
       "  </tbody>\n",
       "</table>\n",
       "</div>"
      ],
      "text/plain": [
       "                        Agency Agency Tracking Number       Amount  \\\n",
       "0  National Science Foundation                1648563  $224,912.00   \n",
       "1  National Science Foundation                1648747  $225,000.00   \n",
       "2  National Science Foundation                1648748  $225,000.00   \n",
       "3  National Science Foundation                1648751  $224,999.00   \n",
       "4  National Science Foundation                1648753  $225,000.00   \n",
       "\n",
       "  Awards Year Branch Contract       DUNS HUBZone Owned    Phase Program  \\\n",
       "0        2017    N/A  1648563  079592990             Y  Phase I    STTR   \n",
       "1        2017    N/A  1648747  832762517             Y  Phase I    STTR   \n",
       "2        2017    N/A  1648748  080246157             N  Phase I    STTR   \n",
       "3        2017    N/A  1648751  079582570             N  Phase I    STTR   \n",
       "4        2017    N/A  1648753  080097739             N  Phase I    STTR   \n",
       "\n",
       "                                        Project Name  \\\n",
       "0  STTR Phase I: Autonomous Landing of sUAS onto ...   \n",
       "1  STTR Phase I: A Low Cost Robotics kit for Elem...   \n",
       "2  STTR Phase I: Hydrogen Storage in Catalyticall...   \n",
       "3    STTR Phase I: Solar Irradiance Microforecasting   \n",
       "4  STTR Phase I: Development of a Safety System f...   \n",
       "\n",
       "  Socially and Economically Disadvantaged Solicitation Number  \\\n",
       "0                                       N                 N/A   \n",
       "1                                       N                 N/A   \n",
       "2                                       N                 N/A   \n",
       "3                                       N                 N/A   \n",
       "4                                       N                 N/A   \n",
       "\n",
       "  Solicitation Topic Code Solicitation Year Woman Owned  \\\n",
       "0                      EW              2016           N   \n",
       "1                      EA              2016           N   \n",
       "2                      CT              2016           N   \n",
       "3                      EW              2016           N   \n",
       "4                      SH              2016           N   \n",
       "\n",
       "                                    business_address  \\\n",
       "0  710 13TH ST UNIT 307, SAN DIEGO, CA, 92101-735...   \n",
       "1  544 MILTENBERGER ST, PITTSBURGH, PA, 15219-597...   \n",
       "2  540 E Miami Street, Indianapolis, IN, 46202-37...   \n",
       "3  903 Grogans Mill Drive, Cary, NC, 27519-7175  ...   \n",
       "4  2935 MLK Jr Way, Unit C, Berkeley, CA, 94703-2...   \n",
       "\n",
       "                     business_name  \\\n",
       "0         Planck Aerosystems, Inc.   \n",
       "1       BIRDBRAIN TECHNOLOGIES LLC   \n",
       "2  Green Fortress Engineering, Inc   \n",
       "3             MICROGRID LABS INC.    \n",
       "4                   SAFELYYOU INC.   \n",
       "\n",
       "                                              url  \n",
       "0  https://www.sbir.gov/sbirsearch/detail/1216073  \n",
       "1  https://www.sbir.gov/sbirsearch/detail/1216081  \n",
       "2  https://www.sbir.gov/sbirsearch/detail/1216089  \n",
       "3  https://www.sbir.gov/sbirsearch/detail/1216097  \n",
       "4  https://www.sbir.gov/sbirsearch/detail/1216105  "
      ]
     },
     "execution_count": 107,
     "metadata": {},
     "output_type": "execute_result"
    }
   ],
   "source": [
    "df.head()"
   ]
  },
  {
   "cell_type": "code",
   "execution_count": null,
   "metadata": {},
   "outputs": [],
   "source": []
  }
 ],
 "metadata": {
  "celltoolbar": "Slideshow",
  "kernelspec": {
   "display_name": "Python 3",
   "language": "python",
   "name": "python3"
  },
  "language_info": {
   "codemirror_mode": {
    "name": "ipython",
    "version": 3
   },
   "file_extension": ".py",
   "mimetype": "text/x-python",
   "name": "python",
   "nbconvert_exporter": "python",
   "pygments_lexer": "ipython3",
   "version": "3.6.1"
  }
 },
 "nbformat": 4,
 "nbformat_minor": 2
}
