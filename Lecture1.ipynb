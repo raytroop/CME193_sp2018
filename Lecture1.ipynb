{
 "cells": [
  {
   "cell_type": "markdown",
   "metadata": {
    "nbpresent": {
     "id": "a499af69-0fe0-4eb0-b156-5f5396da619d"
    },
    "slideshow": {
     "slide_type": "slide"
    }
   },
   "source": [
    "# CME 193: Introduction to Scientific Python\n",
    "## Spring 2018\n",
    "## Lecture 1"
   ]
  },
  {
   "cell_type": "markdown",
   "metadata": {
    "nbpresent": {
     "id": "487809eb-b9d2-4bcc-8942-ca61011c3204"
    },
    "slideshow": {
     "slide_type": "slide"
    }
   },
   "source": [
    "# Lecture 1 Contents\n",
    "* Course Outline\n",
    "\n",
    "* Introduction\n",
    "\n",
    "* Python Basics\n",
    "\n",
    "* Installing Python"
   ]
  },
  {
   "cell_type": "markdown",
   "metadata": {
    "slideshow": {
     "slide_type": "skip"
    }
   },
   "source": [
    "---"
   ]
  },
  {
   "cell_type": "markdown",
   "metadata": {
    "nbpresent": {
     "id": "d185ae4f-6376-45e5-9869-b65dbc484b8e"
    },
    "slideshow": {
     "slide_type": "slide"
    }
   },
   "source": [
    "# Quick Poll"
   ]
  },
  {
   "cell_type": "markdown",
   "metadata": {
    "nbpresent": {
     "id": "39f2f9ea-0428-4786-accf-4924cbdb0305"
    },
    "slideshow": {
     "slide_type": "subslide"
    }
   },
   "source": [
    "## Who has written one line of code?"
   ]
  },
  {
   "cell_type": "markdown",
   "metadata": {
    "nbpresent": {
     "id": "b24cab9b-f5fd-4c40-8424-abc7929f3d3a"
    },
    "slideshow": {
     "slide_type": "subslide"
    }
   },
   "source": [
    "## ...a for loop?"
   ]
  },
  {
   "cell_type": "markdown",
   "metadata": {
    "nbpresent": {
     "id": "0e23ed10-0b0c-4a86-a7cb-a0809133e96c"
    },
    "slideshow": {
     "slide_type": "subslide"
    }
   },
   "source": [
    "## ...a function?"
   ]
  },
  {
   "cell_type": "markdown",
   "metadata": {
    "nbpresent": {
     "id": "271351be-fa7a-424f-bd57-7b9eb408a040"
    },
    "slideshow": {
     "slide_type": "subslide"
    }
   },
   "source": [
    "## Who has heard of recursion?"
   ]
  },
  {
   "cell_type": "markdown",
   "metadata": {
    "nbpresent": {
     "id": "0efa387c-cd70-4aad-8599-c56f4c097dfc"
    },
    "slideshow": {
     "slide_type": "subslide"
    }
   },
   "source": [
    "## ...object oriented programming? "
   ]
  },
  {
   "cell_type": "markdown",
   "metadata": {
    "nbpresent": {
     "id": "14337ecb-dd7f-4010-b7a6-41b96c47a268"
    },
    "slideshow": {
     "slide_type": "subslide"
    }
   },
   "source": [
    "## ...unit testing?"
   ]
  },
  {
   "cell_type": "markdown",
   "metadata": {
    "slideshow": {
     "slide_type": "subslide"
    }
   },
   "source": [
    "## ... generators ?"
   ]
  },
  {
   "cell_type": "markdown",
   "metadata": {
    "slideshow": {
     "slide_type": "subslide"
    }
   },
   "source": [
    "## Who has programmed in Python before?"
   ]
  },
  {
   "cell_type": "markdown",
   "metadata": {
    "slideshow": {
     "slide_type": "subslide"
    }
   },
   "source": [
    "## Who has programmed in R or Stata?"
   ]
  },
  {
   "cell_type": "markdown",
   "metadata": {
    "slideshow": {
     "slide_type": "subslide"
    }
   },
   "source": [
    "## Anyone  written tensorflow?"
   ]
  },
  {
   "cell_type": "markdown",
   "metadata": {
    "nbpresent": {
     "id": "d077800f-d67c-4c77-85ac-23263903685f"
    },
    "slideshow": {
     "slide_type": "slide"
    }
   },
   "source": [
    "# Course Outline"
   ]
  },
  {
   "cell_type": "markdown",
   "metadata": {
    "nbpresent": {
     "id": "2f9ad9a5-80e4-4a20-9fcd-1deb9431c5c4"
    },
    "slideshow": {
     "slide_type": "subslide"
    }
   },
   "source": [
    "## Instructor"
   ]
  },
  {
   "cell_type": "markdown",
   "metadata": {
    "nbpresent": {
     "id": "a4c2a783-f61c-4ab2-94cc-ba0fb3bd2b35"
    },
    "slideshow": {
     "slide_type": "subslide"
    }
   },
   "source": [
    "## Jacob Perricone\n",
    "##### jacobp2@stanford.edu\n",
    "* 2nd year MS Student in ICME \n",
    "* Raised in New York City \n",
    "* BSE in Operations Research and Financial Engineering with Certificates in Computer Science, Statistics and Machine Learning from Princeton University\n",
    "* Python is almost always my language of choice (I use matlab for their solvers, C if i really care about speed).\n",
    "\n",
    "## Remmelt Ammerlaan\n",
    "##### remmelt@stanford.edu\n",
    "* First yeat MS student in the data science track at ICME. \n",
    "* Born in the Netherlands did my Bachelor’s at McGill in Math and Physics.\n",
    "* My first introduction to coding was in Python and I still use it today for most of my work."
   ]
  },
  {
   "cell_type": "markdown",
   "metadata": {
    "nbpresent": {
     "id": "4a14aee9-2dcd-41b0-91e7-368e1642f2d0"
    },
    "slideshow": {
     "slide_type": "subslide"
    }
   },
   "source": [
    "# Course Content\n",
    "- Variables Functions Data types\n",
    "- Strings, Lists, Tuples, Dictionaries\n",
    "- File input and output (I/O)\n",
    "- Classes, object oriented programming \n",
    "- Exception handling, Recursion\n",
    "- Numpy, Scipy, Pandas and Scikit-learn \n",
    "- Jupyter, Matplotlib and Seaborn\n",
    "- Unit tests, multithreading\n",
    "- List subject to change depending on time, interests"
   ]
  },
  {
   "cell_type": "markdown",
   "metadata": {
    "nbpresent": {
     "id": "5967f62b-dcf1-4d20-a456-0d0ab09281d8"
    },
    "slideshow": {
     "slide_type": "subslide"
    }
   },
   "source": [
    "# Course setup\n",
    "- 8 total sessions\n",
    "- 45 min lecture\n",
    "- 5 min break\n",
    "- 30 min interactive - demos and exercises\n",
    "- First part of class will be traditional lecture, second part will give you time to work on exercises in class\n",
    "- **Required deliverables:**\n",
    " - Exercises\n",
    " - Two homework assignments"
   ]
  },
  {
   "cell_type": "markdown",
   "metadata": {
    "nbpresent": {
     "id": "baea46d8-c6d8-4790-85da-0b83c1851d3e"
    },
    "slideshow": {
     "slide_type": "subslide"
    }
   },
   "source": [
    "# More abstract setup of course\n",
    "- My job is to show and explain to you the possibilities and resources of python\n",
    "- Ultimately, though, it is your job to teach yourself Python\n",
    "- In order for it to stick, you will need to put in considerable effort"
   ]
  },
  {
   "cell_type": "markdown",
   "metadata": {
    "nbpresent": {
     "id": "3ce24bed-6a88-4fe7-a4d8-6b3694dfb5cd"
    },
    "slideshow": {
     "slide_type": "subslide"
    }
   },
   "source": [
    "# Exercises\n",
    "We will work on exercises second half of the class. **Try to finish as much as possible during class time**. They will help you understand topics we just talked about. If you do not finish in class, please try to look at and understand them prior to the next class meeting.\n",
    "<br> \n",
    "\n",
    "Feel free (or: you are strongly encouraged) to work in pairs on the exercises. It’s acceptable to hand in the same copy of code for your exercise solutions if you work in pairs, but you must mention your partner."
   ]
  },
  {
   "cell_type": "markdown",
   "metadata": {
    "nbpresent": {
     "id": "8ff00eb9-66db-42e0-839c-409f0d55ba93"
    },
    "slideshow": {
     "slide_type": "subslide"
    }
   },
   "source": [
    "# Exercises\n",
    "#### (continued)\n",
    "- At the end of the course, you will be required to hand in your solutions for the exercises you attempted.\n",
    "- This is to show your active participation in class.\n",
    "- You are expected to do at least 70% of the assigned exercises. Feel free to skip some problems, for example if you lack some required math background knowledge.\n",
    "- Don’t worry about this now, just save all the code you write."
   ]
  },
  {
   "cell_type": "markdown",
   "metadata": {
    "nbpresent": {
     "id": "db58ea85-c55b-453b-871a-e7cb3ae30a1a"
    },
    "slideshow": {
     "slide_type": "subslide"
    }
   },
   "source": [
    "# Feedback\n",
    "- If you have comments or would like things to be done differently, please let me know as you think of them. Can tell me in person, via email or Canvas.\n",
    "- Questionnaires at the end of the quarter are nice, but they won’t help you."
   ]
  },
  {
   "cell_type": "markdown",
   "metadata": {
    "nbpresent": {
     "id": "746c0292-7874-4bcb-beb6-a33a3095ff8f"
    },
    "slideshow": {
     "slide_type": "subslide"
    }
   },
   "source": [
    "# Workload\n",
    "- The only way to learn Python, is by writing a lot of Python.\n",
    "- Good news: Python is fun to write. Put in the effort these 4 weeks and reap the rewards.\n",
    "- From past experience: If you are new to programming, consider this a hard 3 unit class where you will have to figure out quite a bit on your own. However, if you have a solid background in another language, this class should be pretty easy."
   ]
  },
  {
   "cell_type": "markdown",
   "metadata": {
    "nbpresent": {
     "id": "21b030ac-d7ec-4ac9-96d0-80cc1aa56bd9"
    },
    "slideshow": {
     "slide_type": "subslide"
    }
   },
   "source": [
    "# To new programmers\n",
    "- If you have never programmed before, be warned that this will be difficult.\n",
    "- The problem: 4 weeks, 8 lectures, 1 unit. We will simply go too fast.\n",
    "- Alternative: spend some time learning on your own (Codecademy / Udacity etc). There are so many excellent resources online these days. We offer this class every quarter."
   ]
  },
  {
   "cell_type": "markdown",
   "metadata": {
    "nbpresent": {
     "id": "e03f6a47-eaad-44d9-9aea-f781e3241479"
    },
    "slideshow": {
     "slide_type": "subslide"
    }
   },
   "source": [
    "# Important course information\n",
    "- **Website**: https://web.stanford.edu/~jacobp2/src/html/cme193.html\n",
    "- **Canvas**: Use Canvas for discussing problems, turning in homework, etc. Also, I will view participation of Canvas discussion as participation on the course.\n",
    "- **Office hours**: Directly after class, or by appointment in Huang basement"
   ]
  },
  {
   "cell_type": "markdown",
   "metadata": {
    "nbpresent": {
     "id": "ad152703-dfcb-42a2-b0cd-cd0fcf5fb7af"
    },
    "slideshow": {
     "slide_type": "subslide"
    }
   },
   "source": [
    "# References\n",
    "- The internet is an excellent source, and Google is a perfect starting point.\n",
    "- Stackoverflow is the most popular online community of coding QA.\n",
    "- The official documentation is also good: https://docs.python.org/3/.\n",
    "- Course website and Canvas has a list of useful references - I will also try to update them with specific material with each lecture."
   ]
  },
  {
   "cell_type": "markdown",
   "metadata": {
    "nbpresent": {
     "id": "e1691969-9668-4620-b335-042c2c96edfc"
    },
    "slideshow": {
     "slide_type": "subslide"
    }
   },
   "source": [
    "# Last words before we get to it\n",
    "- Do the work - utilize the class time \n",
    "- Make friends\n",
    "- Fail often\n",
    "- Fail gently\n",
    "- Be resourceful"
   ]
  },
  {
   "cell_type": "markdown",
   "metadata": {
    "slideshow": {
     "slide_type": "subslide"
    }
   },
   "source": [
    "# Python Versions \n",
    "- The most commonly used versions of Python are 2.7 and 3.4 (or 3.6)\n",
    "- The first version of Python 3 was released 10 years ago in 2008\n",
    "- The final version of Python 2.X (2.7) came out mid-2010.\n",
    "- The 2.x branch will see no new major releases \n",
    "- 3.x is under active development and has already seen over five years of stable releases, with 3.6 in 2016\n",
    "- All improvements to the standard library are only available in Python 3"
   ]
  },
  {
   "cell_type": "markdown",
   "metadata": {
    "slideshow": {
     "slide_type": "subslide"
    }
   },
   "source": [
    "\n",
    "# So what's the deal here ? \n",
    "## Which one to use? \n",
    "- The release of Python 3.0 caused a ruckus in the developer world since Python 3 is not backward compatable. \n",
    "- For a long time many large libraries did not support Python 3, so people continued on in Python 2.7\n"
   ]
  },
  {
   "cell_type": "markdown",
   "metadata": {
    "slideshow": {
     "slide_type": "subslide"
    }
   },
   "source": [
    "# ... That was 9 years ago \n",
    "- Many companies and I'm sure some courses at Stanford still use 2.7 (I still use it too), but I guarentee that all of them, including me, want to move to Python 3. \n",
    "- Python 3 is the future, and so we will be using it (release 3.6)"
   ]
  },
  {
   "cell_type": "markdown",
   "metadata": {
    "nbpresent": {
     "id": "f5d51d6a-4115-4157-9bd0-a32fe122300d"
    },
    "slideshow": {
     "slide_type": "slide"
    }
   },
   "source": [
    "# Introduction\n"
   ]
  },
  {
   "cell_type": "markdown",
   "metadata": {
    "nbpresent": {
     "id": "21153106-50c3-47aa-97f5-65f60b4533f4"
    },
    "slideshow": {
     "slide_type": "subslide"
    }
   },
   "source": [
    "![XKCD-353](../img/python.png \"Python\")"
   ]
  },
  {
   "cell_type": "code",
   "execution_count": 1,
   "metadata": {
    "nbpresent": {
     "id": "c763e53d-4333-4f1d-a337-2539f19fbf24"
    },
    "slideshow": {
     "slide_type": "subslide"
    }
   },
   "outputs": [
    {
     "name": "stdout",
     "output_type": "stream",
     "text": [
      "Hello, world!\n"
     ]
    }
   ],
   "source": [
    "print(\"Hello, world!\")"
   ]
  },
  {
   "cell_type": "markdown",
   "metadata": {
    "nbpresent": {
     "id": "750775e7-905a-4a25-a4db-8515e61c2337"
    },
    "slideshow": {
     "slide_type": "slide"
    }
   },
   "source": [
    "# Python Basics\n"
   ]
  },
  {
   "cell_type": "markdown",
   "metadata": {
    "nbpresent": {
     "id": "bac45f92-17b8-482c-a845-3e608cf12758"
    },
    "slideshow": {
     "slide_type": "subslide"
    }
   },
   "source": [
    "## Values\n",
    "- A value is the fundamental thing that a program manipulates.\n",
    "- Values can be ```“Hello, world!”, 42, 12.34, True```\n",
    "- Values have types. . ."
   ]
  },
  {
   "cell_type": "markdown",
   "metadata": {
    "slideshow": {
     "slide_type": "subslide"
    }
   },
   "source": [
    "## Types\n",
    "\n",
    "1. Numeric Types:\n",
    "    - Integer Types: ``` 92, 12, 0, 1 ```\n",
    "    - Floats (Floating point numbers): ``` 3.1415```\n",
    "    - Complex Numbers: ``` a + b*i ``` (composed of real and imaginary component, both of which are floats ``` a + b*i ```)\n",
    "    - Booleans: ```True/False ``` are a subtype of integers (0 is false, 1 is true)\n",
    "2. Sequence types: \n",
    "     - Lists : ``` [1,2,3,4,5]```\n",
    "     - Tuples: ``` (1, 2) ```\n",
    "     - range objects: More on this later\n",
    "3. Strings: \n",
    "    - ``` \"Hello World\"``` (strings in python are actually immutable sequences but more on this later)\n",
    " \n",
    "4. There are more..."
   ]
  },
  {
   "cell_type": "markdown",
   "metadata": {
    "slideshow": {
     "slide_type": "subslide"
    }
   },
   "source": [
    "## Types continued \n",
    "\n",
    "- Use type to find out the type of a variable, as in \n",
    " - ``` python \n",
    " type(\"Hello, Word\")\n",
    " ```\n",
    "   which returns  ``` <class 'str'>```\n",
    " <br> \n",
    " \n",
    " \n",
    " \n",
    "- Unlike C/C++ and Java, variables can change types. Python keeps track of the type internally (strongly-typed)."
   ]
  },
  {
   "cell_type": "markdown",
   "metadata": {
    "slideshow": {
     "slide_type": "subslide"
    }
   },
   "source": [
    "## Variables\n",
    "- One of the most basic and powerful concepts is that of a variable.\n",
    "- A variable assigns a name to a value.\n",
    "- Variables are nothing more than reserved memory locations that store values. \n",
    "- Python variables does not need explicit declaration to reserve memory. "
   ]
  },
  {
   "cell_type": "code",
   "execution_count": 1,
   "metadata": {
    "nbpresent": {
     "id": "98457ad9-b82f-47b4-b2b3-ab72baac3794"
    },
    "slideshow": {
     "slide_type": "fragment"
    }
   },
   "outputs": [
    {
     "name": "stdout",
     "output_type": "stream",
     "text": [
      "42\n"
     ]
    }
   ],
   "source": [
    "message = \"Hello, world!\"\n",
    "n = 42\n",
    "e = 2.71\n",
    "\n",
    "# note we can print variables:\n",
    "print(n)  # yields 42\n",
    "\n",
    "# note: everything after pound sign is a comment"
   ]
  },
  {
   "cell_type": "markdown",
   "metadata": {
    "slideshow": {
     "slide_type": "subslide"
    }
   },
   "source": [
    "## Variables\n",
    "- Almost always preferred to use variables over values: \n",
    " - Easier to update code\n",
    " - Easier to understand code (useful naming)\n",
    "- What does the following code do:\n",
    " \n",
    " ``` python \n",
    " print(4.2 * 3.5)\n",
    " ```"
   ]
  },
  {
   "cell_type": "code",
   "execution_count": 63,
   "metadata": {
    "nbpresent": {
     "id": "7ebe5f6d-c6de-4f7d-a10b-69f0b0a704f4"
    },
    "slideshow": {
     "slide_type": "subslide"
    }
   },
   "outputs": [
    {
     "name": "stdout",
     "output_type": "stream",
     "text": [
      "14.7\n"
     ]
    }
   ],
   "source": [
    "length = 4.2\n",
    "height = 3.5\n",
    "area = length * height\n",
    "print(area)"
   ]
  },
  {
   "cell_type": "markdown",
   "metadata": {
    "slideshow": {
     "slide_type": "subslide"
    }
   },
   "source": [
    "## Keywords\n",
    "- Not allowed to use keywords for naming, they define structure and rules of a language.\n",
    "- Python has 29 keywords, they include:\n",
    " - ```True```\n",
    " - ```False```\n",
    " - ```continue```\n",
    " - ```def``` \n",
    " - ```for```\n",
    " - ```and ```\n",
    " - ```return ```\n",
    " - ```is```\n",
    " - ```in ```\n",
    " - ```class```"
   ]
  },
  {
   "cell_type": "markdown",
   "metadata": {
    "slideshow": {
     "slide_type": "subslide"
    }
   },
   "source": [
    "## Integers\n",
    "\n",
    "- Basic Operators for integers:\n",
    " - ```a + b```: addition of a and b\n",
    " - ```a - b```: subtraction of a and b \n",
    " - ```a * b```: multiplication of a and b\n",
    " - ``` a / b```: division of and b\n",
    " - ``` a % b ```: Modulus (divides a by b and returns the remainder)\n",
    " - ```a**b```: a to the power of b \n",
    " - ``` a // b``` : Floor division. Divides a by b and truncates the decimals. If ``` a/b ``` is negative, rounds away from zero toward negative infinity\n",
    "- Note: ```a / b``` differs in versions of python:\n",
    " - Python 3 : ```5 / 2``` yields ```2.5```\n",
    " - Python 2 : ```5 / 2``` yields ```2```\n",
    "- In Python 2 if one of the operands is a float, the return value is a float: ```5 / 2.0``` yields ```2.5```\n",
    "- Note: Python automatically uses long integers for very large integers.\n"
   ]
  },
  {
   "cell_type": "markdown",
   "metadata": {
    "slideshow": {
     "slide_type": "skip"
    }
   },
   "source": [
    "- Bitwise operators on integer types:\n",
    " - ``` x | y ``` bitwise or of x and y \n",
    " - ``` x ^ y ``` exclusive or of x and y\n",
    " - ``` x & y ``` bitwise and of x and y\n",
    " - ``` x << n ``` x shifted to left by n bits\n",
    " - ``` x >> n ``` x shifted to right by n bits\n",
    " "
   ]
  },
  {
   "cell_type": "markdown",
   "metadata": {
    "slideshow": {
     "slide_type": "subslide"
    }
   },
   "source": [
    "## Floats\n",
    "\n",
    "- A floating point number approximates a real number. Note: only finite precision, and finite range (overflow)!\n",
    "- Basic Operators for floats:\n",
    " - ```a + b```: addition of a and b\n",
    " - ```a - b```: subtraction of a and b \n",
    " - ```a * b```: multiplication of a and b\n",
    " - ``` a / b```: division of and b\n",
    " - ``` a % b ```: Modulus (divides a by b and returns the remainder)\n",
    " - ```a**b```: a to the power of b \n",
    " - ``` a // b``` : Floor division. Divides a by b and truncates the decimals. If ``` a/b ``` is negative, rounds away"
   ]
  },
  {
   "cell_type": "code",
   "execution_count": 31,
   "metadata": {
    "slideshow": {
     "slide_type": "subslide"
    }
   },
   "outputs": [
    {
     "name": "stdout",
     "output_type": "stream",
     "text": [
      "sys.float_info(max=1.7976931348623157e+308, max_exp=1024, max_10_exp=308, min=2.2250738585072014e-308, min_exp=-1021, min_10_exp=-307, dig=15, mant_dig=53, epsilon=2.220446049250313e-16, radix=2, rounds=1)\n"
     ]
    }
   ],
   "source": [
    "import sys\n",
    "\n",
    "print((sys.float_info))"
   ]
  },
  {
   "cell_type": "markdown",
   "metadata": {
    "slideshow": {
     "slide_type": "subslide"
    }
   },
   "source": [
    "## Comparison Operators\n",
    "\n",
    "#### Comparisons:\n",
    "1. Equals: ``` == ``` \n",
    " - ``` 5 == 5 ``` yields ```True```\n",
    "2. Does not equal: ```!=``` \n",
    " - ``` 5 != 5``` yields ```False```  \n",
    "3. Comparison of object identity: ``` is ``` \n",
    " - ``` x is y ``` yields True if x and y are the same object \n",
    "4. Negated objected identity: ``` is not ```  \n",
    " - ``` x is not y ``` yields False if x and y are the same object \n",
    "5. Greater than: ``` > ``` \n",
    " - ```5 > 4 ``` yields ```True```\n",
    "6. Greater than or equal to: ``` >= ``` (greater than or equal to)\n",
    " - ```5 >= 5``` yields ```True``` \n",
    "7. Similarly, we have ```<``` and ```<=```.\n"
   ]
  },
  {
   "cell_type": "markdown",
   "metadata": {
    "slideshow": {
     "slide_type": "subslide"
    }
   },
   "source": [
    "#### Logical Operators:\n",
    "There are three logical boolean operations that are used to compare values. They evaluate expressions down to Boolean values, returning either ``` True ``` or ``` False ```\n",
    "- ``` x or y ```: if x is false, then y, else x (only evaluates y if x is false)\n",
    "- ``` x and y ```: if x is false, then x, else y (only evaluates second if x is true)\n",
    "- ``` not x ```: if x is false, then True, else False \n",
    "\n",
    "Typically used to evaluate whether two or more expressions are true: ``` (5 < 7) and (7 <= 10)```, which is equivalent to ``` 5 < 7 <= 10 ```"
   ]
  },
  {
   "cell_type": "markdown",
   "metadata": {
    "slideshow": {
     "slide_type": "subslide"
    }
   },
   "source": [
    "## Statements, expressions and operators\n",
    "- A statement is an instruction that Python can execute, such as\n",
    "``` x=3 ``` \n",
    "\n",
    "- Python also supports statements such as \n",
    "  * ```x += 3```\n",
    "   - x = x + 3\n",
    "  * ```x -= 3``` \n",
    "   - x = x - 3\n",
    "  * ```x *= 3```\n",
    "   - x = x*3\n",
    "  * ```x /= 3```\n",
    "   - x = x/3\n",
    "  * ``` x //= 3``` \n",
    "   - x = x//3\n",
    "      \n",
    "- **Note**: the statements above combine an operation and assignment, and thereby only work if the variable x is defined (i.e. ``` x += 3 ``` will fail unless it is preceeded by ``` x = some value ```)\n",
    "\n",
    "- Operators are special symbols that represent computations, like addition, the values they *operate* on are called operands\n",
    "\n",
    "- An expression is a combination of values, variable and operators, like ``` x+3 ```"
   ]
  },
  {
   "cell_type": "markdown",
   "metadata": {
    "slideshow": {
     "slide_type": "subslide"
    }
   },
   "source": [
    "## Modules\n",
    "- Not all functionality available comes automatically when starting Python, and with good reasons.\n",
    "- We can add extra functionality by importing modules:\n",
    "\n",
    "```import math```\n",
    "\n",
    "- Then we can use things like ```math.pi```\n",
    "- Useful modules: math, os, random, and as we will see later numpy, scipy and matplotlib.\n",
    "- More on modules later!"
   ]
  },
  {
   "cell_type": "code",
   "execution_count": 2,
   "metadata": {
    "slideshow": {
     "slide_type": "subslide"
    }
   },
   "outputs": [
    {
     "data": {
      "text/plain": [
       "3.141592653589793"
      ]
     },
     "execution_count": 2,
     "metadata": {},
     "output_type": "execute_result"
    }
   ],
   "source": [
    "import math\n",
    "math.pi"
   ]
  },
  {
   "cell_type": "markdown",
   "metadata": {
    "nbpresent": {
     "id": "f02bed48-fff8-4132-82b8-b4e50d0dee48"
    },
    "slideshow": {
     "slide_type": "subslide"
    }
   },
   "source": [
    "## Control-flow"
   ]
  },
  {
   "cell_type": "markdown",
   "metadata": {
    "slideshow": {
     "slide_type": "subslide"
    }
   },
   "source": [
    "## Control statements\n",
    "\n",
    "Control statements allow you to do more complicated tasks:\n",
    "\n",
    "- ```if```\n",
    "- ```for```\n",
    "- ```while```\n",
    "    \n",
    "    "
   ]
  },
  {
   "cell_type": "code",
   "execution_count": 46,
   "metadata": {
    "collapsed": true,
    "slideshow": {
     "slide_type": "skip"
    }
   },
   "outputs": [],
   "source": [
    "traffic_light = 'green'"
   ]
  },
  {
   "cell_type": "markdown",
   "metadata": {
    "collapsed": true,
    "slideshow": {
     "slide_type": "subslide"
    }
   },
   "source": [
    "\n",
    "Using if, we can execute part of a program conditional on some statement being true.\n",
    "```python\n",
    "if traffic_light == 'green':\n",
    "    move()\n",
    "```"
   ]
  },
  {
   "cell_type": "markdown",
   "metadata": {
    "slideshow": {
     "slide_type": "subslide"
    }
   },
   "source": [
    "##  Indentation\n",
    "In Python, blocks of code are defined using indentation. The indentation within the block needs to be consistent.\n",
    "\n",
    "\n",
    "This means that everything indented after an if statement is only executed if the statement is True.\n",
    "\n",
    "\n",
    "If the statement is False, the program skips all indented code and resumes at the first line of unindented code"
   ]
  },
  {
   "cell_type": "code",
   "execution_count": 3,
   "metadata": {
    "nbpresent": {
     "id": "ea7b8187-c0d2-4e2c-aaaa-c57f57f96f17"
    },
    "slideshow": {
     "slide_type": "subslide"
    }
   },
   "outputs": [
    {
     "name": "stdout",
     "output_type": "stream",
     "text": [
      "The statement is true\n",
      "Else, this would not be printed\n",
      "Hello, world,\n",
      "Bye, world!\n"
     ]
    }
   ],
   "source": [
    "statement = True # Changing this to False will change the control flow!\n",
    "\n",
    "if statement:\n",
    "    # if statement is True, then all code here\n",
    "    # gets executed but not if statement is False\n",
    "    print(\"The statement is true\")\n",
    "    print(\"Else, this would not be printed\")\n",
    "# the next lines get executed either way\n",
    "print(\"Hello, world,\")\n",
    "print(\"Bye, world!\")"
   ]
  },
  {
   "cell_type": "markdown",
   "metadata": {
    "slideshow": {
     "slide_type": "subslide"
    }
   },
   "source": [
    "## Indentation\n",
    "- Whitespace is meaningful in Python: especially indentation and placement of newlines.\n",
    "- Use a newline to end a line of code.\n",
    "- Use a backslash when must go to next line prematurely.\n",
    "- No braces to mark blocks of code in Python...\n",
    "- Use consistent indentation instead.\n",
    "- The first line with less indentation is outside of the block.\n",
    "- The first line with more indentation starts a nested block\n",
    "- Often a colon appears at the start of a new block. (E.g. for function and class definitions.)\n",
    "- The preferred method of indendation is spaces (not tabs). Python 3 now support inconsistent use of spaces and tabs, but stick to one. "
   ]
  },
  {
   "cell_type": "markdown",
   "metadata": {
    "slideshow": {
     "slide_type": "subslide"
    }
   },
   "source": [
    "## ```if-else``` statement\n",
    "\n",
    "\n",
    "We can add more conditions to the ```if``` statement using ```else``` and ```elif``` (short for else if).\n",
    "\n",
    "Consider the following example"
   ]
  },
  {
   "cell_type": "code",
   "execution_count": 4,
   "metadata": {
    "slideshow": {
     "slide_type": "skip"
    }
   },
   "outputs": [],
   "source": [
    "# Skipping the cell below as to not introduce functions yet."
   ]
  },
  {
   "cell_type": "code",
   "execution_count": 9,
   "metadata": {
    "nbpresent": {
     "id": "c16d2f19-5087-4566-bf38-24c49ebf45c3"
    },
    "slideshow": {
     "slide_type": "skip"
    }
   },
   "outputs": [],
   "source": [
    "def drive():\n",
    "    print(\"Drive\")\n",
    "def accelerate():\n",
    "    print(\"Accelerate\")\n",
    "def stop():\n",
    "    print(\"Stop!\")"
   ]
  },
  {
   "cell_type": "code",
   "execution_count": 10,
   "metadata": {
    "nbpresent": {
     "id": "e7da95a7-72bd-49db-8238-87ea056de903"
    },
    "slideshow": {
     "slide_type": "subslide"
    }
   },
   "outputs": [
    {
     "name": "stdout",
     "output_type": "stream",
     "text": [
      "Drive\n"
     ]
    }
   ],
   "source": [
    "traffic_light = 'green'\n",
    "if traffic_light == 'green':\n",
    "    drive()\n",
    "elif traffic_light == 'orange':\n",
    "    accelerate()\n",
    "else:\n",
    "    stop()"
   ]
  },
  {
   "cell_type": "code",
   "execution_count": 11,
   "metadata": {
    "nbpresent": {
     "id": "8fbcc314-e06a-46fb-93e4-4624c30a955e"
    },
    "slideshow": {
     "slide_type": "subslide"
    }
   },
   "outputs": [
    {
     "name": "stdout",
     "output_type": "stream",
     "text": [
      "Accelerate\n"
     ]
    }
   ],
   "source": [
    "traffic_light = 'orange'\n",
    "\n",
    "if traffic_light == 'green':\n",
    "    drive()\n",
    "elif traffic_light == 'orange':\n",
    "    accelerate()\n",
    "else:\n",
    "    stop()"
   ]
  },
  {
   "cell_type": "code",
   "execution_count": 12,
   "metadata": {
    "slideshow": {
     "slide_type": "subslide"
    }
   },
   "outputs": [
    {
     "name": "stdout",
     "output_type": "stream",
     "text": [
      "Stop!\n"
     ]
    }
   ],
   "source": [
    "traffic_light = 'blue'\n",
    "\n",
    "if traffic_light == 'green':\n",
    "    drive()\n",
    "elif traffic_light == 'orange':\n",
    "    accelerate()\n",
    "else:\n",
    "    stop()"
   ]
  },
  {
   "cell_type": "markdown",
   "metadata": {
    "slideshow": {
     "slide_type": "subslide"
    }
   },
   "source": [
    "## ```for``` loops\n",
    "- Very often, one wants to repeat some action. This can be achieved by a for loop\n"
   ]
  },
  {
   "cell_type": "code",
   "execution_count": 13,
   "metadata": {
    "nbpresent": {
     "id": "ad19cfd2-1da9-416b-b319-d4bd3b1d519d"
    },
    "slideshow": {
     "slide_type": "subslide"
    }
   },
   "outputs": [
    {
     "name": "stdout",
     "output_type": "stream",
     "text": [
      "014916hello world\n",
      "hello world      I am on the same line\n"
     ]
    }
   ],
   "source": [
    "for i in range(5):\n",
    "    print(i**2, end='')\n",
    "    \n",
    "    \n",
    "print(\"hello world\")\n",
    "print(\"hello world\", end = '      ')\n",
    "print(\"I am on the same line\")"
   ]
  },
  {
   "cell_type": "markdown",
   "metadata": {
    "slideshow": {
     "slide_type": "subslide"
    }
   },
   "source": [
    "## ```for``` loops\n",
    "- ```range(n)``` yields an immutable ```sequence``` of integers  $ 0, . . . , n − 1$. More on this later!\n"
   ]
  },
  {
   "cell_type": "markdown",
   "metadata": {
    "slideshow": {
     "slide_type": "subslide"
    }
   },
   "source": [
    "## ```while``` loops\n",
    "- When we do not know how many iterations are needed, we can use while."
   ]
  },
  {
   "cell_type": "code",
   "execution_count": 21,
   "metadata": {
    "nbpresent": {
     "id": "51d4cacd-e2a9-4e13-8f44-fbb291d898a4"
    },
    "slideshow": {
     "slide_type": "subslide"
    }
   },
   "outputs": [
    {
     "name": "stdout",
     "output_type": "stream",
     "text": [
      "1 2 6 42 "
     ]
    }
   ],
   "source": [
    "i = 1\n",
    "while i < 100:\n",
    "    print(i, end=' ')\n",
    "    i += i**2  # a += b is short for a = a + b\n"
   ]
  },
  {
   "cell_type": "markdown",
   "metadata": {
    "slideshow": {
     "slide_type": "subslide"
    }
   },
   "source": [
    "## ```continue```\n",
    "- The keyword ```continue``` continues with the next iteration of the smallest enclosing loop."
   ]
  },
  {
   "cell_type": "code",
   "execution_count": 24,
   "metadata": {
    "nbpresent": {
     "id": "a1721c98-9765-488d-beae-117adaa4aa2b"
    },
    "slideshow": {
     "slide_type": "subslide"
    }
   },
   "outputs": [
    {
     "name": "stdout",
     "output_type": "stream",
     "text": [
      "Found an even number 2\n",
      "Found an odd number 3\n",
      "Found an even number 4\n",
      "Found an odd number 5\n",
      "Found an even number 6\n",
      "Found an odd number 7\n",
      "Found an even number 8\n",
      "Found an odd number 9\n"
     ]
    }
   ],
   "source": [
    "for num in range(2, 10):\n",
    "    if num % 2 == 0:\n",
    "        print(\"Found an even number\", num)\n",
    "        continue\n",
    "    print(\"Found an odd number\", num)"
   ]
  },
  {
   "cell_type": "markdown",
   "metadata": {
    "slideshow": {
     "slide_type": "subslide"
    }
   },
   "source": [
    "## ```break```\n",
    "- The keyword ```break``` allows us to jump out of the smallest enclosing for or while loop."
   ]
  },
  {
   "cell_type": "code",
   "execution_count": 28,
   "metadata": {
    "nbpresent": {
     "id": "08e00455-8981-4486-826f-8856eaa79c38"
    },
    "slideshow": {
     "slide_type": "subslide"
    }
   },
   "outputs": [
    {
     "name": "stdout",
     "output_type": "stream",
     "text": [
      "2 is a prime number\n",
      "3 is a prime number\n",
      "4 equals 2 * 2.0\n",
      "5 is a prime number\n",
      "6 equals 2 * 3.0\n",
      "7 is a prime number\n",
      "8 equals 2 * 4.0\n",
      "9 equals 3 * 3.0\n"
     ]
    }
   ],
   "source": [
    "max_n = 10\n",
    "for n in range(2, max_n):\n",
    "    is_prime = True\n",
    "    for x in range(2, n):\n",
    "        if n % x == 0:  # n divisible by x\n",
    "            is_prime = False\n",
    "            print(n, 'equals', x, '*', n/x)\n",
    "            break\n",
    "  # executed if no break in for loop\n",
    "        # loop fell through without finding a factor\n",
    "    if is_prime:\n",
    "        print(n, 'is a prime number')\n"
   ]
  },
  {
   "cell_type": "markdown",
   "metadata": {
    "slideshow": {
     "slide_type": "subslide"
    }
   },
   "source": [
    "## ```pass```\n",
    "- The pass statement does nothing, which can come in handy when you are working on something and want to implement some part of your code later."
   ]
  },
  {
   "cell_type": "code",
   "execution_count": 29,
   "metadata": {
    "nbpresent": {
     "id": "51d78d16-522f-4971-b28c-d3e505bd3a42"
    },
    "slideshow": {
     "slide_type": "subslide"
    }
   },
   "outputs": [],
   "source": [
    "traffic_light = 'green'\n",
    "if traffic_light == 'green':\n",
    "    pass\n",
    "else:\n",
    "    stop()"
   ]
  },
  {
   "cell_type": "markdown",
   "metadata": {
    "nbpresent": {
     "id": "9caab75b-275a-4baf-a178-99076306ce4a"
    },
    "slideshow": {
     "slide_type": "slide"
    }
   },
   "source": [
    "# Installing Python"
   ]
  },
  {
   "cell_type": "markdown",
   "metadata": {
    "slideshow": {
     "slide_type": "subslide"
    }
   },
   "source": [
    "# Anaconda \n",
    "\n",
    "* Mac OS and Windows\n",
    "\n",
    "\n",
    "* Anaconda Python is a Python distribution maintained by Continuum Analytics\n",
    "\n",
    "\n",
    "* The distribution contains the most widely used Python implementation and\n",
    "  up-to-date versions of the most important modules for data science, analytics,\n",
    "  and scientific computing.\n",
    "\n",
    "\n",
    "* Anaconda is easy to download and install and is free to use in personal,\n",
    "  academic, and commercial environments.\n",
    "\n",
    "\n",
    "* By default, Anaconda Python installs into a user local directory and usually\n",
    "  does not impact a system provided version of Python.  In some cases, having\n",
    "  multiple version of Python installed causes problems.\n",
    "  \n",
    "* Check out this link to download python 3.6 through conda https://anaconda.org/anaconda/python\n",
    "* I'd recommend setting up an environment for your python using https://conda.io/docs/user-guide/tasks/manage-python.html. Come see me if you need some help"
   ]
  },
  {
   "cell_type": "markdown",
   "metadata": {
    "slideshow": {
     "slide_type": "subslide"
    }
   },
   "source": [
    "# Jupyter Notebook\n",
    "\n",
    "```python\n",
    "# this is a code cell\n",
    "print(\"hello from Jupyter notebook\")\n",
    "# hit ctrl-return to execute code block\n",
    "# hit shift-return to execute code block and move to next cell\n",
    "```\n",
    "\n",
    "## This is a Markdown cell\n",
    "\n",
    "* Markdown is a light weight way to annotate text for nice presentation on the\n",
    "web or in PDF\n",
    "* For example the `*` will create a bulletted list\n",
    "* We can easily do *italics*\n",
    "\n",
    "## Resources\n",
    "\n",
    "* <http://jupyter.org/>\n",
    "* <https://try.jupyter.org/>"
   ]
  },
  {
   "cell_type": "code",
   "execution_count": 30,
   "metadata": {
    "slideshow": {
     "slide_type": "skip"
    }
   },
   "outputs": [
    {
     "name": "stdout",
     "output_type": "stream",
     "text": [
      "5\n"
     ]
    }
   ],
   "source": [
    "x = 5\n",
    "print(x)"
   ]
  },
  {
   "cell_type": "markdown",
   "metadata": {
    "slideshow": {
     "slide_type": "skip"
    }
   },
   "source": [
    "## This is a markdown cell"
   ]
  },
  {
   "cell_type": "markdown",
   "metadata": {
    "slideshow": {
     "slide_type": "subslide"
    }
   },
   "source": [
    "# Using the Python interpreter\n",
    "\n",
    "* An *interpreter* is a program that reads and executes commands\n",
    "* It is also sometimes called a REPL or read-evaluate-print-loop\n",
    "* One way to interact with Python is to use the interpreter\n",
    "* This is useful for interactive work, learning, and simple testing"
   ]
  },
  {
   "cell_type": "markdown",
   "metadata": {
    "slideshow": {
     "slide_type": "subslide"
    }
   },
   "source": [
    "## Start the Python interpreter on Mac OS\n",
    "\n",
    "* Open `Terminal.app`.  This is located at\n",
    " `/Applications/Utilities/Terminal.app` or may be found using Spotlight Search.\n",
    "\n",
    "* This is the Bash prompt where commands are entered after `$`\n",
    "* Type `python` and hit enter to start the interpreter (The default for Mac is python 2.7, if you see this come see me)\n",
    "\n",
    "* This a great way to experiment and learn Python\n",
    "* To exit the interpreter and return to bash:\n",
    "  * Enter `>>> exit()`\n",
    "  * Use the keyboard command `ctrl-d`"
   ]
  },
  {
   "cell_type": "markdown",
   "metadata": {
    "slideshow": {
     "slide_type": "subslide"
    }
   },
   "source": [
    "\n",
    "## Start the Python interpreter from Jupyter\n",
    "\n",
    "It is possible to access a Python interpreter from inside of the Jupyter\n",
    "notebook.  This can be a very quick and handy way to experiment with small bits\n",
    "of Python code.\n",
    "\n",
    "* From the Jupyter home screen, select the \"Terminal\" from the \"New\" dropdown\n",
    "  menu.\n"
   ]
  },
  {
   "cell_type": "markdown",
   "metadata": {
    "slideshow": {
     "slide_type": "subslide"
    }
   },
   "source": [
    "# Scripting model\n",
    "\n",
    "* A Python script is a text file containing Python code\n",
    "\n",
    "* Python script file names typically end in `.py`\n",
    "\n",
    "## Let's create our first script\n",
    "\n",
    "1. Create a text file named `firstscript.py` with your favorite text editor\n",
    "\n",
    "2. Insert the following Python code into `firstscript.py`:\n",
    "\n",
    "```python\n",
    "print(\"Hello from Python.\")\n",
    "print(\"I am your first script!\")\n",
    "```\n",
    "\n",
    "3. Open your favorite terminal emulator (`Terminal.app` on Mac OS)\n",
    "\n",
    "4. Navigate to the directory containing `firstscript.py` with the `cd` command.\n",
    "\n",
    "5. Execute the command `$ python firstscript.py`\n",
    "\n"
   ]
  },
  {
   "cell_type": "markdown",
   "metadata": {
    "slideshow": {
     "slide_type": "subslide"
    }
   },
   "source": [
    "## Why scripts?\n",
    "\n",
    "Let's write a simple Python script to compute the first `n` numbers in the\n",
    "Fibonacci series.  As a reminder, each number in the Fibonacci series is the sum\n",
    "of the two previous numbers.  Let `F(i)` be the `i`th number in the series.  We\n",
    "define `F(0) = 0` and `F(1) = 1`, then `F(i) = F(i-1) + F(i-2)` for `i >= 2`.\n",
    "Numbers `F(0)` to `F(n)` can be computed with the following Python code:\n",
    "\n",
    "```python\n",
    "n = 10\n",
    "\n",
    "if n >= 0:\n",
    "    fn2 = 0\n",
    "    print(fn2,end=',')\n",
    "if n >= 1:\n",
    "    fn1 = 1\n",
    "    print(fn1,end=',')\n",
    "for i in range(2,n+1):\n",
    "    fn = fn1 + fn2\n",
    "    print(fn,end=',')\n",
    "    fn2 = fn1\n",
    "    fn1 = fn\n",
    "print()\n",
    "```\n",
    "\n",
    "**Note, the above code is a preview of Python syntax that we will review in this\n",
    "course.**"
   ]
  },
  {
   "cell_type": "markdown",
   "metadata": {
    "slideshow": {
     "slide_type": "subslide"
    }
   },
   "source": [
    "## Fibonacci (continued)\n",
    "\n",
    "Now, paste this code into a file named `fib.py`.  Execute the file with\n",
    "the command `$ python fib.py`.  The result should like:\n",
    "\n",
    "```\n",
    "$ python fib.py\n",
    "0,1,1,2,3,5,8,13,21,34,55,\n",
    "```\n",
    "\n",
    "To see the utility of scripts, we need to add a bit more code.  Change the first\n",
    "line of `fib.py` to be:\n",
    "\n",
    "```\n",
    "import sys\n",
    "n = int(sys.argv[1])\n",
    "```\n",
    "\n",
    "This will instruct the script to obtain the value of `n` from the command line:\n",
    "\n",
    "```\n",
    "$ python fib.py 0\n",
    "0,\n",
    "\n",
    "$ python fib.py 5\n",
    "0,1,1,2,3,5,\n",
    "\n",
    "$ python fib.py 21\n",
    "0,1,1,2,3,5,8,13,21,34,55,89,144,233,377,610,987,1597,2584,4181,6765,10946,\n",
    "```\n",
    "\n",
    "We have increased the utility of our program by making it simple to run from the\n",
    "command line with different input arguments.\n",
    "\n"
   ]
  },
  {
   "cell_type": "markdown",
   "metadata": {
    "slideshow": {
     "slide_type": "subslide"
    }
   },
   "source": [
    "# Fibonacci (continue):\n",
    "1. When one types ``` python my_script.py ``` all code at indentation level 0 gets run\n",
    "2. Unlike other languages, there's no ``` main()``` function that gets run automatically\n",
    "2. However, the interpreter will define a few special variables. If the script is being run directly, the interpreter will set the variable ``` __name__ = '__main__' ```. Now, the proper way to write the fib.py script includes material that will be presented in subsequent slides. \n",
    "\n",
    "```python\n",
    "import sys\n",
    "\n",
    "def fib(n):\n",
    "    if n >= 0:\n",
    "        fn2 = 0\n",
    "        print(fn2,end=',')\n",
    "    if n >= 1:\n",
    "        fn1 = 1\n",
    "        print(fn1,end=',')\n",
    "    for i in range(2,n+1):\n",
    "        fn = fn1 + fn2\n",
    "        print(fn,end=',')\n",
    "        fn2 = fn1\n",
    "        fn1 = fn\n",
    "        \n",
    "      \n",
    "if __name__ == '__main__':\n",
    "    n = int(sys.argv[1])\n",
    "    fib(n) ``` "
   ]
  },
  {
   "cell_type": "code",
   "execution_count": null,
   "metadata": {
    "collapsed": true
   },
   "outputs": [],
   "source": []
  }
 ],
 "metadata": {
  "celltoolbar": "Slideshow",
  "kernelspec": {
   "display_name": "Python 3",
   "language": "python",
   "name": "python3"
  },
  "language_info": {
   "codemirror_mode": {
    "name": "ipython",
    "version": 3
   },
   "file_extension": ".py",
   "mimetype": "text/x-python",
   "name": "python",
   "nbconvert_exporter": "python",
   "pygments_lexer": "ipython3",
   "version": "3.6.1"
  },
  "nbpresent": {
   "slides": {
    "933f0936-8e4d-487a-b1d2-7de7c8056959": {
     "id": "933f0936-8e4d-487a-b1d2-7de7c8056959",
     "prev": null,
     "regions": {
      "29bfbd0a-4b01-4b14-9acf-280d75ad4e02": {
       "attrs": {
        "height": 1,
        "width": 1,
        "x": -0.052023118050195334,
        "y": 0.10089331985492428
       },
       "id": "29bfbd0a-4b01-4b14-9acf-280d75ad4e02"
      }
     }
    }
   },
   "themes": {
    "default": "254e2e7f-be4a-4770-9d75-364f6733f9b5",
    "theme": {}
   }
  }
 },
 "nbformat": 4,
 "nbformat_minor": 2
}
