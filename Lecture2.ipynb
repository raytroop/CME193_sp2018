{
 "cells": [
  {
   "cell_type": "code",
   "execution_count": 1,
   "metadata": {
    "scrolled": true,
    "slideshow": {
     "slide_type": "skip"
    }
   },
   "outputs": [
    {
     "data": {
      "text/plain": [
       "{'start_slideshow_at': 'selected', 'theme': 'simple', 'transition': 'zoom'}"
      ]
     },
     "execution_count": 1,
     "metadata": {},
     "output_type": "execute_result"
    }
   ],
   "source": [
    "from traitlets.config.manager import BaseJSONConfigManager\n",
    "# To make this work, replace path with your own:\n",
    "# On the command line, type juypter --paths to see where your nbconfig is stored\n",
    "# Should be in the environment in which you install reveal.js\n",
    "path = \" /Users/Blake/.virtualenvs/cme193/bin/../etc/jupyter\"\n",
    "cm = BaseJSONConfigManager(config_dir=path)\n",
    "cm.update('livereveal', {\n",
    "              'theme': 'simple',\n",
    "              'transition': 'zoom',\n",
    "              'start_slideshow_at': 'selected',\n",
    "    })"
   ]
  },
  {
   "cell_type": "code",
   "execution_count": 2,
   "metadata": {
    "slideshow": {
     "slide_type": "skip"
    }
   },
   "outputs": [
    {
     "data": {
      "text/html": [
       "<link rel=\"stylesheet\" type=\"text/css\" href=\"custom.css\">"
      ],
      "text/plain": [
       "<IPython.core.display.HTML object>"
      ]
     },
     "metadata": {},
     "output_type": "display_data"
    }
   ],
   "source": [
    "%%HTML \n",
    "<link rel=\"stylesheet\" type=\"text/css\" href=\"custom.css\">"
   ]
  },
  {
   "cell_type": "markdown",
   "metadata": {
    "nbpresent": {
     "id": "a499af69-0fe0-4eb0-b156-5f5396da619d"
    },
    "slideshow": {
     "slide_type": "slide"
    }
   },
   "source": [
    "# CME 193 \n",
    "## Introduction to Scientific Python\n",
    "## Spring 2018\n",
    "\n",
    "<br>\n",
    "\n",
    "## Lecture 2\n",
    "-------------\n",
    "###  Strings, Sequence Types and Functions\n"
   ]
  },
  {
   "cell_type": "markdown",
   "metadata": {
    "nbpresent": {
     "id": "487809eb-b9d2-4bcc-8942-ca61011c3204"
    },
    "slideshow": {
     "slide_type": "slide"
    }
   },
   "source": [
    "# Lecture 2 Contents\n",
    "* Course Logistics\n",
    "\n",
    "* Quick Review\n",
    "\n",
    "* Strings\n",
    "\n",
    "* Lists, Tuples, Range Objects\n",
    "\n",
    "* Functions \n",
    "\n",
    "* Exercises"
   ]
  },
  {
   "cell_type": "markdown",
   "metadata": {
    "slideshow": {
     "slide_type": "skip"
    }
   },
   "source": [
    "---"
   ]
  },
  {
   "cell_type": "markdown",
   "metadata": {
    "nbpresent": {
     "id": "d077800f-d67c-4c77-85ac-23263903685f"
    },
    "slideshow": {
     "slide_type": "slide"
    }
   },
   "source": [
    "# Course Logistics"
   ]
  },
  {
   "cell_type": "markdown",
   "metadata": {
    "nbpresent": {
     "id": "5967f62b-dcf1-4d20-a456-0d0ab09281d8"
    },
    "slideshow": {
     "slide_type": "subslide"
    }
   },
   "source": [
    "## Logistics\n",
    "\n",
    "- 8 total sessions\n",
    "- **Exercises**: \n",
    " - Posted weekly -- you will have time at end of class to work and ask questions.\n",
    " - You should complete at least 70% of each section.\n",
    " - Your solutions will be due one week after the last lecture\n",
    "- **Two homework assignments**\n",
    " - HW1 will be released this Thursday\n",
    " - Optional project in place of HW2 - more details to come\n",
    "\n"
   ]
  },
  {
   "cell_type": "markdown",
   "metadata": {
    "slideshow": {
     "slide_type": "subslide"
    }
   },
   "source": [
    "# Important course information\n",
    "- https://web.stanford.edu/~jacobp2/src/html/cme193.html\n",
    "- **Canvas**: Post new discussion topics for general questions\n",
    "- **Office hours**: Mine M/W 1:00-2:15 in Huang Basement. Remmelt directly after lecture in Huang Basement"
   ]
  },
  {
   "cell_type": "markdown",
   "metadata": {
    "slideshow": {
     "slide_type": "subslide"
    }
   },
   "source": [
    "## Questions?"
   ]
  },
  {
   "cell_type": "markdown",
   "metadata": {
    "slideshow": {
     "slide_type": "slide"
    }
   },
   "source": [
    "# Last lecture\n",
    "\n",
    "#### Variables are names of values. Values have types. \n",
    "\n",
    "- Boolean ```True/False ```\n",
    "- String ```“Hello, world!”```\n",
    "- Integer ```92 ```\n",
    "- Float ```3.1415```\n",
    "\n",
    "\n",
    "#### Operators and Control-flow\n",
    "- ```==, !=, <, <=, >, >=```\n",
    "- ```is, not, and, or```\n",
    "- ```if, if-else, if-elif-else```\n",
    "- ```for, while, break, continue, pass```\n"
   ]
  },
  {
   "cell_type": "markdown",
   "metadata": {
    "slideshow": {
     "slide_type": "subslide"
    }
   },
   "source": [
    "## Variable naming\n",
    "\n",
    "* The name associated with a variable is referred to as an *identifier*\n",
    "* Variables names must start with a letter or an underscore, such as\n",
    "    * `_underscore`\n",
    "    * `underscore_`\n",
    "* The remainder of your variable name may consist of letters, numbers and underscores\n",
    "    * `password1`\n",
    "    * `n00b`\n",
    "    * `un_der_scores`\n",
    "* Names are case sensitive\n",
    "    * `case_sensitive`, `CASE_SENSITIVE`, and `Case_Sensitive` are each a\n",
    "      different variable.\n"
   ]
  },
  {
   "cell_type": "markdown",
   "metadata": {
    "slideshow": {
     "slide_type": "subslide"
    }
   },
   "source": [
    "\n",
    "## Variable naming style\n",
    "\n",
    "* too short: `a`, `b`, `c`\n",
    "* too long: `number_of_particles_in_target_region`\n",
    "* better: `num_target_particles`\n",
    "* CamelCase: `numTargetParticles`\n",
    "\n",
    "This is quite important for code readability."
   ]
  },
  {
   "cell_type": "markdown",
   "metadata": {
    "slideshow": {
     "slide_type": "slide"
    }
   },
   "source": [
    "# Strings"
   ]
  },
  {
   "cell_type": "markdown",
   "metadata": {
    "slideshow": {
     "slide_type": "subslide"
    }
   },
   "source": [
    "# Introduction to strings\n",
    "\n",
    "* A \"string\" is just an immutable sequence of unicode characters\n",
    "* A character is a single symbol, e.g. a, b, c, 5, @, #\n",
    "* Python has a rich facility for processing and manipulating strings\n",
    "\n"
   ]
  },
  {
   "cell_type": "markdown",
   "metadata": {
    "slideshow": {
     "slide_type": "subslide"
    }
   },
   "source": [
    "## Examples of strings\n",
    "```python\n",
    "\"strings can go in double quotes\"\n",
    "```\n",
    "\n",
    "```python\n",
    "'or they can go in single quotes'\n",
    "```\n",
    "\n",
    "```python\n",
    "\"strings can be combined\" + \" with plus\"\n",
    "```\n",
    "\n",
    "\n",
    "```python\n",
    "\"you can put single quotes (') in a string with double quotes on the outside\"\n",
    "```\n",
    "\n",
    "```python\n",
    "'and visa versa --> (\")'\n",
    "```"
   ]
  },
  {
   "cell_type": "code",
   "execution_count": 3,
   "metadata": {
    "slideshow": {
     "slide_type": "subslide"
    }
   },
   "outputs": [
    {
     "name": "stdout",
     "output_type": "stream",
     "text": [
      "Hello CME 193.\n"
     ]
    }
   ],
   "source": [
    "## Concatenation example\n",
    "greeting = \"Hello\"\n",
    "class_name = \"CME 193\"\n",
    "print(greeting + \" \" + class_name + \".\")"
   ]
  },
  {
   "cell_type": "markdown",
   "metadata": {
    "slideshow": {
     "slide_type": "subslide"
    }
   },
   "source": [
    "## String overview\n",
    "\n",
    "* Strings in Python are enclosed in either single quotes (`'...'`) or double\n",
    "quotes (`\"...\"`)\n",
    "* The quote symbol may be escaped with a backslash (`\\`)\n",
    "* Strings can be concatenated (combined) with the `+` operator or using `{}`\n",
    "* Strings will also be concatenated if they are next to each other on the same\n",
    "line of code\n",
    "* Strings can be repeated with the `*` operator\n",
    "* Note: in Python 2 the default string representation is ASCII\n",
    "* In Python 3 are `utf-8` and  contains characters from almost all\n",
    "languages"
   ]
  },
  {
   "cell_type": "markdown",
   "metadata": {
    "slideshow": {
     "slide_type": "subslide"
    }
   },
   "source": [
    "## More string examples"
   ]
  },
  {
   "cell_type": "code",
   "execution_count": 5,
   "metadata": {
    "slideshow": {
     "slide_type": "fragment"
    }
   },
   "outputs": [
    {
     "name": "stdout",
     "output_type": "stream",
     "text": [
      "Quote characters can also be \"escaped\"!\n",
      "\n",
      "multi-line strings can be created using\n",
      "three quote characters\n",
      "\n",
      "\n",
      "again, we can do\n",
      "the same with three\n",
      "single quote characters\n",
      "\n",
      "use * to repeat a string. use * to repeat a string. use * to repeat a string. \n",
      "\n"
     ]
    }
   ],
   "source": [
    "escaped_string = \"Quote characters can also be \\\"escaped\\\"!\"\n",
    "multiline_string = \"\"\"multi-line strings can be created using\n",
    "three quote characters\n",
    "\"\"\"\n",
    "singlequote_multiline = '''again, we can do\n",
    "the same with three\n",
    "single quote characters'''\n",
    "\n",
    "multiplied_string = 3 * \"use * to repeat a string. \"\n",
    "\n",
    "print(escaped_string, end = '\\n\\n')\n",
    "print(multiline_string, end= '\\n\\n')\n",
    "print(singlequote_multiline, end='\\n\\n')\n",
    "print(multiplied_string, end = '\\n\\n')"
   ]
  },
  {
   "cell_type": "markdown",
   "metadata": {
    "slideshow": {
     "slide_type": "subslide"
    }
   },
   "source": [
    "## ```print``` method\n",
    "#### General syntax:\n",
    "```print([object, ...][, sep=' '][, end='\\n'][, file=sys.stdout])```\n",
    "\n",
    "\n",
    "i.e. you are required to pass at least one expression to ```print```\n",
    "\n",
    "------- \n",
    "\n",
    "Sidenote: Python 2 does not require parenthesis:\n",
    "\n",
    "```print ...``` <br>\n"
   ]
  },
  {
   "cell_type": "code",
   "execution_count": 6,
   "metadata": {
    "slideshow": {
     "slide_type": "subslide"
    }
   },
   "outputs": [
    {
     "name": "stdout",
     "output_type": "stream",
     "text": [
      "Hello It's me from CME193\n"
     ]
    }
   ],
   "source": [
    "print('Hello',\"It's\", 'me', 'from', 'CME193')"
   ]
  },
  {
   "cell_type": "code",
   "execution_count": 7,
   "metadata": {
    "slideshow": {
     "slide_type": "subslide"
    }
   },
   "outputs": [
    {
     "name": "stdout",
     "output_type": "stream",
     "text": [
      "Human: Computer, what is the answer to life, the universe, everything?\n",
      "Computer: Hmm I have to think about that          \n",
      "Calculating: ==================================================\n",
      "Computer: The answer to the ultimate question of life, the universe, and everything is...\n",
      "~~~~~~~~~~~~~~~~~~~~~~~~42~~~~~~~~~~~~~~~~~~~~~~~~\n"
     ]
    }
   ],
   "source": [
    "## Example: using the * operator\n",
    "import time\n",
    "\n",
    "out_char = \"==\"\n",
    "i = 1\n",
    "done = False\n",
    "\n",
    "print(\"{:<50}\".format(\"Human: Computer, what is the answer to life, the universe, everything?\"))\n",
    "time.sleep(1.5)\n",
    "print(\"{:<50}\".format(\"Computer: Hmm I have to think about that\"))\n",
    "delay = .2 # seconds\n",
    "while not done:\n",
    "    time.sleep(delay) # 'do work'\n",
    "    print(\"{:^50}\".format(\"Calculating: \" + i*out_char), end = '\\r')\n",
    "    i += 1\n",
    "    if i > 25: # 'done loading'\n",
    "        print()\n",
    "        done = True       \n",
    "print(\"{:<50}\".format(\"Computer: The answer to the ultimate question of life, the universe, and everything is...\"), end = '\\n')\n",
    "time.sleep(2.5)\n",
    "print(\"{:~^50}\".format(42))"
   ]
  },
  {
   "cell_type": "markdown",
   "metadata": {
    "slideshow": {
     "slide_type": "subslide"
    }
   },
   "source": [
    "## Formatting strings\n",
    "- Use the ``` str.format() ``` method\n"
   ]
  },
  {
   "cell_type": "code",
   "execution_count": 13,
   "metadata": {
    "slideshow": {
     "slide_type": "subslide"
    }
   },
   "outputs": [
    {
     "name": "stdout",
     "output_type": "stream",
     "text": [
      "Hello CME193!\n"
     ]
    }
   ],
   "source": [
    "# warmup example\n",
    "greeting = \"Hello\"\n",
    "class_name = \"CME193\"\n",
    "# {} stands in for variable passed into .format method\n",
    "print(\"{} {}!\".format(greeting,class_name))"
   ]
  },
  {
   "cell_type": "markdown",
   "metadata": {
    "slideshow": {
     "slide_type": "subslide"
    }
   },
   "source": [
    "## To format the string you use {:format_type}\n",
    "\n",
    "* In particular the {} represents a replacement field, the grammer for which is:\n",
    "\n",
    "    ``` replacement_field ::= \"{\" [field_name] [\"!\" conversion] [\":\" format_type] \"}\"```\n",
    "    \n",
    "    \n",
    "* The first argument is the field name, the second denotes the conversion, and the last the formatting specifications.\n",
    "* Field name can be a positional argument, a keyword, etc.\n",
    "* Don't worry too much about conversion.\n",
    "* ```format_type``` is always preceded by a \":\"\n",
    "    - contains specification of how the value should be presented, such as field with, alignment, decimal precision etc. \n",
    "- Some examples"
   ]
  },
  {
   "cell_type": "code",
   "execution_count": 2,
   "metadata": {
    "slideshow": {
     "slide_type": "subslide"
    }
   },
   "outputs": [
    {
     "name": "stdout",
     "output_type": "stream",
     "text": [
      "f: 0.2\n",
      "h: Hello\n",
      "t: 12\n"
     ]
    }
   ],
   "source": [
    "# Slightly more complicated...\n",
    "# str.format() method\n",
    "f = 0.23\n",
    "h = 'Hello'\n",
    "t = 12\n",
    "print(\"f: {:0.1f}\\nh: {}\\nt: {}\".format(f, h, t))"
   ]
  },
  {
   "cell_type": "code",
   "execution_count": 3,
   "metadata": {
    "slideshow": {
     "slide_type": "subslide"
    }
   },
   "outputs": [
    {
     "name": "stdout",
     "output_type": "stream",
     "text": [
      "\n",
      "l is: 10\n",
      "m is: 5\n"
     ]
    }
   ],
   "source": [
    "# can access arguments by name \n",
    "l, m = 10, 5\n",
    "print(\"\\nl is: {l}\\nm is: {m}\".format(m=m, l=l))\n"
   ]
  },
  {
   "cell_type": "code",
   "execution_count": 4,
   "metadata": {
    "slideshow": {
     "slide_type": "subslide"
    }
   },
   "outputs": [
    {
     "name": "stdout",
     "output_type": "stream",
     "text": [
      "a, b, c\n",
      "c, b, a\n",
      "Hello, class                  \n",
      "                  Hello, class\n",
      "         Hello, class         \n",
      "~~~~~~~~~Hello, class~~~~~~~~~\n"
     ]
    }
   ],
   "source": [
    "# can specify position\n",
    "print('{0}, {1}, {2}'.format('a', 'b', 'c'))\n",
    "print('{2}, {1}, {0}'.format('a', 'b', 'c'))\n",
    "\n",
    "\n",
    "# Can align \n",
    "# forces the field to be left aligned\n",
    "print('{:<30}'.format('Hello, class'))\n",
    "# forces the field to be right aligned\n",
    "print('{:>30}'.format('Hello, class'))\n",
    "# forces the field to be center aligned\n",
    "print('{:^30}'.format('Hello, class'))\n",
    "# center aligns and fills with '~'\n",
    "print('{:~^30}'.format('Hello, class'))"
   ]
  },
  {
   "cell_type": "code",
   "execution_count": 5,
   "metadata": {
    "slideshow": {
     "slide_type": "fragment"
    }
   },
   "outputs": [
    {
     "name": "stdout",
     "output_type": "stream",
     "text": [
      "a: 10.000000 \n",
      "b: 91.500000%\n",
      "c: 4.200000E+01\n"
     ]
    }
   ],
   "source": [
    "a, b, c = 10,.915, 42\n",
    "print(\"a: {:f} \\nb: {:%}\\nc: {:E}\".format(a,b,c))"
   ]
  },
  {
   "cell_type": "markdown",
   "metadata": {
    "slideshow": {
     "slide_type": "subslide"
    }
   },
   "source": [
    "| Format Symbol | Conversion                           |\n",
    "|----|-------------------------------------------------|\n",
    "| c | character                                       |\n",
    "| s | string conversion via str() prior to formatting |\n",
    "| d | signed decimal integer                          |\n",
    "| o | octal integer                                   |\n",
    "| x | hexadecimal integer (lowercase letters)         |\n",
    "| X | hexadecimal integer (UPPERcase letters)         |\n",
    "| e | exponential notation (with lowercase 'e')       |\n",
    "| E | exponential notation (with UPPERcase 'E')       |\n",
    "| f | floating point real number                      |\n",
    "| g | the shorter of %f and %e                        |\n",
    "| G | the shorter of %f and %E                        |\n",
    "| % | Percentage.   | "
   ]
  },
  {
   "cell_type": "code",
   "execution_count": 56,
   "metadata": {
    "slideshow": {
     "slide_type": "subslide"
    }
   },
   "outputs": [
    {
     "name": "stdout",
     "output_type": "stream",
     "text": [
      "Default:  ['Hello,', 'world!', 'How', 'are', 'you?']\n",
      "Split on space:  ['Hello,', 'world!\\nHow', 'are', 'you?']\n"
     ]
    }
   ],
   "source": [
    "# Splitting strings\n",
    "text = 'Hello, world!\\nHow are you?'\n",
    "split_default = text.split()\n",
    "print(\"Default: \", split_default)\n",
    "split_space = text.split(\" \")\n",
    "print(\"Split on space: \", split_space)"
   ]
  },
  {
   "cell_type": "code",
   "execution_count": 57,
   "metadata": {
    "slideshow": {
     "slide_type": "subslide"
    }
   },
   "outputs": [
    {
     "name": "stdout",
     "output_type": "stream",
     "text": [
      "Help on method_descriptor:\n",
      "\n",
      "split(...)\n",
      "    S.split(sep=None, maxsplit=-1) -> list of strings\n",
      "    \n",
      "    Return a list of the words in S, using sep as the\n",
      "    delimiter string.  If maxsplit is given, at most maxsplit\n",
      "    splits are done. If sep is not specified or is None, any\n",
      "    whitespace string is a separator and empty strings are\n",
      "    removed from the result.\n",
      "\n"
     ]
    }
   ],
   "source": [
    "help(str.split)"
   ]
  },
  {
   "cell_type": "markdown",
   "metadata": {
    "slideshow": {
     "slide_type": "subslide"
    }
   },
   "source": [
    "## String Indexing\n",
    "\n",
    "Strings can be indexed (subscripted), with the first character having index 0.\n",
    "There is no separate character type; a character is simply a string of size one:\n",
    "\n",
    "```\n",
    "word = 'Python'\n",
    "```\n",
    "\n",
    "```\n",
    "word[0]  # character in position 0\n",
    "```\n",
    "```\n",
    "word[5]  # character in position 5\n",
    "```\n",
    "\n",
    "Indices may also be negative numbers, to start counting from the right:\n",
    "\n",
    "```\n",
    "word[-1]  # last character\n",
    "```\n",
    "```\n",
    "word[-2]  # second-last character\n",
    "```\n",
    "```\n",
    "word[-6]\n",
    "```"
   ]
  },
  {
   "cell_type": "markdown",
   "metadata": {
    "slideshow": {
     "slide_type": "subslide"
    }
   },
   "source": [
    "## String Slicing\n",
    "In addition to indexing, *slicing* is also supported. While indexing is used to\n",
    "obtain individual characters, *slicing* allows you to obtain substring:\n",
    "\n",
    "Characters from position 0 (included) to 2 (excluded):\n",
    "\n",
    "```\n",
    "print(word[0:2])\n",
    "```\n",
    "\n",
    "Characters from [2,5)\n",
    "```\n",
    "print(word[2:5])\n",
    "```"
   ]
  },
  {
   "cell_type": "markdown",
   "metadata": {
    "slideshow": {
     "slide_type": "subslide"
    }
   },
   "source": [
    "## Slicing defaults\n",
    "Slice indices have useful defaults; an omitted first index defaults to zero, an\n",
    "omitted second index defaults to the size of the string being sliced.\n",
    "\n",
    "Character from the beginning to position 2 (excluded)\n",
    "```\n",
    "word[:2]   \n",
    "```\n",
    "\n",
    "Characters from position 4 (included) to the end\n",
    "```\n",
    "word[4:] \n",
    "```\n",
    "\n",
    "Characters from the second-last (included) to the end\n",
    "```\n",
    "word[-2:]\n",
    "```"
   ]
  },
  {
   "cell_type": "markdown",
   "metadata": {
    "slideshow": {
     "slide_type": "subslide"
    }
   },
   "source": [
    "## Slicing continued\n",
    "One way to remember how slices work is to think of the indices as pointing\n",
    "between characters, with the left edge of the first character numbered `0`.\n",
    "\n",
    "```\n",
    " +---+---+---+---+---+---+\n",
    " | P | y | t | h | o | n |\n",
    " +---+---+---+---+---+---+\n",
    " 0   1   2   3   4   5  {6}\n",
    "-6  -5  -4  -3  -2  -1\n",
    "```\n",
    "\n",
    "Attempting to use an index that is too large will result in an error:\n",
    "\n",
    "```python\n",
    "word[42]  # the word only has 6 characters\n",
    "```\n",
    "\n",
    "However, out of range slice indexes are handled gracefully when used for\n",
    "slicing:\n",
    "\n",
    "```\n",
    "word[4:42]\n",
    "```\n",
    "```\n",
    "word[42:]\n",
    "```"
   ]
  },
  {
   "cell_type": "markdown",
   "metadata": {
    "slideshow": {
     "slide_type": "subslide"
    }
   },
   "source": [
    "## Resources on strings\n",
    "\n",
    "- [An informal introduction to Python](https://docs.python.org/3/tutorial/introduction.html#strings)\n",
    "- [Python Standard Libary: Common String Operations](https://docs.python.org/3/library/string.html)\n",
    "- [Python Standard Library: Built-in Types - String Methods](https://docs.python.org/3/library/stdtypes.html#string-methods)"
   ]
  },
  {
   "cell_type": "markdown",
   "metadata": {
    "slideshow": {
     "slide_type": "slide"
    }
   },
   "source": [
    "# Standard Sequence Types\n",
    "\n",
    "## There are three basic sequence types: \n",
    " - lists \n",
    " - tuples\n",
    " - range objects. "
   ]
  },
  {
   "cell_type": "markdown",
   "metadata": {
    "slideshow": {
     "slide_type": "subslide"
    }
   },
   "source": [
    "1. All sequence types support iteration:\n",
    " ```python \n",
    " for item in sequence: print(item) ```\n",
    "2. Sequence types (for the most part) support the following operations:\n",
    "\n",
    "| Operation |                  Result                        |\n",
    "|-----------|------------------------------------------------|\n",
    "| x in s\t| True if an item of s is equal to x, else False |\n",
    "| x not in s| False if an item of s is equal to x, else True |\t\n",
    "| s + t\t    | the concatenation of s and t\t                 |\n",
    "| s * n     | equivalent to adding s to itself n times\t     |\n",
    "| s[i]\t    | ith item of s, origin 0\t                     |\n",
    "| s[i:j]\t| slice of s from i to j\t                     |    \n",
    "| s[i:j:k]\t| slice of s from i to j with step               |\n",
    "| len(s)\t| length of s\t                                 |\n",
    "| min(s)\t| smallest item of s\t                         | \n",
    "| max(s)\t| largest item of s\t                             |\n",
    "| s.count(x)| total number of occurrences of x in s\t         |\n",
    "\n",
    "        "
   ]
  },
  {
   "cell_type": "markdown",
   "metadata": {
    "slideshow": {
     "slide_type": "slide"
    }
   },
   "source": [
    "# Lists\n",
    "\n",
    "A list in Python is a data container that holds multiple objects in a specific\n",
    "order.\n",
    "\n",
    "## Creating lists\n",
    "\n",
    "In Python, lists are created by putting things inside of square brackets (`[]`).\n",
    "\n",
    "```python\n",
    "some_primes = [1,2,3,5,7,11]\n",
    "```\n",
    "\n",
    "Lists can hold objects of any type:\n",
    "\n",
    "```python\n",
    "many_types = [1, 55.5, \"Am I in a list?\", True]\n",
    "```\n",
    "\n",
    "We can get the length of the list with the `len()` functions:\n",
    "\n",
    "```python\n",
    "len(many_types)\n",
    "```"
   ]
  },
  {
   "cell_type": "markdown",
   "metadata": {
    "slideshow": {
     "slide_type": "subslide"
    }
   },
   "source": [
    "## Accessing Elements\n",
    "\n",
    "Elements of a list are accessed using square brackets after a variable.\n",
    "\n",
    "```python\n",
    "myList = [5, 2.3, 'hello']\n",
    "```\n",
    "\n",
    "The first element of a list is at index `0`:\n",
    "\n",
    "```python\n",
    "myList[0]\n",
    "```\n",
    "\n",
    "Attempting to access an element out of bounds will produce an error:\n",
    "\n",
    "```python\n",
    "myList[3]\n",
    "```\n",
    "\n",
    "We can index to `-1` to get the object at the end of the list:\n",
    "\n",
    "```python\n",
    "myList[-1]\n",
    "```\n",
    "\n",
    "Likewise, we can index backwards using negative numbers:\n",
    "\n",
    "```python\n",
    "myList[-3]\n",
    "```"
   ]
  },
  {
   "cell_type": "markdown",
   "metadata": {
    "collapsed": true,
    "slideshow": {
     "slide_type": "subslide"
    }
   },
   "source": [
    "## Slicing\n",
    "\n",
    "A sub-list may be accessed using slice syntax.  Let's start with the list:\n",
    "\n",
    "```python\n",
    "many_types = [1, 55.5, \"Am I in a list?\", True, \"the end\"]\n",
    "```\n",
    "\n",
    "Let's look at a sub-list:\n",
    "\n",
    "```python\n",
    "many_types[2:4]\n",
    "```\n",
    "\n",
    "The `[2:4]` is called a slice and returns a list with elements at indices 2 and\n",
    "3 from the original list."
   ]
  },
  {
   "cell_type": "code",
   "execution_count": 17,
   "metadata": {
    "slideshow": {
     "slide_type": "fragment"
    }
   },
   "outputs": [
    {
     "data": {
      "text/plain": [
       "['Am I in a list?', True]"
      ]
     },
     "execution_count": 17,
     "metadata": {},
     "output_type": "execute_result"
    }
   ],
   "source": [
    "many_types = [1, 55.5, \"Am I in a list?\", True, \"the end\"]\n",
    "many_types[2:4]"
   ]
  },
  {
   "cell_type": "markdown",
   "metadata": {
    "collapsed": true,
    "slideshow": {
     "slide_type": "subslide"
    }
   },
   "source": [
    "## Slicing\n",
    "\n",
    "It is easy to slice from an index to the end:\n",
    "\n",
    "```python\n",
    "many_types[2:]\n",
    "```\n",
    "\n",
    "It is also easy to slice from the beginning to a specified index:\n",
    "\n",
    "```python\n",
    "many_types[:3]\n",
    "```"
   ]
  },
  {
   "cell_type": "markdown",
   "metadata": {
    "slideshow": {
     "slide_type": "subslide"
    }
   },
   "source": [
    "## Adding and multiplying\n",
    "\n",
    "The `+` operator concatenates (or combines) lists:\n",
    "\n",
    "```\n",
    "myList = [5, 2.3, 'hello']\n",
    "```\n",
    "```\n",
    "mySecondList = ['a', '3']\n",
    "```\n",
    "```\n",
    "concatList = myList + mySecondList\n",
    "```\n",
    "```\n",
    "concatList\n",
    "```\n",
    "\n",
    "The `*` operator can be used to repeat lists:\n",
    "\n",
    "```python\n",
    "myList = ['hello', 'world']\n",
    "```\n",
    "```\n",
    "myList * 2\n",
    "```\n",
    "```\n",
    "2 * myList\n",
    "```"
   ]
  },
  {
   "cell_type": "code",
   "execution_count": 18,
   "metadata": {
    "slideshow": {
     "slide_type": "fragment"
    }
   },
   "outputs": [
    {
     "name": "stdout",
     "output_type": "stream",
     "text": [
      "[5, 2.3, 'hello', 'a', '3']\n"
     ]
    }
   ],
   "source": [
    "myList = [5, 2.3, 'hello']\n",
    "mySecondList = ['a', '3']\n",
    "concatList = myList + mySecondList\n",
    "print(concatList)"
   ]
  },
  {
   "cell_type": "markdown",
   "metadata": {
    "slideshow": {
     "slide_type": "subslide"
    }
   },
   "source": [
    "\n",
    "## Lists are mutable\n",
    "\n",
    "Lists are mutable, this means that individual elements can be changed.\n",
    "\n",
    "```python\n",
    "# start with a list\n",
    "my_list = ['a', 43, 1.234]\n",
    "# new value inserted at index 0\n",
    "my_list[0] = -3\n",
    "```\n",
    "\n",
    "We can also assign to a slice\n",
    "\n",
    "```python\n",
    "x = 2\n",
    "my_list[1:3] = [x, 2.3]\n",
    "```\n",
    "\n"
   ]
  },
  {
   "cell_type": "markdown",
   "metadata": {
    "slideshow": {
     "slide_type": "subslide"
    }
   },
   "source": [
    "## Copying a list\n",
    "\n",
    "Let's attempt to copy a list referenced by variable `a` to another variable `b`..."
   ]
  },
  {
   "cell_type": "code",
   "execution_count": 58,
   "metadata": {
    "slideshow": {
     "slide_type": "subslide"
    }
   },
   "outputs": [
    {
     "name": "stdout",
     "output_type": "stream",
     "text": [
      "['a', 1, 'c']\n",
      "['a', 1, 'c']\n"
     ]
    }
   ],
   "source": [
    "a = ['a', 'b', 'c']\n",
    "b = a # attempt to copy a to b\n",
    "b[1] = 1 # now we want to change an element in b\n",
    "print(b)\n",
    "print(a)\n",
    "# Ok, let's try a different technique."
   ]
  },
  {
   "cell_type": "code",
   "execution_count": 59,
   "metadata": {
    "slideshow": {
     "slide_type": "subslide"
    }
   },
   "outputs": [
    {
     "name": "stdout",
     "output_type": "stream",
     "text": [
      "a:  ['a', 1, 'c']\n",
      "b:  ['a', 1, 'c']\n",
      "c:  ['a', 'b', 'c']\n",
      "id(a):  4446023432\n",
      "id(b):  4446023432\n",
      "id(c):  4446165256\n"
     ]
    }
   ],
   "source": [
    "a = ['a', 'b', 'c']\n",
    "b = a       # first attempt to copy a to b\n",
    "c = list(a) # use the list constructor\n",
    "b[1] = 1    # now we want to change an element in b\n",
    "print(\"a: \", a)\n",
    "print(\"b: \", b)\n",
    "print(\"c: \", c)\n",
    "print(\"id(a): \", id(a))\n",
    "print(\"id(b): \", id(b))\n",
    "print(\"id(c): \", id(c))"
   ]
  },
  {
   "cell_type": "markdown",
   "metadata": {
    "slideshow": {
     "slide_type": "subslide"
    }
   },
   "source": [
    "## Copying a list\n",
    "A list can be copied with `b = list(a)` or `b = a[:]`.  The second option is a\n",
    "slice including all elements."
   ]
  },
  {
   "cell_type": "markdown",
   "metadata": {
    "slideshow": {
     "slide_type": "subslide"
    }
   },
   "source": [
    "## List operations\n",
    "\n",
    "In the following summary, `s` is a list and `x` is an element.\n",
    "\n",
    "* `x in s`: `True` if an item of `s` is equal to `x`, else `False`\n",
    "* `x not in s`: `False` if an item of `s` is equal to `x`, else `True`\n",
    "* `s + t`: the concatenation of `s` and `t`\n",
    "* `s * n` or `n * s`: equivalent to adding `s` to itself `n` times\n",
    "* `s[i]`: `i`th item of `s`, origin `0`\n",
    "* `s[i:j]`: slice of `s` from `i` to `j`\n",
    "* `s[i:j:k]`: slice of s from `i` to `j` with step `k`\n",
    "* `len(s)`: length of `s`\n",
    "* `min(s)`: smallest item of `s`\n",
    "* `max(s)`: largest item of `s`\n",
    "* `s.index(x)`: index of the first occurrence of `x` in `s`\n",
    "* `s.count(x)`: total number of occurrences of `x` in `s`\n",
    "* `x.sort()`: sort the list"
   ]
  },
  {
   "cell_type": "markdown",
   "metadata": {
    "slideshow": {
     "slide_type": "subslide"
    }
   },
   "source": [
    "## List operations (continued)\n",
    "\n",
    "* `s[i] = x`: item `i` of `s` is replaced by `x`\n",
    "* `s[i:j] = t`: slice of `s` from `i` to `j` is replaced by `t`\n",
    "* `del s[i:j]`: same as `s[i:j] = []`\n",
    "* `s.append(x)`: appends `x` to the end of the sequence\n",
    "* `s.clear()`: removes all items from `s` (same as `del s[:]`)\n",
    "* `s.copy()`: creates a shallow copy of `s` (same as `s[:]`)\n",
    "* `s.extend(t)`: extends `s` with `t`\n",
    "* `s *= n`: updates `s` with its contents repeated `n` times\n",
    "* `s.insert(i, x)`: inserts `x` into `s` at the index given by `i`\n",
    "* `s.pop([i])`: removes and returns the item at `i` from `s`\n",
    "* `s.remove(x)`: remove first item from `s` where `s[i] == x`\n",
    "* `s.reverse()`: reverses the items of `s` in place"
   ]
  },
  {
   "cell_type": "code",
   "execution_count": 60,
   "metadata": {
    "slideshow": {
     "slide_type": "subslide"
    }
   },
   "outputs": [
    {
     "name": "stdout",
     "output_type": "stream",
     "text": [
      "                                Append                                \n",
      "----------------------------------------------------------------------\n",
      "[1, 2, 'Hello', 55, [2, 2, 32], [0, 1, 2, 3, 4, 5, 6, 7, 8, 9]]\n",
      "                                Extend                                \n",
      "----------------------------------------------------------------------\n",
      "[1, 2, 'Hello', 55, 2, 2, 32, 0, 1, 2, 3, 4, 5, 6, 7, 8, 9]\n"
     ]
    }
   ],
   "source": [
    "# Difference between append and extend \n",
    "# l.append(object) appends object at end.\n",
    "\n",
    "print('{:^70}'.format(\"Append\"))\n",
    "print('-'*70)\n",
    "l = [1,2, \"Hello\", 55]\n",
    "l.append([2,2,32])\n",
    "l.append(list(range(10)))\n",
    "print(l)\n",
    "\n",
    "\n",
    "print('{:^70}'.format(\"Extend\"))\n",
    "print('-'*70)\n",
    "# l.extend(iterable) extends list by appending elements from the iterable.\n",
    "l = [1,2, \"Hello\", 55]\n",
    "l.extend([2,2,32])\n",
    "l.extend(list(range(10)))\n",
    "print(l)"
   ]
  },
  {
   "cell_type": "markdown",
   "metadata": {
    "slideshow": {
     "slide_type": "subslide"
    }
   },
   "source": [
    "## List operations \n",
    "\n",
    "Also have a look at:\n",
    "\n",
    "```python\n",
    "help(list)\n",
    "```"
   ]
  },
  {
   "cell_type": "markdown",
   "metadata": {
    "slideshow": {
     "slide_type": "slide"
    }
   },
   "source": [
    "# Tuples & Range Types\n",
    "\n",
    "## Tuples\n",
    "1. Unlike lists tuples are immutable sequences\n",
    "2. The most common way to construct tuples is by: \n",
    " - Using a pair of parenthesis\n",
    " ```python \n",
    "     a = (1,2,3,4)\n",
    "  ```\n",
    " - Using the ```tuple()``` function on an iterable item:\n",
    "  ```python \n",
    "     a = tuple([1,2,3,4])\n",
    "  ```"
   ]
  },
  {
   "cell_type": "code",
   "execution_count": 61,
   "metadata": {
    "slideshow": {
     "slide_type": "subslide"
    }
   },
   "outputs": [
    {
     "ename": "TypeError",
     "evalue": "'tuple' object does not support item assignment",
     "output_type": "error",
     "traceback": [
      "\u001b[0;31m---------------------------------------------------------------------------\u001b[0m",
      "\u001b[0;31mTypeError\u001b[0m                                 Traceback (most recent call last)",
      "\u001b[0;32m<ipython-input-61-c6db73c8997a>\u001b[0m in \u001b[0;36m<module>\u001b[0;34m()\u001b[0m\n\u001b[1;32m      1\u001b[0m \u001b[0;31m# Showing the immmutability of tuples\u001b[0m\u001b[0;34m\u001b[0m\u001b[0;34m\u001b[0m\u001b[0m\n\u001b[1;32m      2\u001b[0m \u001b[0ma\u001b[0m \u001b[0;34m=\u001b[0m \u001b[0mtuple\u001b[0m\u001b[0;34m(\u001b[0m\u001b[0;34m[\u001b[0m\u001b[0;36m1\u001b[0m\u001b[0;34m,\u001b[0m\u001b[0;36m2\u001b[0m\u001b[0;34m,\u001b[0m\u001b[0;36m3\u001b[0m\u001b[0;34m,\u001b[0m\u001b[0;36m4\u001b[0m\u001b[0;34m]\u001b[0m\u001b[0;34m)\u001b[0m\u001b[0;34m\u001b[0m\u001b[0m\n\u001b[0;32m----> 3\u001b[0;31m \u001b[0ma\u001b[0m\u001b[0;34m[\u001b[0m\u001b[0;36m0\u001b[0m\u001b[0;34m]\u001b[0m \u001b[0;34m=\u001b[0m \u001b[0;36m5\u001b[0m\u001b[0;34m\u001b[0m\u001b[0m\n\u001b[0m",
      "\u001b[0;31mTypeError\u001b[0m: 'tuple' object does not support item assignment"
     ]
    }
   ],
   "source": [
    "# Showing the immmutability of tuples\n",
    "a = tuple([1,2,3,4])\n",
    "a[0] = 5"
   ]
  },
  {
   "cell_type": "markdown",
   "metadata": {
    "slideshow": {
     "slide_type": "subslide"
    }
   },
   "source": [
    "\n",
    "## Range type\n",
    "1. Range types are immutable sequence of numbers \n",
    "2. ```range(n)``` is a sequence from ``` 0, 1, ..., n-1 ```.\n",
    "3. Most commonly used for looping: \n",
    "4. Three arguments: ```start, stop, step ```\n",
    "    - ``` start ``` defaults to  0 and ``` step ``` defaults to 1\n",
    "    ```python \n",
    "     for i in range(10): print(i)```\n",
    "     is equivalent to \n",
    "     ```python\n",
    "     for i in range(0,10,1): print(i) ```\n"
   ]
  },
  {
   "cell_type": "markdown",
   "metadata": {
    "slideshow": {
     "slide_type": "subslide"
    }
   },
   "source": [
    "## ... So why crete a whole new type for range, seems ridiculous!\n",
    "\n",
    "1. Well, in python 2.7 range just returns a list, so good question!\n",
    "2. But now imagine I'm looping 100 million times. We have to store that massive list in memory, when in reality all I need to know is my current state within the iteration\n",
    "3. So, the advantage of the range object is that no matter the size of the range, it will always take the same small amount of memory (since it only stores the ``` start ```, ``` stop ``` and ``` step ``` values, and calculates the individual items and subranges as needed)\n",
    "4. You can always cast it as a list using ``` list() ``` if you want a linearly spaced sequence of numbers "
   ]
  },
  {
   "cell_type": "code",
   "execution_count": 3,
   "metadata": {
    "slideshow": {
     "slide_type": "subslide"
    }
   },
   "outputs": [
    {
     "name": "stdout",
     "output_type": "stream",
     "text": [
      "Creation of range object with 1.000E+03 took 0.00003004 seconds\n",
      "Creation of list object with 1.000E+03 took 0.00005507 seconds\n"
     ]
    }
   ],
   "source": [
    "import time\n",
    "\n",
    "size = 10**3\n",
    "start = time.time()\n",
    "x = range(size)\n",
    "end = time.time()\n",
    "\n",
    "print(\"Creation of range object with {:.3E} took {:.8f} seconds\".format(size, end - start))\n",
    "start = time.time()\n",
    "list(x)\n",
    "end = time.time()\n",
    "print(\"Creation of list object with {:.3E} took {:.8f} seconds\".format(size, end - start))\n"
   ]
  },
  {
   "cell_type": "code",
   "execution_count": 4,
   "metadata": {
    "slideshow": {
     "slide_type": "subslide"
    }
   },
   "outputs": [
    {
     "name": "stdout",
     "output_type": "stream",
     "text": [
      "Creation of range object with 1.000E+08 took 0.00003195 seconds\n",
      "Creation of list object with 1.000E+08 took 4.23818088 seconds\n"
     ]
    }
   ],
   "source": [
    "size = 10**8\n",
    "start = time.time()\n",
    "x = range(size)\n",
    "end = time.time()\n",
    "\n",
    "print(\"Creation of range object with {:.3E} took {:.8f} seconds\".format(size, end - start))\n",
    "start = time.time()\n",
    "list(x)\n",
    "end = time.time()\n",
    "print(\"Creation of list object with {:.3E} took {:.8f} seconds\".format(size, end - start))"
   ]
  },
  {
   "cell_type": "code",
   "execution_count": 6,
   "metadata": {
    "slideshow": {
     "slide_type": "fragment"
    }
   },
   "outputs": [
    {
     "name": "stdout",
     "output_type": "stream",
     "text": [
      "32941\n"
     ]
    }
   ],
   "source": [
    "import random\n",
    "size = 10**5\n",
    "x = range(size)\n",
    "print(x[random.randint(0, size)])"
   ]
  },
  {
   "cell_type": "markdown",
   "metadata": {
    "slideshow": {
     "slide_type": "slide"
    }
   },
   "source": [
    "# Functions"
   ]
  },
  {
   "cell_type": "markdown",
   "metadata": {
    "slideshow": {
     "slide_type": "subslide"
    }
   },
   "source": [
    "# Python functions\n",
    "\n",
    "A function takes an input, applies a series of computations on the input and returns a result.  For example, we\n",
    "could define a function to compute the circumference of a circle with radius\n",
    "$r$.  The function would be defined\n",
    "\n",
    "$$\n",
    "c(r) = 2 \\times \\pi \\times r\n",
    "$$\n",
    "\n",
    "The function $c(r)$ now abstracts the details of the mathematical formula.\n",
    "\n",
    "Python functions are used to abstract components of a program.\n",
    "\n",
    "Much like a mathematical function, Python functions typically take some input,\n",
    "perform a computation, then return a result."
   ]
  },
  {
   "cell_type": "markdown",
   "metadata": {
    "slideshow": {
     "slide_type": "subslide"
    }
   },
   "source": [
    "## Simple example\n",
    "\n",
    "*Example:* Suppose we want to find the circumference of a circle with radius\n",
    "`2.5`. We could write:\n",
    "\n",
    "```python\n",
    "import math\n",
    "radius = 2.5\n",
    "circumference = 2*math.pi*radius\n",
    "```\n",
    "We can also write this as a python function:\n",
    "```python\n",
    "def calc_circumference(radius):\n",
    "    circumference = 2*math.pi*radius\n",
    "    return circumference\n",
    "```\n",
    "And use the function:\n",
    "```python\n",
    "a = calc_circumference(2.5)\n",
    "```\n",
    "```python\n",
    "calc_circumference(4.3)\n",
    "```"
   ]
  },
  {
   "cell_type": "code",
   "execution_count": 62,
   "metadata": {
    "slideshow": {
     "slide_type": "subslide"
    }
   },
   "outputs": [
    {
     "name": "stdout",
     "output_type": "stream",
     "text": [
      "15.707963267948966\n"
     ]
    }
   ],
   "source": [
    "import math\n",
    "def calc_circumference(radius):\n",
    "    circumference = 2*math.pi*radius\n",
    "    return circumference\n",
    "\n",
    "a = calc_circumference(2.5)\n",
    "print(a)"
   ]
  },
  {
   "cell_type": "markdown",
   "metadata": {
    "slideshow": {
     "slide_type": "subslide"
    }
   },
   "source": [
    "## Another example\n",
    "\n",
    "Let's look at another example:\n",
    "\n",
    "```python\n",
    "def PrintHello(name):\n",
    "    print(\"Hello \" + name)\n",
    "```\n",
    "In Python, functions are also objects (more on this later):\n",
    "```python\n",
    "PrintHello\n",
    "```\n",
    "Let's call the function:\n",
    "```python\n",
    "PrintHello(\"Bob\")\n",
    "```\n",
    "In this case, the function did not return a value.  By default, functions return\n",
    "a `None` value:\n",
    "```python\n",
    "val = PrintHello(\"Jane\")\n",
    "print(val)\n",
    "```"
   ]
  },
  {
   "cell_type": "code",
   "execution_count": 93,
   "metadata": {
    "slideshow": {
     "slide_type": "fragment"
    }
   },
   "outputs": [
    {
     "name": "stdout",
     "output_type": "stream",
     "text": [
      "Hello Jane\n",
      "None\n"
     ]
    },
    {
     "data": {
      "text/plain": [
       "<function __main__.PrintHello>"
      ]
     },
     "execution_count": 93,
     "metadata": {},
     "output_type": "execute_result"
    }
   ],
   "source": [
    "def PrintHello(name):\n",
    "    print(\"Hello \" + name)\n",
    "    \n",
    "val = PrintHello(\"Jane\")\n",
    "print(val)\n",
    "# returns a function object!\n",
    "PrintHello"
   ]
  },
  {
   "cell_type": "markdown",
   "metadata": {
    "slideshow": {
     "slide_type": "subslide"
    }
   },
   "source": [
    "## Anatomy of a Python function\n",
    "\n",
    "\n",
    "\n",
    "```python\n",
    "\n",
    "\n",
    "\n",
    "def function_name(in1, in2):\n",
    "    print(\"hello\")# function body\n",
    "    print(\"input_argument_1 = {}\".format(in1))\n",
    "    \n",
    "    print(\"input_argument_2 = {}\".format(in2))\n",
    "    \n",
    "    ...\n",
    "```"
   ]
  },
  {
   "cell_type": "markdown",
   "metadata": {
    "slideshow": {
     "slide_type": "subslide"
    }
   },
   "source": [
    "## Anatomy of a Python function\n",
    "\n",
    "1. start with `def` keyword\n",
    "\n",
    "2. give the function name\n",
    "\n",
    "3. followed by comma separated list of input arguments, surrounded by\n",
    "   parentheses. just use `()` for no inputs\n",
    "\n",
    "4. followed by a colon `:`\n",
    "\n",
    "5. followed by **indented** function body\n",
    "\n",
    "Calling a function is simple.  Just use the function name followed by input\n",
    "arguments in `()`:\n",
    "\n",
    "```python\n",
    "function_name(\"input 1\", \"input 2\")\n",
    "```\n",
    "\n",
    "Call a function without using `()` simply returns the reference to the function. It does not perform any computation!\n",
    "\n",
    "```python\n",
    "function_name\n",
    "```"
   ]
  },
  {
   "cell_type": "markdown",
   "metadata": {
    "slideshow": {
     "slide_type": "subslide"
    }
   },
   "source": [
    "\n",
    "## Return a value\n",
    "\n",
    "Use the `return` keyword to return an object from a function:\n",
    "\n",
    "```python\n",
    "def summation(a, b):\n",
    "    total = 0\n",
    "    for n in range(a,b+1):\n",
    "        total += n\n",
    "    return total\n",
    "```\n",
    "\n",
    "Once Python hits `return`, it will return the output and jump out of the\n",
    "function."
   ]
  },
  {
   "cell_type": "code",
   "execution_count": 67,
   "metadata": {
    "slideshow": {
     "slide_type": "fragment"
    }
   },
   "outputs": [
    {
     "name": "stdout",
     "output_type": "stream",
     "text": [
      "5050\n"
     ]
    }
   ],
   "source": [
    "\n",
    "def summation(a, b):\n",
    "    total = 0\n",
    "    for n in range(a,b+1):\n",
    "        total += n\n",
    "    return total\n",
    "\n",
    "c = summation(1, 100)\n",
    "print(c)"
   ]
  },
  {
   "cell_type": "markdown",
   "metadata": {
    "slideshow": {
     "slide_type": "subslide"
    }
   },
   "source": [
    "## Return multiple values\n",
    "\n",
    "Separate multiple return values with a comma:\n",
    "\n",
    "```python\n",
    "def SummationAndProduct(a,b):\n",
    "    total = 0\n",
    "    prod = 1\n",
    "    \n",
    "    for n in range(a,b+1):\n",
    "        total += n\n",
    "        prod *= n\n",
    "        \n",
    "    return total, prod\n",
    "```"
   ]
  },
  {
   "cell_type": "code",
   "execution_count": 70,
   "metadata": {
    "slideshow": {
     "slide_type": "skip"
    }
   },
   "outputs": [],
   "source": [
    "def SummationAndProduct(a,b):\n",
    "    total = 0\n",
    "    prod = 1\n",
    "    \n",
    "    for n in range(a,b+1):\n",
    "        total += n\n",
    "        prod *= n\n",
    "        \n",
    "    return total, prod"
   ]
  },
  {
   "cell_type": "markdown",
   "metadata": {
    "slideshow": {
     "slide_type": "subslide"
    }
   },
   "source": [
    "## Return multiple values\n",
    "\n",
    "Let's use the function:\n",
    "\n",
    "```python\n",
    "a = SummationAndProduct(1,10)\n",
    "print(a)\n",
    "```\n",
    "\n",
    "The `return` keyword packs multiple outputs into a tuple.  You can use Python's\n",
    "tuple unpacking to nicely get the return values in calling code.\n",
    "\n",
    "```python\n",
    "a, b = SummationAndProduct(1,10)\n",
    "\n",
    "print(a)\n",
    "\n",
    "print(b)\n",
    "```"
   ]
  },
  {
   "cell_type": "code",
   "execution_count": 72,
   "metadata": {
    "slideshow": {
     "slide_type": "fragment"
    }
   },
   "outputs": [
    {
     "name": "stdout",
     "output_type": "stream",
     "text": [
      "(55, 3628800)\n",
      "55 3628800\n"
     ]
    }
   ],
   "source": [
    "a = SummationAndProduct(1,10)\n",
    "print(a)\n",
    "\n",
    "a, b = SummationAndProduct(1,10)\n",
    "print(a, b)"
   ]
  },
  {
   "cell_type": "code",
   "execution_count": 74,
   "metadata": {
    "slideshow": {
     "slide_type": "subslide"
    }
   },
   "outputs": [],
   "source": [
    "# Example of unpacking in function return\n",
    "def SummationAndProduct(a,b):\n",
    "    total = 0\n",
    "    prod = 1\n",
    "    \n",
    "    for n in range(a,b+1):\n",
    "        total += n\n",
    "        prod *= n\n",
    "        \n",
    "    return total, prod, range(10)"
   ]
  },
  {
   "cell_type": "code",
   "execution_count": 90,
   "metadata": {
    "slideshow": {
     "slide_type": "fragment"
    }
   },
   "outputs": [
    {
     "name": "stdout",
     "output_type": "stream",
     "text": [
      "55 3628800 range(0, 10)\n"
     ]
    }
   ],
   "source": [
    "# Will unpack first two results into a and b, and assign all other return values to *rest\n",
    "# more on this next lecture!!\n",
    "a, b, *rest = SummationAndProduct(1,10)\n",
    "print(a, b, *rest)"
   ]
  },
  {
   "cell_type": "markdown",
   "metadata": {
    "slideshow": {
     "slide_type": "skip"
    }
   },
   "source": [
    "#"
   ]
  },
  {
   "cell_type": "markdown",
   "metadata": {
    "slideshow": {
     "slide_type": "subslide"
    }
   },
   "source": [
    "## Scope\n",
    "\n",
    "Variables defined within a function (local), are only accessible within\n",
    "the function.\n",
    "\n",
    "```python\n",
    "x = 1\n",
    "def add_one(x):\n",
    "    x = x + 1 # local x\n",
    "    return x\n",
    "\n",
    "y = add_one(x)\n",
    "\n",
    "print(f\"x = {x}\")\n",
    "print(f\"y = {y}\")\n",
    "```\n",
    "\n",
    "The `x` variable in the body of `add_one` is local to the scope of the function.\n",
    "It does not affect the `x` in the higher-level (in this case \"global\") scope."
   ]
  },
  {
   "cell_type": "code",
   "execution_count": 83,
   "metadata": {
    "slideshow": {
     "slide_type": "fragment"
    }
   },
   "outputs": [
    {
     "name": "stdout",
     "output_type": "stream",
     "text": [
      "x = 1\n",
      "y = 2\n"
     ]
    }
   ],
   "source": [
    "x = 1\n",
    "def add_one(x):\n",
    "    x = x + 1 # local x\n",
    "    return x\n",
    "\n",
    "y = add_one(x)\n",
    "\n",
    "print(f\"x = {x}\")\n",
    "print(f\"y = {y}\")"
   ]
  },
  {
   "cell_type": "markdown",
   "metadata": {
    "slideshow": {
     "slide_type": "subslide"
    }
   },
   "source": [
    "## Global keyword\n",
    "\n",
    "It is possible (but not recommended) to change global variables within a\n",
    "function:\n",
    "\n",
    "```python\n",
    "x = 0\n",
    "\n",
    "def incr_x():\n",
    "    x = x + 1 # does not work\n",
    "\n",
    "def incr_x2():\n",
    "    global x \n",
    "# tells the function to look for x in global scope\n",
    "    x = x + 1 # does work\n",
    "```\n",
    "\n",
    "```python\n",
    "incr_x()\n",
    "```\n",
    "\n",
    "```python\n",
    "incr_x2()\n",
    "print(f\"x = {x}\")\n",
    "```\n",
    "\n"
   ]
  },
  {
   "cell_type": "code",
   "execution_count": 84,
   "metadata": {
    "slideshow": {
     "slide_type": "subslide"
    }
   },
   "outputs": [
    {
     "name": "stdout",
     "output_type": "stream",
     "text": [
      "local variable 'x' referenced before assignment\n",
      "x = 1\n"
     ]
    }
   ],
   "source": [
    "x = 0\n",
    "\n",
    "def incr_x():\n",
    "    x = x + 1 # does not work\n",
    "\n",
    "def incr_x2():\n",
    "    global x \n",
    "# tells the function to look for x in global scope\n",
    "    x = x + 1 # does work\n",
    "\n",
    "try:\n",
    "    incr_x()\n",
    "except UnboundLocalError as e:\n",
    "    print(e)\n",
    "    \n",
    "incr_x2()\n",
    "print(f\"x = {x}\")\n"
   ]
  },
  {
   "cell_type": "code",
   "execution_count": 85,
   "metadata": {
    "slideshow": {
     "slide_type": "skip"
    }
   },
   "outputs": [],
   "source": [
    "del x"
   ]
  },
  {
   "cell_type": "markdown",
   "metadata": {
    "slideshow": {
     "slide_type": "subslide"
    }
   },
   "source": [
    "\n",
    "## Default arguments\n",
    "\n",
    "It is sometimes convenient to have default arguments:\n",
    "\n",
    "```python\n",
    "def func(x, a = 1):\n",
    "\n",
    "    return x + a\n",
    "    \n",
    "print(\"func(1) =\", func(1))\n",
    "print(\"func(1, a=2)\", func(1,a=2))\n",
    "```\n",
    "\n",
    "The default value is used if the user doesn’t supply a value."
   ]
  },
  {
   "cell_type": "markdown",
   "metadata": {
    "slideshow": {
     "slide_type": "subslide"
    }
   },
   "source": [
    "## Multiple default arguments\n",
    "\n",
    "Consider the function prototype: `func(x, a=1, b=2)`.\n",
    "\n",
    "Suppose we want to use the default value for a, but change b:\n",
    "\n",
    "```python\n",
    "def func(x, a=1, b=3):\n",
    "    return x + a - b\n",
    "print(\"func(2) = {}\".format(func(2)))\n",
    "print(\"func(5, 2) = {}\".format( func(5, 2)))\n",
    "print(\"func(3, b=0) = {}\".format(func(3, b=0)))\n",
    "```\n",
    "\n",
    "These are known as keyword arguments."
   ]
  },
  {
   "cell_type": "code",
   "execution_count": 86,
   "metadata": {
    "slideshow": {
     "slide_type": "fragment"
    }
   },
   "outputs": [
    {
     "name": "stdout",
     "output_type": "stream",
     "text": [
      "func(2) = 0\n",
      "func(5, 2) = 4\n",
      "func(3, b=0) = 4\n"
     ]
    }
   ],
   "source": [
    "def func(x, a=1, b=3):\n",
    "    return x + a - b\n",
    "print(\"func(2) = {}\".format(func(2)))\n",
    "print(\"func(5, 2) = {}\".format( func(5, 2)))\n",
    "print(\"func(3, b=0) = {}\".format(func(3, b=0)))"
   ]
  },
  {
   "cell_type": "markdown",
   "metadata": {
    "slideshow": {
     "slide_type": "subslide"
    }
   },
   "source": [
    "## Docstring\n",
    "\n",
    "It is important that others, including *you-in-3-months-time* are able\n",
    "to understand what your code does.\n",
    "\n",
    "This can be easily done using a so called \"docstring\", as follows:\n",
    "\n",
    "```python\n",
    "def nothing():\n",
    "    \"\"\" This function doesn’t do anything. \"\"\"\n",
    "    pass\n",
    "```\n",
    "\n",
    "We can then read the docstring from the interpreter using:\n",
    "\n",
    "```python\n",
    "help(nothing)\n",
    "```\n",
    "\n",
    "Built-in Python functions also have documentation:\n",
    "\n",
    "```python\n",
    "help(print)\n",
    "```"
   ]
  },
  {
   "cell_type": "markdown",
   "metadata": {
    "slideshow": {
     "slide_type": "subslide"
    }
   },
   "source": [
    "## Lambda functions\n",
    "\n",
    "A lambda function is simply a function without a name.  These are also called\n",
    "anonymous functions. The lambda function's body must be composed of a single expression \n",
    "\n",
    "They are used as an alternative way to define short functions:\n",
    "\n",
    "```python\n",
    "cube = lambda x: x*x*x\n",
    "print(\"cube(3) = {}\".format( cube(3)))\n",
    "\n",
    "```"
   ]
  },
  {
   "cell_type": "code",
   "execution_count": 91,
   "metadata": {
    "slideshow": {
     "slide_type": "fragment"
    }
   },
   "outputs": [
    {
     "name": "stdout",
     "output_type": "stream",
     "text": [
      "cube(3) = 27\n"
     ]
    }
   ],
   "source": [
    "cube = lambda x: x*x*x\n",
    "print(\"cube(3) = {}\".format( cube(3)))"
   ]
  },
  {
   "cell_type": "markdown",
   "metadata": {
    "slideshow": {
     "slide_type": "slide"
    }
   },
   "source": [
    "# Sequence Types Examples\n"
   ]
  },
  {
   "cell_type": "markdown",
   "metadata": {
    "slideshow": {
     "slide_type": "subslide"
    }
   },
   "source": [
    "## Looping over elements\n",
    "\n",
    "It is very easy to loop over elements of a list using `for`, we have seen this\n",
    "before using `range`.\n",
    "\n",
    "```python\n",
    "someIntegers = [1, 3, 10]\n",
    "\n",
    "for x in someIntegers:\n",
    "    print(x)\n",
    "```"
   ]
  },
  {
   "cell_type": "code",
   "execution_count": 88,
   "metadata": {
    "slideshow": {
     "slide_type": "fragment"
    }
   },
   "outputs": [
    {
     "name": "stdout",
     "output_type": "stream",
     "text": [
      "1\n",
      "3\n",
      "10\n"
     ]
    }
   ],
   "source": [
    "someIntegers = [1, 3, 10]\n",
    "\n",
    "for x in someIntegers:\n",
    "    print(x)"
   ]
  },
  {
   "cell_type": "markdown",
   "metadata": {
    "collapsed": true,
    "slideshow": {
     "slide_type": "subslide"
    }
   },
   "source": [
    "## Enumerate\n",
    "Using `enumerate`, we can loop over both elements and indices at the same time.\n",
    "\n",
    "```python\n",
    "myList = [1, 2, 4]\n",
    "\n",
    "for index, elem in enumerate(myList):\n",
    "    print(\"{0} {1}\".format(index, elem))\n",
    "```\n"
   ]
  },
  {
   "cell_type": "code",
   "execution_count": 89,
   "metadata": {
    "slideshow": {
     "slide_type": "fragment"
    }
   },
   "outputs": [
    {
     "name": "stdout",
     "output_type": "stream",
     "text": [
      "0 1\n",
      "1 2\n",
      "2 4\n"
     ]
    }
   ],
   "source": [
    "myList = [1, 2, 4]\n",
    "\n",
    "for index, elem in enumerate(myList):\n",
    "    print(\"{0} {1}\".format(index, elem))"
   ]
  },
  {
   "cell_type": "markdown",
   "metadata": {
    "collapsed": true,
    "slideshow": {
     "slide_type": "subslide"
    }
   },
   "source": [
    "## `map`\n",
    "\n",
    "We can apply a function to all elements of a list using `map` and return the\n",
    "result in a new object. In python 2 map returns a list but in python 3 it returns map object (we'll get to this), which can be trasnformed into a list with ```list() ```.  \n",
    "\n",
    "Here we use a map and a lambda function to cube each element of the list.\n",
    "\n",
    "```python\n",
    "list_1 = [1, 2, 3, 4, 5, 6]\n",
    "\n",
    "list_2 = list(map(lambda x: x**3, list_1))\n",
    "```"
   ]
  },
  {
   "cell_type": "code",
   "execution_count": 6,
   "metadata": {
    "slideshow": {
     "slide_type": "fragment"
    }
   },
   "outputs": [
    {
     "name": "stdout",
     "output_type": "stream",
     "text": [
      "<map object at 0x103bd87f0>\n",
      "[1, 8, 27, 64, 125, 216]\n",
      "[1, 8, 27, 64, 125, 216]\n"
     ]
    }
   ],
   "source": [
    "# Cubing elements of a list\n",
    "list_1 = [1, 2, 3, 4, 5, 6]\n",
    "list_2 = map(lambda x: x**3, list_1)\n",
    "list_2_comp = [x**3 for x in list_1]\n",
    "\n",
    "print(list_2)\n",
    "# These list(map(lambda x: f(x), list_)) is equivalent to \n",
    "# [f(x) for x in list_]\n",
    "print(list(list_2))\n",
    "print(list_2_comp)"
   ]
  },
  {
   "cell_type": "markdown",
   "metadata": {
    "collapsed": true,
    "slideshow": {
     "slide_type": "subslide"
    }
   },
   "source": [
    "\n",
    "## `filter`\n",
    "\n",
    "We can also filter elements of a list using `filter`. \n",
    "\n",
    "Here we use a lambda function and filter to get the even elements of a list\n",
    "\n",
    "```python\n",
    "list_1 = [0, 1, 2, 3, 4, 5, 6, 7, 8, 9]\n",
    "\n",
    "list_2 = list(filter(lambda x: x % 2 == 0, list_1))\n",
    "```"
   ]
  },
  {
   "cell_type": "code",
   "execution_count": 7,
   "metadata": {
    "slideshow": {
     "slide_type": "fragment"
    }
   },
   "outputs": [
    {
     "name": "stdout",
     "output_type": "stream",
     "text": [
      "<filter object at 0x103bd8be0>\n",
      "[0, 2, 4, 6, 8]\n",
      "[0, 2, 4, 6, 8]\n"
     ]
    }
   ],
   "source": [
    "# Get even elements of a list\n",
    "list_1 = [0, 1, 2, 3, 4, 5, 6, 7, 8, 9]\n",
    "list_2 = filter(lambda x: x % 2 == 0, list_1)\n",
    "\n",
    "list_2_comp = [ x for x in list_1 if x %2 == 0]\n",
    "print(list_2)\n",
    "print(list(list_2))\n",
    "print(list_2_comp)"
   ]
  },
  {
   "cell_type": "markdown",
   "metadata": {
    "collapsed": true,
    "slideshow": {
     "slide_type": "subslide"
    }
   },
   "source": [
    "## List comprehensions\n",
    "\n",
    "A very powerful and concise way to create lists is using *list comprehensions*.\n",
    "\n",
    "```python\n",
    "list_1 = [0, 1, 2, 3, 4]\n",
    "\n",
    "list_2 = [x**2 for x in list_1]\n",
    "```\n",
    "\n",
    "This is often more readable than using `map` or `filter`."
   ]
  },
  {
   "cell_type": "markdown",
   "metadata": {
    "slideshow": {
     "slide_type": "subslide"
    }
   },
   "source": [
    "# Fun Example  \n",
    "1. Let's create a list of lists using list comprehension where the inner lists are of length two and composed of random integers between one and 10 and the outer list is of length 10. (Generating a random integer between i and n can be done using ``` random.randint(i,n) ```)\n",
    "2. Any ideas on how to do this? (hint: code it like you'd say it)"
   ]
  },
  {
   "cell_type": "code",
   "execution_count": 34,
   "metadata": {
    "slideshow": {
     "slide_type": "fragment"
    }
   },
   "outputs": [
    {
     "name": "stdout",
     "output_type": "stream",
     "text": [
      "[[0, 7], [10, 5], [4, 9], [2, 10], [8, 0], [8, 8], [1, 0], [10, 2], [10, 7], [6, 10]]\n"
     ]
    }
   ],
   "source": [
    "# Fun example \n",
    "import random \n",
    "x = [[random.randint(0,10) for i in range(2)] for j in range(10)]\n",
    "print(x)"
   ]
  },
  {
   "cell_type": "markdown",
   "metadata": {
    "slideshow": {
     "slide_type": "subslide"
    }
   },
   "source": [
    "# Fun Example...\n",
    "1. Now, let's flatten this list of lists into a one dimensional list using a lambda function\n",
    "2. Any ideas on how to do this? "
   ]
  },
  {
   "cell_type": "code",
   "execution_count": 11,
   "metadata": {
    "slideshow": {
     "slide_type": "fragment"
    }
   },
   "outputs": [
    {
     "name": "stdout",
     "output_type": "stream",
     "text": [
      "[[4, 8], [5, 9], [4, 7], [0, 7], [3, 8], [0, 6], [7, 1], [0, 1], [0, 9], [8, 2]]\n"
     ]
    }
   ],
   "source": [
    "# Fun example \n",
    "import random \n",
    "x = [[random.randint(0,10) for i in range(2)] for j in range(10)]\n",
    "print(x)"
   ]
  },
  {
   "cell_type": "code",
   "execution_count": 15,
   "metadata": {
    "slideshow": {
     "slide_type": "fragment"
    }
   },
   "outputs": [
    {
     "name": "stdout",
     "output_type": "stream",
     "text": [
      "[4, 8, 5, 9, 4, 7, 0, 7, 3, 8, 0, 6, 7, 1, 0, 1, 0, 9, 8, 2]\n"
     ]
    }
   ],
   "source": [
    "flatten = lambda big_l: [sub for elem in big_l for sub in elem]\n",
    "print(flatten(x))"
   ]
  },
  {
   "cell_type": "markdown",
   "metadata": {
    "slideshow": {
     "slide_type": "subslide"
    }
   },
   "source": [
    "## Resources\n",
    "\n",
    "* Python tutorial section on [`list`][pydoc-lists]\n",
    "* Python reference section on [sequences][pydoc-sequences]\n",
    "\n",
    "[pydoc-lists]: https://docs.python.org/3/tutorial/introduction.html#lists\n",
    "[pydoc-sequences]: https://docs.python.org/3/library/stdtypes.html#sequence-types-list-tuple-range"
   ]
  },
  {
   "cell_type": "markdown",
   "metadata": {
    "slideshow": {
     "slide_type": "subslide"
    }
   },
   "source": [
    "# Aside on return types of map, filter, etc...\n",
    "#### Remember ``` map, filter, enumerate ```. These functions in fact return iterators\n",
    "##### Python supports a concept of iteration over containers (a sequence is a type of container)\n",
    "\n",
    " - What is an iterator? \n",
    "    - High-level: An iterator object representing a stream of data\n",
    "    - Low-Level: Objects that support the iterator protocol i.e. the ``` __iter__()``` and ```__next__()``` methods. Don't worry much about this, we'll come back to it later, but if your interested here is what these two functions mean:\n",
    "       - ```__iter__() ``` means that an iterator can return the iterator object itself, which is required for the object to be iterable (i.e. if one wants to use a  ``` for loop ``` etc.)\n",
    "       - ``` __next__() ``` means that an iterator object can return the next item in the container. If the container is empty, it raises a special exception ``` StopIteration ``` \n",
    "    - Okay... Why? \n",
    "       - Iterators do not store the full list in memory but calculate it \"on the go\". This is super helpful if you're processing large amounts of data     \n",
    "- **Note**: All sequence types support iteration "
   ]
  },
  {
   "cell_type": "markdown",
   "metadata": {
    "slideshow": {
     "slide_type": "slide"
    }
   },
   "source": [
    "# Exercises\n",
    "\n",
    "<br>\n",
    "Posted under Exercises section on course website: <br> <br>https://web.stanford.edu/~jacobp2/src/html/exercises.html"
   ]
  },
  {
   "cell_type": "code",
   "execution_count": null,
   "metadata": {
    "collapsed": true,
    "slideshow": {
     "slide_type": "skip"
    }
   },
   "outputs": [],
   "source": []
  }
 ],
 "metadata": {
  "celltoolbar": "Slideshow",
  "kernelspec": {
   "display_name": "Python 3",
   "language": "python",
   "name": "python3"
  },
  "language_info": {
   "codemirror_mode": {
    "name": "ipython",
    "version": 3
   },
   "file_extension": ".py",
   "mimetype": "text/x-python",
   "name": "python",
   "nbconvert_exporter": "python",
   "pygments_lexer": "ipython3",
   "version": "3.6.1"
  },
  "nbpresent": {
   "slides": {
    "933f0936-8e4d-487a-b1d2-7de7c8056959": {
     "id": "933f0936-8e4d-487a-b1d2-7de7c8056959",
     "prev": null,
     "regions": {
      "29bfbd0a-4b01-4b14-9acf-280d75ad4e02": {
       "attrs": {
        "height": 1,
        "width": 1,
        "x": -0.052023118050195334,
        "y": 0.10089331985492428
       },
       "id": "29bfbd0a-4b01-4b14-9acf-280d75ad4e02"
      }
     }
    }
   },
   "themes": {
    "default": "254e2e7f-be4a-4770-9d75-364f6733f9b5",
    "theme": {}
   }
  }
 },
 "nbformat": 4,
 "nbformat_minor": 2
}
